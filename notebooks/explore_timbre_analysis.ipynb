{
 "cells": [
  {
   "cell_type": "code",
   "execution_count": 1,
   "id": "649a5110",
   "metadata": {},
   "outputs": [
    {
     "name": "stderr",
     "output_type": "stream",
     "text": [
      "C:\\Users\\psene\\AppData\\Local\\Packages\\PythonSoftwareFoundation.Python.3.12_qbz5n2kfra8p0\\LocalCache\\local-packages\\Python312\\site-packages\\tqdm\\auto.py:21: TqdmWarning: IProgress not found. Please update jupyter and ipywidgets. See https://ipywidgets.readthedocs.io/en/stable/user_install.html\n",
      "  from .autonotebook import tqdm as notebook_tqdm\n"
     ]
    }
   ],
   "source": [
    "import pandas as pd\n",
    "import numpy as np\n",
    "import plotly.express as px\n",
    "from sklearn.preprocessing import StandardScaler\n",
    "from sklearn.decomposition import PCA\n",
    "from sklearn.manifold import TSNE\n",
    "import umap.umap_ as umap"
   ]
  },
  {
   "cell_type": "code",
   "execution_count": 2,
   "id": "9123e327",
   "metadata": {},
   "outputs": [],
   "source": [
    "# Carrega os dados extraídos do áudio\n",
    "df = pd.read_csv(\"../data/features_audio.csv\")\n",
    "\n",
    "# Extrai país e estilo a partir do nome do arquivo (assumindo padrão no nome)\n",
    "df[\"country\"] = df[\"filename\"].apply(lambda x: x.split(\"_\")[0])\n",
    "df[\"style\"] = df[\"filename\"].apply(lambda x: x.split(\"_\")[1])\n",
    "df[\"track_id\"] = df[\"filename\"].apply(lambda x: x.replace(\".wav\", \"\"))\n"
   ]
  },
  {
   "cell_type": "code",
   "execution_count": 3,
   "id": "239a41c7",
   "metadata": {},
   "outputs": [],
   "source": [
    "# Seleciona apenas colunas numéricas\n",
    "feature_cols = [col for col in df.columns if col.startswith((\"mfcc\", \"centroid\", \"rolloff\", \"zcr\", \"flatness\"))]\n",
    "X = df[feature_cols].copy()\n",
    "\n",
    "# Normaliza os dados\n",
    "scaler = StandardScaler()\n",
    "X_scaled = scaler.fit_transform(X)\n"
   ]
  },
  {
   "cell_type": "code",
   "execution_count": 4,
   "id": "98352df3",
   "metadata": {},
   "outputs": [],
   "source": [
    "pca = PCA(n_components=2)\n",
    "X_pca = pca.fit_transform(X_scaled)\n",
    "\n",
    "df[\"pca_1\"] = X_pca[:, 0]\n",
    "df[\"pca_2\"] = X_pca[:, 1]"
   ]
  },
  {
   "cell_type": "code",
   "execution_count": 5,
   "id": "978fdb61",
   "metadata": {},
   "outputs": [
    {
     "name": "stderr",
     "output_type": "stream",
     "text": [
      "C:\\Users\\psene\\AppData\\Local\\Packages\\PythonSoftwareFoundation.Python.3.12_qbz5n2kfra8p0\\LocalCache\\local-packages\\Python312\\site-packages\\joblib\\externals\\loky\\backend\\context.py:136: UserWarning: Could not find the number of physical cores for the following reason:\n",
      "[WinError 2] O sistema não pode encontrar o arquivo especificado\n",
      "Returning the number of logical cores instead. You can silence this warning by setting LOKY_MAX_CPU_COUNT to the number of cores you want to use.\n",
      "  warnings.warn(\n",
      "  File \"C:\\Users\\psene\\AppData\\Local\\Packages\\PythonSoftwareFoundation.Python.3.12_qbz5n2kfra8p0\\LocalCache\\local-packages\\Python312\\site-packages\\joblib\\externals\\loky\\backend\\context.py\", line 257, in _count_physical_cores\n",
      "    cpu_info = subprocess.run(\n",
      "               ^^^^^^^^^^^^^^^\n",
      "  File \"C:\\Program Files\\WindowsApps\\PythonSoftwareFoundation.Python.3.12_3.12.2800.0_x64__qbz5n2kfra8p0\\Lib\\subprocess.py\", line 548, in run\n",
      "    with Popen(*popenargs, **kwargs) as process:\n",
      "         ^^^^^^^^^^^^^^^^^^^^^^^^^^^\n",
      "  File \"C:\\Program Files\\WindowsApps\\PythonSoftwareFoundation.Python.3.12_3.12.2800.0_x64__qbz5n2kfra8p0\\Lib\\subprocess.py\", line 1026, in __init__\n",
      "    self._execute_child(args, executable, preexec_fn, close_fds,\n",
      "  File \"C:\\Program Files\\WindowsApps\\PythonSoftwareFoundation.Python.3.12_3.12.2800.0_x64__qbz5n2kfra8p0\\Lib\\subprocess.py\", line 1538, in _execute_child\n",
      "    hp, ht, pid, tid = _winapi.CreateProcess(executable, args,\n",
      "                       ^^^^^^^^^^^^^^^^^^^^^^^^^^^^^^^^^^^^^^^\n"
     ]
    }
   ],
   "source": [
    "tsne = TSNE(n_components=2, perplexity=5, random_state=42)\n",
    "X_tsne = tsne.fit_transform(X_scaled)\n",
    "\n",
    "df[\"tsne_1\"] = X_tsne[:, 0]\n",
    "df[\"tsne_2\"] = X_tsne[:, 1]\n"
   ]
  },
  {
   "cell_type": "code",
   "execution_count": 6,
   "id": "8411518d",
   "metadata": {},
   "outputs": [
    {
     "name": "stderr",
     "output_type": "stream",
     "text": [
      "C:\\Users\\psene\\AppData\\Local\\Packages\\PythonSoftwareFoundation.Python.3.12_qbz5n2kfra8p0\\LocalCache\\local-packages\\Python312\\site-packages\\sklearn\\utils\\deprecation.py:151: FutureWarning: 'force_all_finite' was renamed to 'ensure_all_finite' in 1.6 and will be removed in 1.8.\n",
      "  warnings.warn(\n",
      "C:\\Users\\psene\\AppData\\Local\\Packages\\PythonSoftwareFoundation.Python.3.12_qbz5n2kfra8p0\\LocalCache\\local-packages\\Python312\\site-packages\\umap\\umap_.py:1952: UserWarning: n_jobs value 1 overridden to 1 by setting random_state. Use no seed for parallelism.\n",
      "  warn(\n"
     ]
    }
   ],
   "source": [
    "reducer = umap.UMAP(n_components=2, random_state=42)\n",
    "X_umap = reducer.fit_transform(X_scaled)\n",
    "\n",
    "df[\"umap_1\"] = X_umap[:, 0]\n",
    "df[\"umap_2\"] = X_umap[:, 1]"
   ]
  },
  {
   "cell_type": "code",
   "execution_count": 7,
   "id": "f23680d7",
   "metadata": {},
   "outputs": [
    {
     "data": {
      "application/vnd.plotly.v1+json": {
       "config": {
        "plotlyServerURL": "https://plot.ly"
       },
       "data": [
        {
         "hovertemplate": "<b>%{hovertext}</b><br><br>country=brazil<br>style=bossa<br>pca_1=%{x}<br>pca_2=%{y}<extra></extra>",
         "hovertext": [
          "brazil_bossa_nova_elis_regina_águas_de_março",
          "brazil_bossa_nova_joão_gilberto_chega_de_saudade",
          "brazil_bossa_nova_nara_leão_insensatez",
          "brazil_bossa_nova_tom_jobim_wave",
          "brazil_bossa_nova_vinicius_de_moraes_garota_de_ipanema"
         ],
         "legendgroup": "brazil, bossa",
         "marker": {
          "color": "#636efa",
          "symbol": "circle"
         },
         "mode": "markers",
         "name": "brazil, bossa",
         "orientation": "v",
         "showlegend": true,
         "type": "scatter",
         "x": {
          "bdata": "TiabqZxe/j9TXSWiPJ/Vv2a9GylfPOy/oC8OU0c82L9jFATYO7YIQA==",
          "dtype": "f8"
         },
         "xaxis": "x",
         "y": {
          "bdata": "7xQYqcPv7z+CzfgrsNjpP0dk8bY4Du4/J0MKq8aU4T8o8sXPYAgBwA==",
          "dtype": "f8"
         },
         "yaxis": "y"
        },
        {
         "hovertemplate": "<b>%{hovertext}</b><br><br>country=brazil<br>style=chorinho<br>pca_1=%{x}<br>pca_2=%{y}<extra></extra>",
         "hovertext": [
          "brazil_chorinho_abel_ferreira_chorando_baixinho",
          "brazil_chorinho_jacob_do_bandolim_noites_cariocas",
          "brazil_chorinho_pixinguinha_carinhoso",
          "brazil_chorinho_waldir_azevedo_brasileirinho"
         ],
         "legendgroup": "brazil, chorinho",
         "marker": {
          "color": "#636efa",
          "symbol": "diamond"
         },
         "mode": "markers",
         "name": "brazil, chorinho",
         "orientation": "v",
         "showlegend": true,
         "type": "scatter",
         "x": {
          "bdata": "dq+bdsrkB8DgRCJy8YMDwLbDMN4A5xTAYcx+Fq64A8A=",
          "dtype": "f8"
         },
         "xaxis": "x",
         "y": {
          "bdata": "6Dm7BHNJ+L8xzYGRx3cEwEUATGPM4u8/uEmVPC8C9b8=",
          "dtype": "f8"
         },
         "yaxis": "y"
        },
        {
         "hovertemplate": "<b>%{hovertext}</b><br><br>country=brazil<br>style=funk<br>pca_1=%{x}<br>pca_2=%{y}<extra></extra>",
         "hovertext": [
          "brazil_funk_carioca_anitta_show_das_poderosas",
          "brazil_funk_carioca_ludmilla_24_horas_por_dia",
          "brazil_funk_carioca_mc_bin_laden_tá_tranquilo,_tá_favorável",
          "brazil_funk_carioca_mc_carol_não_foi_cabral",
          "brazil_funk_carioca_mc_kevinho_olha_a_explosão"
         ],
         "legendgroup": "brazil, funk",
         "marker": {
          "color": "#636efa",
          "symbol": "square"
         },
         "mode": "markers",
         "name": "brazil, funk",
         "orientation": "v",
         "showlegend": true,
         "type": "scatter",
         "x": {
          "bdata": "an/YrV27E0DGCbeKHp8TQHGSkpAe+hJA7HGo2fuxCEAeKEn3uwkVQA==",
          "dtype": "f8"
         },
         "xaxis": "x",
         "y": {
          "bdata": "aZW7Qem77T/DlY0XAUkBwOEFz4pR6uU/Mr6VKN5YDcBCtXtNvRIZQA==",
          "dtype": "f8"
         },
         "yaxis": "y"
        },
        {
         "hovertemplate": "<b>%{hovertext}</b><br><br>country=brazil<br>style=samba<br>pca_1=%{x}<br>pca_2=%{y}<extra></extra>",
         "hovertext": [
          "brazil_samba_beth_carvalho_vou_festejar",
          "brazil_samba_cartola_as_rosas_não_falam",
          "brazil_samba_martinho_da_vila_canta_canta_minha_gente",
          "brazil_samba_paulinho_da_viola_foi_um_rio_que_passou_em_minha_vida",
          "brazil_samba_zeca_pagodinho_deixa_a_vida_me_levar"
         ],
         "legendgroup": "brazil, samba",
         "marker": {
          "color": "#636efa",
          "symbol": "x"
         },
         "mode": "markers",
         "name": "brazil, samba",
         "orientation": "v",
         "showlegend": true,
         "type": "scatter",
         "x": {
          "bdata": "n45jzRKx/j/1gW9X1+HXv3zHY5jDNRZAyAxcS0L/wb8kE8Bf5XWzvw==",
          "dtype": "f8"
         },
         "xaxis": "x",
         "y": {
          "bdata": "Q7NcYoWpB8CEM0qvx1vrv/TbHeIvRvw/aJya0JXJDMBtnV1lQwvhvw==",
          "dtype": "f8"
         },
         "yaxis": "y"
        },
        {
         "hovertemplate": "<b>%{hovertext}</b><br><br>country=india<br>style=bhajan<br>pca_1=%{x}<br>pca_2=%{y}<extra></extra>",
         "hovertext": [
          "india_bhajan_anup_jalota_aisi_laagi_lagan",
          "india_bhajan_hari_om_sharan_jai_jai_ram_krishna_hari",
          "india_bhajan_jagjit_singh_hey_govind_hey_gopal",
          "india_bhajan_lata_mangeshkar_shree_krishna_govind_hare_murari",
          "india_bhajan_narendra_chanchal_o_sheronwali"
         ],
         "legendgroup": "india, bhajan",
         "marker": {
          "color": "#EF553B",
          "symbol": "cross"
         },
         "mode": "markers",
         "name": "india, bhajan",
         "orientation": "v",
         "showlegend": true,
         "type": "scatter",
         "x": {
          "bdata": "3Y3p+nVF/j9k1N0Ole3bP+Hy8gsDbwXAN5K4dPzeA0CrrJpG+CPcPw==",
          "dtype": "f8"
         },
         "xaxis": "x",
         "y": {
          "bdata": "w3JDxpvuEUCh5K2Qef0CQCqBUfYPR+e/eJj9SSU7678gw1CjXWH9Pw==",
          "dtype": "f8"
         },
         "yaxis": "y"
        },
        {
         "hovertemplate": "<b>%{hovertext}</b><br><br>country=india<br>style=bollywood<br>pca_1=%{x}<br>pca_2=%{y}<extra></extra>",
         "hovertext": [
          "india_bollywood_arijit_singh_tum_hi_ho",
          "india_bollywood_kumar_sanu_tujhe_dekha_to",
          "india_bollywood_shreya_ghoshal_teri_ore",
          "india_bollywood_sonu_nigam_kal_ho_naa_ho"
         ],
         "legendgroup": "india, bollywood",
         "marker": {
          "color": "#EF553B",
          "symbol": "circle"
         },
         "mode": "markers",
         "name": "india, bollywood",
         "orientation": "v",
         "showlegend": true,
         "type": "scatter",
         "x": {
          "bdata": "xu0sE/ea5b+iTYbRFAjWPwB4MDrJDvw/yl45LbYr+T8=",
          "dtype": "f8"
         },
         "xaxis": "x",
         "y": {
          "bdata": "mZ0PBVC9FECnt+6vCgkZQI9F7LoNRO0/Sei7VtmXAkA=",
          "dtype": "f8"
         },
         "yaxis": "y"
        },
        {
         "hovertemplate": "<b>%{hovertext}</b><br><br>country=india<br>style=classical<br>pca_1=%{x}<br>pca_2=%{y}<extra></extra>",
         "hovertext": [
          "india_classical_amjad_ali_khan_raga_durga",
          "india_classical_bhimsen_joshi_raga_miyan_ki_todi",
          "india_classical_l._subramaniam_raga_hemavati",
          "india_classical_ms_subbulakshmi_bhaja_govindam",
          "india_classical_ravi_shankar_raga_jog"
         ],
         "legendgroup": "india, classical",
         "marker": {
          "color": "#EF553B",
          "symbol": "diamond"
         },
         "mode": "markers",
         "name": "india, classical",
         "orientation": "v",
         "showlegend": true,
         "type": "scatter",
         "x": {
          "bdata": "NQy3dXHbCcBLwO8EAh4ewEMzM42dtyTAM151/+/XAcDcSjM84zLjvw==",
          "dtype": "f8"
         },
         "xaxis": "x",
         "y": {
          "bdata": "oj8jS1027j+Uj2I1oXz7vzCz7V6Guf6/9Z3u/9OI+T9e+uuR+mJnPw==",
          "dtype": "f8"
         },
         "yaxis": "y"
        },
        {
         "hovertemplate": "<b>%{hovertext}</b><br><br>country=india<br>style=folk<br>pca_1=%{x}<br>pca_2=%{y}<extra></extra>",
         "hovertext": [
          "india_folk_bombay_jayashri_kanne_kalaimane",
          "india_folk_gurdas_maan_apna_punjab",
          "india_folk_manganiyar_group_nimbooda",
          "india_folk_nooran_sisters_patakha_guddi",
          "india_folk_ranjit_bawa_jean"
         ],
         "legendgroup": "india, folk",
         "marker": {
          "color": "#EF553B",
          "symbol": "square"
         },
         "mode": "markers",
         "name": "india, folk",
         "orientation": "v",
         "showlegend": true,
         "type": "scatter",
         "x": {
          "bdata": "FUVO8qnxyD8tTfHSdWYLwBN8pUs01uG/QUfpcgjB5D/NVkgODxYFQA==",
          "dtype": "f8"
         },
         "xaxis": "x",
         "y": {
          "bdata": "TCt8oY7oDUBDUBtEvXniv1zZpA7uKPW/YVaPsfWi7r/xkLXSMGHzvw==",
          "dtype": "f8"
         },
         "yaxis": "y"
        },
        {
         "hovertemplate": "<b>%{hovertext}</b><br><br>country=japan<br>style=city<br>pca_1=%{x}<br>pca_2=%{y}<extra></extra>",
         "hovertext": [
          "japan_city_pop_anri_remember_summer_days",
          "japan_city_pop_junko_ohashi_telephone_number",
          "japan_city_pop_mariya_takeuchi_plastic_love",
          "japan_city_pop_tatsuro_yamashita_sparkle",
          "japan_city_pop_tomoko_aran_i'm_in_love"
         ],
         "legendgroup": "japan, city",
         "marker": {
          "color": "#00cc96",
          "symbol": "x"
         },
         "mode": "markers",
         "name": "japan, city",
         "orientation": "v",
         "showlegend": true,
         "type": "scatter",
         "x": {
          "bdata": "vJSnc8usAkD/DvHJGOrpP7uMg8iPwPA/HJVZYEKq/D9xcLndxmwbQA==",
          "dtype": "f8"
         },
         "xaxis": "x",
         "y": {
          "bdata": "1sP8s2//97/zF7Gw94LnP3K5M4T11Q/AnoWmhS+KCMA/HQWixUANwA==",
          "dtype": "f8"
         },
         "yaxis": "y"
        },
        {
         "hovertemplate": "<b>%{hovertext}</b><br><br>country=japan<br>style=enka<br>pca_1=%{x}<br>pca_2=%{y}<extra></extra>",
         "hovertext": [
          "japan_enka_fuyumi_sakamoto_yozakura_oshichi",
          "japan_enka_hibari_misora_kawa_no_nagare_no_yō_ni",
          "japan_enka_jero_umiyuki",
          "japan_enka_sayuri_ishikawa_amagi_goe"
         ],
         "legendgroup": "japan, enka",
         "marker": {
          "color": "#00cc96",
          "symbol": "cross"
         },
         "mode": "markers",
         "name": "japan, enka",
         "orientation": "v",
         "showlegend": true,
         "type": "scatter",
         "x": {
          "bdata": "zd/zFKunBUCVLQWmNXvcP5ZUcCX97fI/CHfgdNA2B0A=",
          "dtype": "f8"
         },
         "xaxis": "x",
         "y": {
          "bdata": "dmkV1kHnxT+kxETfu1fKP3MIZqNcAfi/O9/B2WAP6T8=",
          "dtype": "f8"
         },
         "yaxis": "y"
        },
        {
         "hovertemplate": "<b>%{hovertext}</b><br><br>country=japan<br>style=j-pop<br>pca_1=%{x}<br>pca_2=%{y}<extra></extra>",
         "hovertext": [
          "japan_j-pop_ayumi_hamasaki_voyage",
          "japan_j-pop_hikaru_utada_first_love",
          "japan_j-pop_king_and_prince_cinderella_girl",
          "japan_j-pop_namie_amuro_can_you_celebrate#",
          "japan_j-pop_nogizaka46_influencer"
         ],
         "legendgroup": "japan, j-pop",
         "marker": {
          "color": "#00cc96",
          "symbol": "circle"
         },
         "mode": "markers",
         "name": "japan, j-pop",
         "orientation": "v",
         "showlegend": true,
         "type": "scatter",
         "x": {
          "bdata": "DK0lEFd++T//wMRKWh3zPyHQ1dzWZARAsizrHXY6D8DAU2yDp8AGQA==",
          "dtype": "f8"
         },
         "xaxis": "x",
         "y": {
          "bdata": "7dhdZ6QEFUBHEt5ESdgAQHCiHqMemvC/+y9Er11n2T/egfgic84UwA==",
          "dtype": "f8"
         },
         "yaxis": "y"
        },
        {
         "hovertemplate": "<b>%{hovertext}</b><br><br>country=japan<br>style=min'yō<br>pca_1=%{x}<br>pca_2=%{y}<extra></extra>",
         "hovertext": [
          "japan_min'yō_various_aizu_bandaisan",
          "japan_min'yō_various_kuroda_bushi",
          "japan_min'yō_various_soran_bushi",
          "japan_min'yō_various_tanko_bushi",
          "japan_min'yō_various_tsugaru_jongara_bushi"
         ],
         "legendgroup": "japan, min'yō",
         "marker": {
          "color": "#00cc96",
          "symbol": "diamond"
         },
         "mode": "markers",
         "name": "japan, min'yō",
         "orientation": "v",
         "showlegend": true,
         "type": "scatter",
         "x": {
          "bdata": "nVgOErp4A0DiIZrnBjATwCzJc1TeXAFAmmTrLt1oCsC8eR2KVs/BPw==",
          "dtype": "f8"
         },
         "xaxis": "x",
         "y": {
          "bdata": "kl8jdbA7/r9qZv21vB37P5ne5xaZH9+/oBuuOv67EUAmLoAhifASwA==",
          "dtype": "f8"
         },
         "yaxis": "y"
        },
        {
         "hovertemplate": "<b>%{hovertext}</b><br><br>country=middle<br>style=east<br>pca_1=%{x}<br>pca_2=%{y}<extra></extra>",
         "hovertext": [
          "middle_east_dabke_omar_souleyman_warni_warni",
          "middle_east_maqam_oum_kalthoum_enta_omri"
         ],
         "legendgroup": "middle, east",
         "marker": {
          "color": "#ab63fa",
          "symbol": "square"
         },
         "mode": "markers",
         "name": "middle, east",
         "orientation": "v",
         "showlegend": true,
         "type": "scatter",
         "x": {
          "bdata": "QXH4RS30AEDkpHexd2Lyvw==",
          "dtype": "f8"
         },
         "xaxis": "x",
         "y": {
          "bdata": "70M5E9kQB8BoUZ+/0BHvPw==",
          "dtype": "f8"
         },
         "yaxis": "y"
        },
        {
         "hovertemplate": "<b>%{hovertext}</b><br><br>country=usa<br>style=folk<br>pca_1=%{x}<br>pca_2=%{y}<extra></extra>",
         "hovertext": [
          "usa_folk_bob_dylan_blowin'_in_the_wind",
          "usa_folk_joan_baez_diamonds_and_rust",
          "usa_folk_joni_mitchell_both_sides_now",
          "usa_folk_simon_and_garfunkel_the_sound_of_silence",
          "usa_folk_woody_guthrie_this_land_is_your_land"
         ],
         "legendgroup": "usa, folk",
         "marker": {
          "color": "#FFA15A",
          "symbol": "square"
         },
         "mode": "markers",
         "name": "usa, folk",
         "orientation": "v",
         "showlegend": true,
         "type": "scatter",
         "x": {
          "bdata": "YJ5HvemO8r8hw1RQ2xzuv6DA/1m8QgDA3OxxfR6l4T9GArg1iH8OwA==",
          "dtype": "f8"
         },
         "xaxis": "x",
         "y": {
          "bdata": "06djNt2AsT+3ZVSqNybSvwq3Q8Mnia0/D1/OXPNEwb9lgJs6808HQA==",
          "dtype": "f8"
         },
         "yaxis": "y"
        },
        {
         "hovertemplate": "<b>%{hovertext}</b><br><br>country=usa<br>style=blues<br>pca_1=%{x}<br>pca_2=%{y}<extra></extra>",
         "hovertext": [
          "usa_blues_b.b._king_the_thrill_is_gone",
          "usa_blues_etta_james_i'd_rather_go_blind",
          "usa_blues_john_lee_hooker_boom_boom",
          "usa_blues_muddy_waters_mannish_boy",
          "usa_blues_robert_johnson_cross_road_blues"
         ],
         "legendgroup": "usa, blues",
         "marker": {
          "color": "#FFA15A",
          "symbol": "x"
         },
         "mode": "markers",
         "name": "usa, blues",
         "orientation": "v",
         "showlegend": true,
         "type": "scatter",
         "x": {
          "bdata": "WHTmXgm7/D/pck8q1xTGv5oFJyMKYdE/OkQENQ9m7D+wEr60el73vw==",
          "dtype": "f8"
         },
         "xaxis": "x",
         "y": {
          "bdata": "qMhhZuGLx78kROZKIkf/P8NtlupYCgFAU1U6Mmgt/j/IRFITZfvxPw==",
          "dtype": "f8"
         },
         "yaxis": "y"
        },
        {
         "hovertemplate": "<b>%{hovertext}</b><br><br>country=usa<br>style=jazz<br>pca_1=%{x}<br>pca_2=%{y}<extra></extra>",
         "hovertext": [
          "usa_jazz_bill_evans_waltz_for_debby",
          "usa_jazz_duke_ellington_take_the_a_train",
          "usa_jazz_john_coltrane_my_favorite_things",
          "usa_jazz_miles_davis_so_what",
          "usa_jazz_thelonious_monk_round_midnight"
         ],
         "legendgroup": "usa, jazz",
         "marker": {
          "color": "#FFA15A",
          "symbol": "cross"
         },
         "mode": "markers",
         "name": "usa, jazz",
         "orientation": "v",
         "showlegend": true,
         "type": "scatter",
         "x": {
          "bdata": "OK+NTjyJE8A5DHx5+lASwEDxLzbP2gjADZ/1O0RnxL96yiDUwv8QwA==",
          "dtype": "f8"
         },
         "xaxis": "x",
         "y": {
          "bdata": "5K3aUW9eBEDbgfJBv6gSwM1RwnFyFBPAO8vsOjnK4z/XRXLTodz7Pw==",
          "dtype": "f8"
         },
         "yaxis": "y"
        },
        {
         "hovertemplate": "<b>%{hovertext}</b><br><br>country=usa<br>style=soul<br>pca_1=%{x}<br>pca_2=%{y}<extra></extra>",
         "hovertext": [
          "usa_soul_aretha_franklin_respect",
          "usa_soul_etta_james_at_last",
          "usa_soul_marvin_gaye_what's_going_on",
          "usa_soul_otis_redding_try_a_little_tenderness",
          "usa_soul_sam_cooke_a_change_is_gonna_come"
         ],
         "legendgroup": "usa, soul",
         "marker": {
          "color": "#FFA15A",
          "symbol": "circle"
         },
         "mode": "markers",
         "name": "usa, soul",
         "orientation": "v",
         "showlegend": true,
         "type": "scatter",
         "x": {
          "bdata": "TLDTaPrY5b+Y05XxMLvzvxLm2law1+G/I6ggGQyk/j+iueWgEwYHQA==",
          "dtype": "f8"
         },
         "xaxis": "x",
         "y": {
          "bdata": "wciW1wYYpb8TEpgsd7jjv/NsXQfjTQnA4vypiFAkCUCroppsEGzDPw==",
          "dtype": "f8"
         },
         "yaxis": "y"
        },
        {
         "hovertemplate": "<b>%{hovertext}</b><br><br>country=west<br>style=africa<br>pca_1=%{x}<br>pca_2=%{y}<extra></extra>",
         "hovertext": [
          "west_africa_afrobeat_fela_kuti_water_no_get_enemy",
          "west_africa_highlife_e.t._mensah_all_for_you"
         ],
         "legendgroup": "west, africa",
         "marker": {
          "color": "#19d3f3",
          "symbol": "diamond"
         },
         "mode": "markers",
         "name": "west, africa",
         "orientation": "v",
         "showlegend": true,
         "type": "scatter",
         "x": {
          "bdata": "UoX3EY4i5j/6XWH4CP8IwA==",
          "dtype": "f8"
         },
         "xaxis": "x",
         "y": {
          "bdata": "elxGX2OfC8BDyBTNhILrvw==",
          "dtype": "f8"
         },
         "yaxis": "y"
        }
       ],
       "layout": {
        "legend": {
         "title": {
          "text": "country, style"
         },
         "tracegroupgap": 0
        },
        "template": {
         "data": {
          "bar": [
           {
            "error_x": {
             "color": "#2a3f5f"
            },
            "error_y": {
             "color": "#2a3f5f"
            },
            "marker": {
             "line": {
              "color": "#E5ECF6",
              "width": 0.5
             },
             "pattern": {
              "fillmode": "overlay",
              "size": 10,
              "solidity": 0.2
             }
            },
            "type": "bar"
           }
          ],
          "barpolar": [
           {
            "marker": {
             "line": {
              "color": "#E5ECF6",
              "width": 0.5
             },
             "pattern": {
              "fillmode": "overlay",
              "size": 10,
              "solidity": 0.2
             }
            },
            "type": "barpolar"
           }
          ],
          "carpet": [
           {
            "aaxis": {
             "endlinecolor": "#2a3f5f",
             "gridcolor": "white",
             "linecolor": "white",
             "minorgridcolor": "white",
             "startlinecolor": "#2a3f5f"
            },
            "baxis": {
             "endlinecolor": "#2a3f5f",
             "gridcolor": "white",
             "linecolor": "white",
             "minorgridcolor": "white",
             "startlinecolor": "#2a3f5f"
            },
            "type": "carpet"
           }
          ],
          "choropleth": [
           {
            "colorbar": {
             "outlinewidth": 0,
             "ticks": ""
            },
            "type": "choropleth"
           }
          ],
          "contour": [
           {
            "colorbar": {
             "outlinewidth": 0,
             "ticks": ""
            },
            "colorscale": [
             [
              0,
              "#0d0887"
             ],
             [
              0.1111111111111111,
              "#46039f"
             ],
             [
              0.2222222222222222,
              "#7201a8"
             ],
             [
              0.3333333333333333,
              "#9c179e"
             ],
             [
              0.4444444444444444,
              "#bd3786"
             ],
             [
              0.5555555555555556,
              "#d8576b"
             ],
             [
              0.6666666666666666,
              "#ed7953"
             ],
             [
              0.7777777777777778,
              "#fb9f3a"
             ],
             [
              0.8888888888888888,
              "#fdca26"
             ],
             [
              1,
              "#f0f921"
             ]
            ],
            "type": "contour"
           }
          ],
          "contourcarpet": [
           {
            "colorbar": {
             "outlinewidth": 0,
             "ticks": ""
            },
            "type": "contourcarpet"
           }
          ],
          "heatmap": [
           {
            "colorbar": {
             "outlinewidth": 0,
             "ticks": ""
            },
            "colorscale": [
             [
              0,
              "#0d0887"
             ],
             [
              0.1111111111111111,
              "#46039f"
             ],
             [
              0.2222222222222222,
              "#7201a8"
             ],
             [
              0.3333333333333333,
              "#9c179e"
             ],
             [
              0.4444444444444444,
              "#bd3786"
             ],
             [
              0.5555555555555556,
              "#d8576b"
             ],
             [
              0.6666666666666666,
              "#ed7953"
             ],
             [
              0.7777777777777778,
              "#fb9f3a"
             ],
             [
              0.8888888888888888,
              "#fdca26"
             ],
             [
              1,
              "#f0f921"
             ]
            ],
            "type": "heatmap"
           }
          ],
          "histogram": [
           {
            "marker": {
             "pattern": {
              "fillmode": "overlay",
              "size": 10,
              "solidity": 0.2
             }
            },
            "type": "histogram"
           }
          ],
          "histogram2d": [
           {
            "colorbar": {
             "outlinewidth": 0,
             "ticks": ""
            },
            "colorscale": [
             [
              0,
              "#0d0887"
             ],
             [
              0.1111111111111111,
              "#46039f"
             ],
             [
              0.2222222222222222,
              "#7201a8"
             ],
             [
              0.3333333333333333,
              "#9c179e"
             ],
             [
              0.4444444444444444,
              "#bd3786"
             ],
             [
              0.5555555555555556,
              "#d8576b"
             ],
             [
              0.6666666666666666,
              "#ed7953"
             ],
             [
              0.7777777777777778,
              "#fb9f3a"
             ],
             [
              0.8888888888888888,
              "#fdca26"
             ],
             [
              1,
              "#f0f921"
             ]
            ],
            "type": "histogram2d"
           }
          ],
          "histogram2dcontour": [
           {
            "colorbar": {
             "outlinewidth": 0,
             "ticks": ""
            },
            "colorscale": [
             [
              0,
              "#0d0887"
             ],
             [
              0.1111111111111111,
              "#46039f"
             ],
             [
              0.2222222222222222,
              "#7201a8"
             ],
             [
              0.3333333333333333,
              "#9c179e"
             ],
             [
              0.4444444444444444,
              "#bd3786"
             ],
             [
              0.5555555555555556,
              "#d8576b"
             ],
             [
              0.6666666666666666,
              "#ed7953"
             ],
             [
              0.7777777777777778,
              "#fb9f3a"
             ],
             [
              0.8888888888888888,
              "#fdca26"
             ],
             [
              1,
              "#f0f921"
             ]
            ],
            "type": "histogram2dcontour"
           }
          ],
          "mesh3d": [
           {
            "colorbar": {
             "outlinewidth": 0,
             "ticks": ""
            },
            "type": "mesh3d"
           }
          ],
          "parcoords": [
           {
            "line": {
             "colorbar": {
              "outlinewidth": 0,
              "ticks": ""
             }
            },
            "type": "parcoords"
           }
          ],
          "pie": [
           {
            "automargin": true,
            "type": "pie"
           }
          ],
          "scatter": [
           {
            "fillpattern": {
             "fillmode": "overlay",
             "size": 10,
             "solidity": 0.2
            },
            "type": "scatter"
           }
          ],
          "scatter3d": [
           {
            "line": {
             "colorbar": {
              "outlinewidth": 0,
              "ticks": ""
             }
            },
            "marker": {
             "colorbar": {
              "outlinewidth": 0,
              "ticks": ""
             }
            },
            "type": "scatter3d"
           }
          ],
          "scattercarpet": [
           {
            "marker": {
             "colorbar": {
              "outlinewidth": 0,
              "ticks": ""
             }
            },
            "type": "scattercarpet"
           }
          ],
          "scattergeo": [
           {
            "marker": {
             "colorbar": {
              "outlinewidth": 0,
              "ticks": ""
             }
            },
            "type": "scattergeo"
           }
          ],
          "scattergl": [
           {
            "marker": {
             "colorbar": {
              "outlinewidth": 0,
              "ticks": ""
             }
            },
            "type": "scattergl"
           }
          ],
          "scattermap": [
           {
            "marker": {
             "colorbar": {
              "outlinewidth": 0,
              "ticks": ""
             }
            },
            "type": "scattermap"
           }
          ],
          "scattermapbox": [
           {
            "marker": {
             "colorbar": {
              "outlinewidth": 0,
              "ticks": ""
             }
            },
            "type": "scattermapbox"
           }
          ],
          "scatterpolar": [
           {
            "marker": {
             "colorbar": {
              "outlinewidth": 0,
              "ticks": ""
             }
            },
            "type": "scatterpolar"
           }
          ],
          "scatterpolargl": [
           {
            "marker": {
             "colorbar": {
              "outlinewidth": 0,
              "ticks": ""
             }
            },
            "type": "scatterpolargl"
           }
          ],
          "scatterternary": [
           {
            "marker": {
             "colorbar": {
              "outlinewidth": 0,
              "ticks": ""
             }
            },
            "type": "scatterternary"
           }
          ],
          "surface": [
           {
            "colorbar": {
             "outlinewidth": 0,
             "ticks": ""
            },
            "colorscale": [
             [
              0,
              "#0d0887"
             ],
             [
              0.1111111111111111,
              "#46039f"
             ],
             [
              0.2222222222222222,
              "#7201a8"
             ],
             [
              0.3333333333333333,
              "#9c179e"
             ],
             [
              0.4444444444444444,
              "#bd3786"
             ],
             [
              0.5555555555555556,
              "#d8576b"
             ],
             [
              0.6666666666666666,
              "#ed7953"
             ],
             [
              0.7777777777777778,
              "#fb9f3a"
             ],
             [
              0.8888888888888888,
              "#fdca26"
             ],
             [
              1,
              "#f0f921"
             ]
            ],
            "type": "surface"
           }
          ],
          "table": [
           {
            "cells": {
             "fill": {
              "color": "#EBF0F8"
             },
             "line": {
              "color": "white"
             }
            },
            "header": {
             "fill": {
              "color": "#C8D4E3"
             },
             "line": {
              "color": "white"
             }
            },
            "type": "table"
           }
          ]
         },
         "layout": {
          "annotationdefaults": {
           "arrowcolor": "#2a3f5f",
           "arrowhead": 0,
           "arrowwidth": 1
          },
          "autotypenumbers": "strict",
          "coloraxis": {
           "colorbar": {
            "outlinewidth": 0,
            "ticks": ""
           }
          },
          "colorscale": {
           "diverging": [
            [
             0,
             "#8e0152"
            ],
            [
             0.1,
             "#c51b7d"
            ],
            [
             0.2,
             "#de77ae"
            ],
            [
             0.3,
             "#f1b6da"
            ],
            [
             0.4,
             "#fde0ef"
            ],
            [
             0.5,
             "#f7f7f7"
            ],
            [
             0.6,
             "#e6f5d0"
            ],
            [
             0.7,
             "#b8e186"
            ],
            [
             0.8,
             "#7fbc41"
            ],
            [
             0.9,
             "#4d9221"
            ],
            [
             1,
             "#276419"
            ]
           ],
           "sequential": [
            [
             0,
             "#0d0887"
            ],
            [
             0.1111111111111111,
             "#46039f"
            ],
            [
             0.2222222222222222,
             "#7201a8"
            ],
            [
             0.3333333333333333,
             "#9c179e"
            ],
            [
             0.4444444444444444,
             "#bd3786"
            ],
            [
             0.5555555555555556,
             "#d8576b"
            ],
            [
             0.6666666666666666,
             "#ed7953"
            ],
            [
             0.7777777777777778,
             "#fb9f3a"
            ],
            [
             0.8888888888888888,
             "#fdca26"
            ],
            [
             1,
             "#f0f921"
            ]
           ],
           "sequentialminus": [
            [
             0,
             "#0d0887"
            ],
            [
             0.1111111111111111,
             "#46039f"
            ],
            [
             0.2222222222222222,
             "#7201a8"
            ],
            [
             0.3333333333333333,
             "#9c179e"
            ],
            [
             0.4444444444444444,
             "#bd3786"
            ],
            [
             0.5555555555555556,
             "#d8576b"
            ],
            [
             0.6666666666666666,
             "#ed7953"
            ],
            [
             0.7777777777777778,
             "#fb9f3a"
            ],
            [
             0.8888888888888888,
             "#fdca26"
            ],
            [
             1,
             "#f0f921"
            ]
           ]
          },
          "colorway": [
           "#636efa",
           "#EF553B",
           "#00cc96",
           "#ab63fa",
           "#FFA15A",
           "#19d3f3",
           "#FF6692",
           "#B6E880",
           "#FF97FF",
           "#FECB52"
          ],
          "font": {
           "color": "#2a3f5f"
          },
          "geo": {
           "bgcolor": "white",
           "lakecolor": "white",
           "landcolor": "#E5ECF6",
           "showlakes": true,
           "showland": true,
           "subunitcolor": "white"
          },
          "hoverlabel": {
           "align": "left"
          },
          "hovermode": "closest",
          "mapbox": {
           "style": "light"
          },
          "paper_bgcolor": "white",
          "plot_bgcolor": "#E5ECF6",
          "polar": {
           "angularaxis": {
            "gridcolor": "white",
            "linecolor": "white",
            "ticks": ""
           },
           "bgcolor": "#E5ECF6",
           "radialaxis": {
            "gridcolor": "white",
            "linecolor": "white",
            "ticks": ""
           }
          },
          "scene": {
           "xaxis": {
            "backgroundcolor": "#E5ECF6",
            "gridcolor": "white",
            "gridwidth": 2,
            "linecolor": "white",
            "showbackground": true,
            "ticks": "",
            "zerolinecolor": "white"
           },
           "yaxis": {
            "backgroundcolor": "#E5ECF6",
            "gridcolor": "white",
            "gridwidth": 2,
            "linecolor": "white",
            "showbackground": true,
            "ticks": "",
            "zerolinecolor": "white"
           },
           "zaxis": {
            "backgroundcolor": "#E5ECF6",
            "gridcolor": "white",
            "gridwidth": 2,
            "linecolor": "white",
            "showbackground": true,
            "ticks": "",
            "zerolinecolor": "white"
           }
          },
          "shapedefaults": {
           "line": {
            "color": "#2a3f5f"
           }
          },
          "ternary": {
           "aaxis": {
            "gridcolor": "white",
            "linecolor": "white",
            "ticks": ""
           },
           "baxis": {
            "gridcolor": "white",
            "linecolor": "white",
            "ticks": ""
           },
           "bgcolor": "#E5ECF6",
           "caxis": {
            "gridcolor": "white",
            "linecolor": "white",
            "ticks": ""
           }
          },
          "title": {
           "x": 0.05
          },
          "xaxis": {
           "automargin": true,
           "gridcolor": "white",
           "linecolor": "white",
           "ticks": "",
           "title": {
            "standoff": 15
           },
           "zerolinecolor": "white",
           "zerolinewidth": 2
          },
          "yaxis": {
           "automargin": true,
           "gridcolor": "white",
           "linecolor": "white",
           "ticks": "",
           "title": {
            "standoff": 15
           },
           "zerolinecolor": "white",
           "zerolinewidth": 2
          }
         }
        },
        "title": {
         "text": "Timbre Space - PCA Projection"
        },
        "xaxis": {
         "anchor": "y",
         "domain": [
          0,
          1
         ],
         "title": {
          "text": "pca_1"
         }
        },
        "yaxis": {
         "anchor": "x",
         "domain": [
          0,
          1
         ],
         "title": {
          "text": "pca_2"
         }
        }
       }
      }
     },
     "metadata": {},
     "output_type": "display_data"
    }
   ],
   "source": [
    "fig = px.scatter(df, x=\"pca_1\", y=\"pca_2\",\n",
    "                 color=\"country\", symbol=\"style\",\n",
    "                 hover_name=\"track_id\",\n",
    "                 title=\"Timbre Space - PCA Projection\")\n",
    "fig.show()\n"
   ]
  },
  {
   "cell_type": "code",
   "execution_count": 8,
   "id": "e099e197",
   "metadata": {},
   "outputs": [
    {
     "data": {
      "application/vnd.plotly.v1+json": {
       "config": {
        "plotlyServerURL": "https://plot.ly"
       },
       "data": [
        {
         "hovertemplate": "<b>%{hovertext}</b><br><br>country=brazil<br>style=bossa<br>tsne_1=%{x}<br>tsne_2=%{y}<extra></extra>",
         "hovertext": [
          "brazil_bossa_nova_elis_regina_águas_de_março",
          "brazil_bossa_nova_joão_gilberto_chega_de_saudade",
          "brazil_bossa_nova_nara_leão_insensatez",
          "brazil_bossa_nova_tom_jobim_wave",
          "brazil_bossa_nova_vinicius_de_moraes_garota_de_ipanema"
         ],
         "legendgroup": "brazil, bossa",
         "marker": {
          "color": "#636efa",
          "symbol": "circle"
         },
         "mode": "markers",
         "name": "brazil, bossa",
         "orientation": "v",
         "showlegend": true,
         "type": "scatter",
         "x": {
          "bdata": "NB/LQOSqZ0HPXn9BZpATQSK3tME=",
          "dtype": "f4"
         },
         "xaxis": "x",
         "y": {
          "bdata": "b7G4QR77qUFuU/JBTGs9wXqQrMA=",
          "dtype": "f4"
         },
         "yaxis": "y"
        },
        {
         "hovertemplate": "<b>%{hovertext}</b><br><br>country=brazil<br>style=chorinho<br>tsne_1=%{x}<br>tsne_2=%{y}<extra></extra>",
         "hovertext": [
          "brazil_chorinho_abel_ferreira_chorando_baixinho",
          "brazil_chorinho_jacob_do_bandolim_noites_cariocas",
          "brazil_chorinho_pixinguinha_carinhoso",
          "brazil_chorinho_waldir_azevedo_brasileirinho"
         ],
         "legendgroup": "brazil, chorinho",
         "marker": {
          "color": "#636efa",
          "symbol": "diamond"
         },
         "mode": "markers",
         "name": "brazil, chorinho",
         "orientation": "v",
         "showlegend": true,
         "type": "scatter",
         "x": {
          "bdata": "nuatQK4r20HwoNRAf3yDPw==",
          "dtype": "f4"
         },
         "xaxis": "x",
         "y": {
          "bdata": "vI+cwV6gDkIuVBHCW82ZwQ==",
          "dtype": "f4"
         },
         "yaxis": "y"
        },
        {
         "hovertemplate": "<b>%{hovertext}</b><br><br>country=brazil<br>style=funk<br>tsne_1=%{x}<br>tsne_2=%{y}<extra></extra>",
         "hovertext": [
          "brazil_funk_carioca_anitta_show_das_poderosas",
          "brazil_funk_carioca_ludmilla_24_horas_por_dia",
          "brazil_funk_carioca_mc_bin_laden_tá_tranquilo,_tá_favorável",
          "brazil_funk_carioca_mc_carol_não_foi_cabral",
          "brazil_funk_carioca_mc_kevinho_olha_a_explosão"
         ],
         "legendgroup": "brazil, funk",
         "marker": {
          "color": "#636efa",
          "symbol": "square"
         },
         "mode": "markers",
         "name": "brazil, funk",
         "orientation": "v",
         "showlegend": true,
         "type": "scatter",
         "x": {
          "bdata": "vb9BQD9T2sFkuy7BcE3wwWdmuUE=",
          "dtype": "f4"
         },
         "xaxis": "x",
         "y": {
          "bdata": "kguxQWrl7j/wNVlBtTDEQOLfkkA=",
          "dtype": "f4"
         },
         "yaxis": "y"
        },
        {
         "hovertemplate": "<b>%{hovertext}</b><br><br>country=brazil<br>style=samba<br>tsne_1=%{x}<br>tsne_2=%{y}<extra></extra>",
         "hovertext": [
          "brazil_samba_beth_carvalho_vou_festejar",
          "brazil_samba_cartola_as_rosas_não_falam",
          "brazil_samba_martinho_da_vila_canta_canta_minha_gente",
          "brazil_samba_paulinho_da_viola_foi_um_rio_que_passou_em_minha_vida",
          "brazil_samba_zeca_pagodinho_deixa_a_vida_me_levar"
         ],
         "legendgroup": "brazil, samba",
         "marker": {
          "color": "#636efa",
          "symbol": "x"
         },
         "mode": "markers",
         "name": "brazil, samba",
         "orientation": "v",
         "showlegend": true,
         "type": "scatter",
         "x": {
          "bdata": "15bkwb1nj0FPXvq/XH6xwehWzMA=",
          "dtype": "f4"
         },
         "xaxis": "x",
         "y": {
          "bdata": "Ko/2QH2ms0Gpl6JBjENowR9GEcE=",
          "dtype": "f4"
         },
         "yaxis": "y"
        },
        {
         "hovertemplate": "<b>%{hovertext}</b><br><br>country=india<br>style=bhajan<br>tsne_1=%{x}<br>tsne_2=%{y}<extra></extra>",
         "hovertext": [
          "india_bhajan_anup_jalota_aisi_laagi_lagan",
          "india_bhajan_hari_om_sharan_jai_jai_ram_krishna_hari",
          "india_bhajan_jagjit_singh_hey_govind_hey_gopal",
          "india_bhajan_lata_mangeshkar_shree_krishna_govind_hare_murari",
          "india_bhajan_narendra_chanchal_o_sheronwali"
         ],
         "legendgroup": "india, bhajan",
         "marker": {
          "color": "#EF553B",
          "symbol": "cross"
         },
         "mode": "markers",
         "name": "india, bhajan",
         "orientation": "v",
         "showlegend": true,
         "type": "scatter",
         "x": {
          "bdata": "LLqkQXiMhkFQ5OxBIGPCwb2KekA=",
          "dtype": "f4"
         },
         "xaxis": "x",
         "y": {
          "bdata": "c13IP6Q2lD9jSxBCHGAeQVwznMA=",
          "dtype": "f4"
         },
         "yaxis": "y"
        },
        {
         "hovertemplate": "<b>%{hovertext}</b><br><br>country=india<br>style=bollywood<br>tsne_1=%{x}<br>tsne_2=%{y}<extra></extra>",
         "hovertext": [
          "india_bollywood_arijit_singh_tum_hi_ho",
          "india_bollywood_kumar_sanu_tujhe_dekha_to",
          "india_bollywood_shreya_ghoshal_teri_ore",
          "india_bollywood_sonu_nigam_kal_ho_naa_ho"
         ],
         "legendgroup": "india, bollywood",
         "marker": {
          "color": "#EF553B",
          "symbol": "circle"
         },
         "mode": "markers",
         "name": "india, bollywood",
         "orientation": "v",
         "showlegend": true,
         "type": "scatter",
         "x": {
          "bdata": "+1qYQd7tlUEPb4nAduAsQQ==",
          "dtype": "f4"
         },
         "xaxis": "x",
         "y": {
          "bdata": "Rp0/wGgvpMAFpQZBNbYawQ==",
          "dtype": "f4"
         },
         "yaxis": "y"
        },
        {
         "hovertemplate": "<b>%{hovertext}</b><br><br>country=india<br>style=classical<br>tsne_1=%{x}<br>tsne_2=%{y}<extra></extra>",
         "hovertext": [
          "india_classical_amjad_ali_khan_raga_durga",
          "india_classical_bhimsen_joshi_raga_miyan_ki_todi",
          "india_classical_l._subramaniam_raga_hemavati",
          "india_classical_ms_subbulakshmi_bhaja_govindam",
          "india_classical_ravi_shankar_raga_jog"
         ],
         "legendgroup": "india, classical",
         "marker": {
          "color": "#EF553B",
          "symbol": "diamond"
         },
         "mode": "markers",
         "name": "india, classical",
         "orientation": "v",
         "showlegend": true,
         "type": "scatter",
         "x": {
          "bdata": "BA8/QYYx5kFS8PhBo2FxQfiickE=",
          "dtype": "f4"
         },
         "xaxis": "x",
         "y": {
          "bdata": "rysmwu7AtUHXi7JBgq6wwZP9bkE=",
          "dtype": "f4"
         },
         "yaxis": "y"
        },
        {
         "hovertemplate": "<b>%{hovertext}</b><br><br>country=india<br>style=folk<br>tsne_1=%{x}<br>tsne_2=%{y}<extra></extra>",
         "hovertext": [
          "india_folk_bombay_jayashri_kanne_kalaimane",
          "india_folk_gurdas_maan_apna_punjab",
          "india_folk_manganiyar_group_nimbooda",
          "india_folk_nooran_sisters_patakha_guddi",
          "india_folk_ranjit_bawa_jean"
         ],
         "legendgroup": "india, folk",
         "marker": {
          "color": "#EF553B",
          "symbol": "square"
         },
         "mode": "markers",
         "name": "india, folk",
         "orientation": "v",
         "showlegend": true,
         "type": "scatter",
         "x": {
          "bdata": "hrBqQUMGLUEs143BF0ylwIbAs8E=",
          "dtype": "f4"
         },
         "xaxis": "x",
         "y": {
          "bdata": "/pbvwFvsrsENVaxBcGVXwSwmy0A=",
          "dtype": "f4"
         },
         "yaxis": "y"
        },
        {
         "hovertemplate": "<b>%{hovertext}</b><br><br>country=japan<br>style=city<br>tsne_1=%{x}<br>tsne_2=%{y}<extra></extra>",
         "hovertext": [
          "japan_city_pop_anri_remember_summer_days",
          "japan_city_pop_junko_ohashi_telephone_number",
          "japan_city_pop_mariya_takeuchi_plastic_love",
          "japan_city_pop_tatsuro_yamashita_sparkle",
          "japan_city_pop_tomoko_aran_i'm_in_love"
         ],
         "legendgroup": "japan, city",
         "marker": {
          "color": "#00cc96",
          "symbol": "x"
         },
         "mode": "markers",
         "name": "japan, city",
         "orientation": "v",
         "showlegend": true,
         "type": "scatter",
         "x": {
          "bdata": "MDa5wTManj9kNbHBzBuXwZqq4cE=",
          "dtype": "f4"
         },
         "xaxis": "x",
         "y": {
          "bdata": "y3hQQLH2zMD+jgbBq+bwQMBW278=",
          "dtype": "f4"
         },
         "yaxis": "y"
        },
        {
         "hovertemplate": "<b>%{hovertext}</b><br><br>country=japan<br>style=enka<br>tsne_1=%{x}<br>tsne_2=%{y}<extra></extra>",
         "hovertext": [
          "japan_enka_fuyumi_sakamoto_yozakura_oshichi",
          "japan_enka_hibari_misora_kawa_no_nagare_no_yō_ni",
          "japan_enka_jero_umiyuki",
          "japan_enka_sayuri_ishikawa_amagi_goe"
         ],
         "legendgroup": "japan, enka",
         "marker": {
          "color": "#00cc96",
          "symbol": "cross"
         },
         "mode": "markers",
         "name": "japan, enka",
         "orientation": "v",
         "showlegend": true,
         "type": "scatter",
         "x": {
          "bdata": "8NP4wHvhuL8zCTzB1Ze3wA==",
          "dtype": "f4"
         },
         "xaxis": "x",
         "y": {
          "bdata": "p2pBPww31EAllP9AYEgdQA==",
          "dtype": "f4"
         },
         "yaxis": "y"
        },
        {
         "hovertemplate": "<b>%{hovertext}</b><br><br>country=japan<br>style=j-pop<br>tsne_1=%{x}<br>tsne_2=%{y}<extra></extra>",
         "hovertext": [
          "japan_j-pop_ayumi_hamasaki_voyage",
          "japan_j-pop_hikaru_utada_first_love",
          "japan_j-pop_king_and_prince_cinderella_girl",
          "japan_j-pop_namie_amuro_can_you_celebrate#",
          "japan_j-pop_nogizaka46_influencer"
         ],
         "legendgroup": "japan, j-pop",
         "marker": {
          "color": "#00cc96",
          "symbol": "circle"
         },
         "mode": "markers",
         "name": "japan, j-pop",
         "orientation": "v",
         "showlegend": true,
         "type": "scatter",
         "x": {
          "bdata": "K4xhQe4oFkGKbWjBm7fAQb/qhME=",
          "dtype": "f4"
         },
         "xaxis": "x",
         "y": {
          "bdata": "rSglQCNO3UFK9yVBxwu/QZz9n0A=",
          "dtype": "f4"
         },
         "yaxis": "y"
        },
        {
         "hovertemplate": "<b>%{hovertext}</b><br><br>country=japan<br>style=min'yō<br>tsne_1=%{x}<br>tsne_2=%{y}<extra></extra>",
         "hovertext": [
          "japan_min'yō_various_aizu_bandaisan",
          "japan_min'yō_various_kuroda_bushi",
          "japan_min'yō_various_soran_bushi",
          "japan_min'yō_various_tanko_bushi",
          "japan_min'yō_various_tsugaru_jongara_bushi"
         ],
         "legendgroup": "japan, min'yō",
         "marker": {
          "color": "#00cc96",
          "symbol": "diamond"
         },
         "mode": "markers",
         "name": "japan, min'yō",
         "orientation": "v",
         "showlegend": true,
         "type": "scatter",
         "x": {
          "bdata": "GkQCwmAdCUFjmV/BvQ2UQV+KF8I=",
          "dtype": "f4"
         },
         "xaxis": "x",
         "y": {
          "bdata": "PexWQIWw/cHU25hBFSGuwZy7E0E=",
          "dtype": "f4"
         },
         "yaxis": "y"
        },
        {
         "hovertemplate": "<b>%{hovertext}</b><br><br>country=middle<br>style=east<br>tsne_1=%{x}<br>tsne_2=%{y}<extra></extra>",
         "hovertext": [
          "middle_east_dabke_omar_souleyman_warni_warni",
          "middle_east_maqam_oum_kalthoum_enta_omri"
         ],
         "legendgroup": "middle, east",
         "marker": {
          "color": "#ab63fa",
          "symbol": "square"
         },
         "mode": "markers",
         "name": "middle, east",
         "orientation": "v",
         "showlegend": true,
         "type": "scatter",
         "x": {
          "bdata": "DOjywbLUE0A=",
          "dtype": "f4"
         },
         "xaxis": "x",
         "y": {
          "bdata": "n6s0QTIKLkE=",
          "dtype": "f4"
         },
         "yaxis": "y"
        },
        {
         "hovertemplate": "<b>%{hovertext}</b><br><br>country=usa<br>style=folk<br>tsne_1=%{x}<br>tsne_2=%{y}<extra></extra>",
         "hovertext": [
          "usa_folk_bob_dylan_blowin'_in_the_wind",
          "usa_folk_joan_baez_diamonds_and_rust",
          "usa_folk_joni_mitchell_both_sides_now",
          "usa_folk_simon_and_garfunkel_the_sound_of_silence",
          "usa_folk_woody_guthrie_this_land_is_your_land"
         ],
         "legendgroup": "usa, folk",
         "marker": {
          "color": "#FFA15A",
          "symbol": "square"
         },
         "mode": "markers",
         "name": "usa, folk",
         "orientation": "v",
         "showlegend": true,
         "type": "scatter",
         "x": {
          "bdata": "5ltfQXqLVcDRyolBEOw2QZwPCUA=",
          "dtype": "f4"
         },
         "xaxis": "x",
         "y": {
          "bdata": "6+bDQUUVMcEwy9RBiju/QQsKDcI=",
          "dtype": "f4"
         },
         "yaxis": "y"
        },
        {
         "hovertemplate": "<b>%{hovertext}</b><br><br>country=usa<br>style=blues<br>tsne_1=%{x}<br>tsne_2=%{y}<extra></extra>",
         "hovertext": [
          "usa_blues_b.b._king_the_thrill_is_gone",
          "usa_blues_etta_james_i'd_rather_go_blind",
          "usa_blues_john_lee_hooker_boom_boom",
          "usa_blues_muddy_waters_mannish_boy",
          "usa_blues_robert_johnson_cross_road_blues"
         ],
         "legendgroup": "usa, blues",
         "marker": {
          "color": "#FFA15A",
          "symbol": "x"
         },
         "mode": "markers",
         "name": "usa, blues",
         "orientation": "v",
         "showlegend": true,
         "type": "scatter",
         "x": {
          "bdata": "lVIpwDY01D/Ke8ZAYQl3QNH6LUE=",
          "dtype": "f4"
         },
         "xaxis": "x",
         "y": {
          "bdata": "jG3uQVQO70AqrfxAIAKQQOmNcsE=",
          "dtype": "f4"
         },
         "yaxis": "y"
        },
        {
         "hovertemplate": "<b>%{hovertext}</b><br><br>country=usa<br>style=jazz<br>tsne_1=%{x}<br>tsne_2=%{y}<extra></extra>",
         "hovertext": [
          "usa_jazz_bill_evans_waltz_for_debby",
          "usa_jazz_duke_ellington_take_the_a_train",
          "usa_jazz_john_coltrane_my_favorite_things",
          "usa_jazz_miles_davis_so_what",
          "usa_jazz_thelonious_monk_round_midnight"
         ],
         "legendgroup": "usa, jazz",
         "marker": {
          "color": "#FFA15A",
          "symbol": "cross"
         },
         "mode": "markers",
         "name": "usa, jazz",
         "orientation": "v",
         "showlegend": true,
         "type": "scatter",
         "x": {
          "bdata": "S58hQTQbdcFnUZHBH1GCwCr020A=",
          "dtype": "f4"
         },
         "xaxis": "x",
         "y": {
          "bdata": "Pz4hwr8do8EfI4zBivUCQtVZCMI=",
          "dtype": "f4"
         },
         "yaxis": "y"
        },
        {
         "hovertemplate": "<b>%{hovertext}</b><br><br>country=usa<br>style=soul<br>tsne_1=%{x}<br>tsne_2=%{y}<extra></extra>",
         "hovertext": [
          "usa_soul_aretha_franklin_respect",
          "usa_soul_etta_james_at_last",
          "usa_soul_marvin_gaye_what's_going_on",
          "usa_soul_otis_redding_try_a_little_tenderness",
          "usa_soul_sam_cooke_a_change_is_gonna_come"
         ],
         "legendgroup": "usa, soul",
         "marker": {
          "color": "#FFA15A",
          "symbol": "circle"
         },
         "mode": "markers",
         "name": "usa, soul",
         "orientation": "v",
         "showlegend": true,
         "type": "scatter",
         "x": {
          "bdata": "R87sP9Z/Xr8N2qTBZd0fwEO1h8A=",
          "dtype": "f4"
         },
         "xaxis": "x",
         "y": {
          "bdata": "a+tjwSHtO8HwmU7BiTqnPjtxj0E=",
          "dtype": "f4"
         },
         "yaxis": "y"
        },
        {
         "hovertemplate": "<b>%{hovertext}</b><br><br>country=west<br>style=africa<br>tsne_1=%{x}<br>tsne_2=%{y}<extra></extra>",
         "hovertext": [
          "west_africa_afrobeat_fela_kuti_water_no_get_enemy",
          "west_africa_highlife_e.t._mensah_all_for_you"
         ],
         "legendgroup": "west, africa",
         "marker": {
          "color": "#19d3f3",
          "symbol": "diamond"
         },
         "mode": "markers",
         "name": "west, africa",
         "orientation": "v",
         "showlegend": true,
         "type": "scatter",
         "x": {
          "bdata": "W1LLwfcHAEE=",
          "dtype": "f4"
         },
         "xaxis": "x",
         "y": {
          "bdata": "K5Rvwe4YqsE=",
          "dtype": "f4"
         },
         "yaxis": "y"
        }
       ],
       "layout": {
        "legend": {
         "title": {
          "text": "country, style"
         },
         "tracegroupgap": 0
        },
        "template": {
         "data": {
          "bar": [
           {
            "error_x": {
             "color": "#2a3f5f"
            },
            "error_y": {
             "color": "#2a3f5f"
            },
            "marker": {
             "line": {
              "color": "#E5ECF6",
              "width": 0.5
             },
             "pattern": {
              "fillmode": "overlay",
              "size": 10,
              "solidity": 0.2
             }
            },
            "type": "bar"
           }
          ],
          "barpolar": [
           {
            "marker": {
             "line": {
              "color": "#E5ECF6",
              "width": 0.5
             },
             "pattern": {
              "fillmode": "overlay",
              "size": 10,
              "solidity": 0.2
             }
            },
            "type": "barpolar"
           }
          ],
          "carpet": [
           {
            "aaxis": {
             "endlinecolor": "#2a3f5f",
             "gridcolor": "white",
             "linecolor": "white",
             "minorgridcolor": "white",
             "startlinecolor": "#2a3f5f"
            },
            "baxis": {
             "endlinecolor": "#2a3f5f",
             "gridcolor": "white",
             "linecolor": "white",
             "minorgridcolor": "white",
             "startlinecolor": "#2a3f5f"
            },
            "type": "carpet"
           }
          ],
          "choropleth": [
           {
            "colorbar": {
             "outlinewidth": 0,
             "ticks": ""
            },
            "type": "choropleth"
           }
          ],
          "contour": [
           {
            "colorbar": {
             "outlinewidth": 0,
             "ticks": ""
            },
            "colorscale": [
             [
              0,
              "#0d0887"
             ],
             [
              0.1111111111111111,
              "#46039f"
             ],
             [
              0.2222222222222222,
              "#7201a8"
             ],
             [
              0.3333333333333333,
              "#9c179e"
             ],
             [
              0.4444444444444444,
              "#bd3786"
             ],
             [
              0.5555555555555556,
              "#d8576b"
             ],
             [
              0.6666666666666666,
              "#ed7953"
             ],
             [
              0.7777777777777778,
              "#fb9f3a"
             ],
             [
              0.8888888888888888,
              "#fdca26"
             ],
             [
              1,
              "#f0f921"
             ]
            ],
            "type": "contour"
           }
          ],
          "contourcarpet": [
           {
            "colorbar": {
             "outlinewidth": 0,
             "ticks": ""
            },
            "type": "contourcarpet"
           }
          ],
          "heatmap": [
           {
            "colorbar": {
             "outlinewidth": 0,
             "ticks": ""
            },
            "colorscale": [
             [
              0,
              "#0d0887"
             ],
             [
              0.1111111111111111,
              "#46039f"
             ],
             [
              0.2222222222222222,
              "#7201a8"
             ],
             [
              0.3333333333333333,
              "#9c179e"
             ],
             [
              0.4444444444444444,
              "#bd3786"
             ],
             [
              0.5555555555555556,
              "#d8576b"
             ],
             [
              0.6666666666666666,
              "#ed7953"
             ],
             [
              0.7777777777777778,
              "#fb9f3a"
             ],
             [
              0.8888888888888888,
              "#fdca26"
             ],
             [
              1,
              "#f0f921"
             ]
            ],
            "type": "heatmap"
           }
          ],
          "histogram": [
           {
            "marker": {
             "pattern": {
              "fillmode": "overlay",
              "size": 10,
              "solidity": 0.2
             }
            },
            "type": "histogram"
           }
          ],
          "histogram2d": [
           {
            "colorbar": {
             "outlinewidth": 0,
             "ticks": ""
            },
            "colorscale": [
             [
              0,
              "#0d0887"
             ],
             [
              0.1111111111111111,
              "#46039f"
             ],
             [
              0.2222222222222222,
              "#7201a8"
             ],
             [
              0.3333333333333333,
              "#9c179e"
             ],
             [
              0.4444444444444444,
              "#bd3786"
             ],
             [
              0.5555555555555556,
              "#d8576b"
             ],
             [
              0.6666666666666666,
              "#ed7953"
             ],
             [
              0.7777777777777778,
              "#fb9f3a"
             ],
             [
              0.8888888888888888,
              "#fdca26"
             ],
             [
              1,
              "#f0f921"
             ]
            ],
            "type": "histogram2d"
           }
          ],
          "histogram2dcontour": [
           {
            "colorbar": {
             "outlinewidth": 0,
             "ticks": ""
            },
            "colorscale": [
             [
              0,
              "#0d0887"
             ],
             [
              0.1111111111111111,
              "#46039f"
             ],
             [
              0.2222222222222222,
              "#7201a8"
             ],
             [
              0.3333333333333333,
              "#9c179e"
             ],
             [
              0.4444444444444444,
              "#bd3786"
             ],
             [
              0.5555555555555556,
              "#d8576b"
             ],
             [
              0.6666666666666666,
              "#ed7953"
             ],
             [
              0.7777777777777778,
              "#fb9f3a"
             ],
             [
              0.8888888888888888,
              "#fdca26"
             ],
             [
              1,
              "#f0f921"
             ]
            ],
            "type": "histogram2dcontour"
           }
          ],
          "mesh3d": [
           {
            "colorbar": {
             "outlinewidth": 0,
             "ticks": ""
            },
            "type": "mesh3d"
           }
          ],
          "parcoords": [
           {
            "line": {
             "colorbar": {
              "outlinewidth": 0,
              "ticks": ""
             }
            },
            "type": "parcoords"
           }
          ],
          "pie": [
           {
            "automargin": true,
            "type": "pie"
           }
          ],
          "scatter": [
           {
            "fillpattern": {
             "fillmode": "overlay",
             "size": 10,
             "solidity": 0.2
            },
            "type": "scatter"
           }
          ],
          "scatter3d": [
           {
            "line": {
             "colorbar": {
              "outlinewidth": 0,
              "ticks": ""
             }
            },
            "marker": {
             "colorbar": {
              "outlinewidth": 0,
              "ticks": ""
             }
            },
            "type": "scatter3d"
           }
          ],
          "scattercarpet": [
           {
            "marker": {
             "colorbar": {
              "outlinewidth": 0,
              "ticks": ""
             }
            },
            "type": "scattercarpet"
           }
          ],
          "scattergeo": [
           {
            "marker": {
             "colorbar": {
              "outlinewidth": 0,
              "ticks": ""
             }
            },
            "type": "scattergeo"
           }
          ],
          "scattergl": [
           {
            "marker": {
             "colorbar": {
              "outlinewidth": 0,
              "ticks": ""
             }
            },
            "type": "scattergl"
           }
          ],
          "scattermap": [
           {
            "marker": {
             "colorbar": {
              "outlinewidth": 0,
              "ticks": ""
             }
            },
            "type": "scattermap"
           }
          ],
          "scattermapbox": [
           {
            "marker": {
             "colorbar": {
              "outlinewidth": 0,
              "ticks": ""
             }
            },
            "type": "scattermapbox"
           }
          ],
          "scatterpolar": [
           {
            "marker": {
             "colorbar": {
              "outlinewidth": 0,
              "ticks": ""
             }
            },
            "type": "scatterpolar"
           }
          ],
          "scatterpolargl": [
           {
            "marker": {
             "colorbar": {
              "outlinewidth": 0,
              "ticks": ""
             }
            },
            "type": "scatterpolargl"
           }
          ],
          "scatterternary": [
           {
            "marker": {
             "colorbar": {
              "outlinewidth": 0,
              "ticks": ""
             }
            },
            "type": "scatterternary"
           }
          ],
          "surface": [
           {
            "colorbar": {
             "outlinewidth": 0,
             "ticks": ""
            },
            "colorscale": [
             [
              0,
              "#0d0887"
             ],
             [
              0.1111111111111111,
              "#46039f"
             ],
             [
              0.2222222222222222,
              "#7201a8"
             ],
             [
              0.3333333333333333,
              "#9c179e"
             ],
             [
              0.4444444444444444,
              "#bd3786"
             ],
             [
              0.5555555555555556,
              "#d8576b"
             ],
             [
              0.6666666666666666,
              "#ed7953"
             ],
             [
              0.7777777777777778,
              "#fb9f3a"
             ],
             [
              0.8888888888888888,
              "#fdca26"
             ],
             [
              1,
              "#f0f921"
             ]
            ],
            "type": "surface"
           }
          ],
          "table": [
           {
            "cells": {
             "fill": {
              "color": "#EBF0F8"
             },
             "line": {
              "color": "white"
             }
            },
            "header": {
             "fill": {
              "color": "#C8D4E3"
             },
             "line": {
              "color": "white"
             }
            },
            "type": "table"
           }
          ]
         },
         "layout": {
          "annotationdefaults": {
           "arrowcolor": "#2a3f5f",
           "arrowhead": 0,
           "arrowwidth": 1
          },
          "autotypenumbers": "strict",
          "coloraxis": {
           "colorbar": {
            "outlinewidth": 0,
            "ticks": ""
           }
          },
          "colorscale": {
           "diverging": [
            [
             0,
             "#8e0152"
            ],
            [
             0.1,
             "#c51b7d"
            ],
            [
             0.2,
             "#de77ae"
            ],
            [
             0.3,
             "#f1b6da"
            ],
            [
             0.4,
             "#fde0ef"
            ],
            [
             0.5,
             "#f7f7f7"
            ],
            [
             0.6,
             "#e6f5d0"
            ],
            [
             0.7,
             "#b8e186"
            ],
            [
             0.8,
             "#7fbc41"
            ],
            [
             0.9,
             "#4d9221"
            ],
            [
             1,
             "#276419"
            ]
           ],
           "sequential": [
            [
             0,
             "#0d0887"
            ],
            [
             0.1111111111111111,
             "#46039f"
            ],
            [
             0.2222222222222222,
             "#7201a8"
            ],
            [
             0.3333333333333333,
             "#9c179e"
            ],
            [
             0.4444444444444444,
             "#bd3786"
            ],
            [
             0.5555555555555556,
             "#d8576b"
            ],
            [
             0.6666666666666666,
             "#ed7953"
            ],
            [
             0.7777777777777778,
             "#fb9f3a"
            ],
            [
             0.8888888888888888,
             "#fdca26"
            ],
            [
             1,
             "#f0f921"
            ]
           ],
           "sequentialminus": [
            [
             0,
             "#0d0887"
            ],
            [
             0.1111111111111111,
             "#46039f"
            ],
            [
             0.2222222222222222,
             "#7201a8"
            ],
            [
             0.3333333333333333,
             "#9c179e"
            ],
            [
             0.4444444444444444,
             "#bd3786"
            ],
            [
             0.5555555555555556,
             "#d8576b"
            ],
            [
             0.6666666666666666,
             "#ed7953"
            ],
            [
             0.7777777777777778,
             "#fb9f3a"
            ],
            [
             0.8888888888888888,
             "#fdca26"
            ],
            [
             1,
             "#f0f921"
            ]
           ]
          },
          "colorway": [
           "#636efa",
           "#EF553B",
           "#00cc96",
           "#ab63fa",
           "#FFA15A",
           "#19d3f3",
           "#FF6692",
           "#B6E880",
           "#FF97FF",
           "#FECB52"
          ],
          "font": {
           "color": "#2a3f5f"
          },
          "geo": {
           "bgcolor": "white",
           "lakecolor": "white",
           "landcolor": "#E5ECF6",
           "showlakes": true,
           "showland": true,
           "subunitcolor": "white"
          },
          "hoverlabel": {
           "align": "left"
          },
          "hovermode": "closest",
          "mapbox": {
           "style": "light"
          },
          "paper_bgcolor": "white",
          "plot_bgcolor": "#E5ECF6",
          "polar": {
           "angularaxis": {
            "gridcolor": "white",
            "linecolor": "white",
            "ticks": ""
           },
           "bgcolor": "#E5ECF6",
           "radialaxis": {
            "gridcolor": "white",
            "linecolor": "white",
            "ticks": ""
           }
          },
          "scene": {
           "xaxis": {
            "backgroundcolor": "#E5ECF6",
            "gridcolor": "white",
            "gridwidth": 2,
            "linecolor": "white",
            "showbackground": true,
            "ticks": "",
            "zerolinecolor": "white"
           },
           "yaxis": {
            "backgroundcolor": "#E5ECF6",
            "gridcolor": "white",
            "gridwidth": 2,
            "linecolor": "white",
            "showbackground": true,
            "ticks": "",
            "zerolinecolor": "white"
           },
           "zaxis": {
            "backgroundcolor": "#E5ECF6",
            "gridcolor": "white",
            "gridwidth": 2,
            "linecolor": "white",
            "showbackground": true,
            "ticks": "",
            "zerolinecolor": "white"
           }
          },
          "shapedefaults": {
           "line": {
            "color": "#2a3f5f"
           }
          },
          "ternary": {
           "aaxis": {
            "gridcolor": "white",
            "linecolor": "white",
            "ticks": ""
           },
           "baxis": {
            "gridcolor": "white",
            "linecolor": "white",
            "ticks": ""
           },
           "bgcolor": "#E5ECF6",
           "caxis": {
            "gridcolor": "white",
            "linecolor": "white",
            "ticks": ""
           }
          },
          "title": {
           "x": 0.05
          },
          "xaxis": {
           "automargin": true,
           "gridcolor": "white",
           "linecolor": "white",
           "ticks": "",
           "title": {
            "standoff": 15
           },
           "zerolinecolor": "white",
           "zerolinewidth": 2
          },
          "yaxis": {
           "automargin": true,
           "gridcolor": "white",
           "linecolor": "white",
           "ticks": "",
           "title": {
            "standoff": 15
           },
           "zerolinecolor": "white",
           "zerolinewidth": 2
          }
         }
        },
        "title": {
         "text": "Timbre Space - t-SNE Projection"
        },
        "xaxis": {
         "anchor": "y",
         "domain": [
          0,
          1
         ],
         "title": {
          "text": "tsne_1"
         }
        },
        "yaxis": {
         "anchor": "x",
         "domain": [
          0,
          1
         ],
         "title": {
          "text": "tsne_2"
         }
        }
       }
      }
     },
     "metadata": {},
     "output_type": "display_data"
    }
   ],
   "source": [
    "fig = px.scatter(df, x=\"tsne_1\", y=\"tsne_2\",\n",
    "                 color=\"country\", symbol=\"style\",\n",
    "                 hover_name=\"track_id\",\n",
    "                 title=\"Timbre Space - t-SNE Projection\")\n",
    "fig.show()"
   ]
  },
  {
   "cell_type": "code",
   "execution_count": 9,
   "id": "911faff5",
   "metadata": {},
   "outputs": [
    {
     "data": {
      "application/vnd.plotly.v1+json": {
       "config": {
        "plotlyServerURL": "https://plot.ly"
       },
       "data": [
        {
         "hovertemplate": "<b>%{hovertext}</b><br><br>country=brazil<br>style=bossa<br>umap_1=%{x}<br>umap_2=%{y}<extra></extra>",
         "hovertext": [
          "brazil_bossa_nova_elis_regina_águas_de_março",
          "brazil_bossa_nova_joão_gilberto_chega_de_saudade",
          "brazil_bossa_nova_nara_leão_insensatez",
          "brazil_bossa_nova_tom_jobim_wave",
          "brazil_bossa_nova_vinicius_de_moraes_garota_de_ipanema"
         ],
         "legendgroup": "brazil, bossa",
         "marker": {
          "color": "#636efa",
          "symbol": "circle"
         },
         "mode": "markers",
         "name": "brazil, bossa",
         "orientation": "v",
         "showlegend": true,
         "type": "scatter",
         "x": {
          "bdata": "jeCaQOwcuUDZkM1ADzWfQMGMUUA=",
          "dtype": "f4"
         },
         "xaxis": "x",
         "y": {
          "bdata": "6jpUwAH27b9kVOW/jVIRwFCQRcA=",
          "dtype": "f4"
         },
         "yaxis": "y"
        },
        {
         "hovertemplate": "<b>%{hovertext}</b><br><br>country=brazil<br>style=chorinho<br>umap_1=%{x}<br>umap_2=%{y}<extra></extra>",
         "hovertext": [
          "brazil_chorinho_abel_ferreira_chorando_baixinho",
          "brazil_chorinho_jacob_do_bandolim_noites_cariocas",
          "brazil_chorinho_pixinguinha_carinhoso",
          "brazil_chorinho_waldir_azevedo_brasileirinho"
         ],
         "legendgroup": "brazil, chorinho",
         "marker": {
          "color": "#636efa",
          "symbol": "diamond"
         },
         "mode": "markers",
         "name": "brazil, chorinho",
         "orientation": "v",
         "showlegend": true,
         "type": "scatter",
         "x": {
          "bdata": "BByKQD9dp0A1RZVAi9GWQA==",
          "dtype": "f4"
         },
         "xaxis": "x",
         "y": {
          "bdata": "0yqZv8g3ir/93pu+Nbuwvw==",
          "dtype": "f4"
         },
         "yaxis": "y"
        },
        {
         "hovertemplate": "<b>%{hovertext}</b><br><br>country=brazil<br>style=funk<br>umap_1=%{x}<br>umap_2=%{y}<extra></extra>",
         "hovertext": [
          "brazil_funk_carioca_anitta_show_das_poderosas",
          "brazil_funk_carioca_ludmilla_24_horas_por_dia",
          "brazil_funk_carioca_mc_bin_laden_tá_tranquilo,_tá_favorável",
          "brazil_funk_carioca_mc_carol_não_foi_cabral",
          "brazil_funk_carioca_mc_kevinho_olha_a_explosão"
         ],
         "legendgroup": "brazil, funk",
         "marker": {
          "color": "#636efa",
          "symbol": "square"
         },
         "mode": "markers",
         "name": "brazil, funk",
         "orientation": "v",
         "showlegend": true,
         "type": "scatter",
         "x": {
          "bdata": "v3WAQCH1OUDKxmlAbgAsQE+1wkA=",
          "dtype": "f4"
         },
         "xaxis": "x",
         "y": {
          "bdata": "Hbl3wJHSccBMh4XAkhx5wIgWhsA=",
          "dtype": "f4"
         },
         "yaxis": "y"
        },
        {
         "hovertemplate": "<b>%{hovertext}</b><br><br>country=brazil<br>style=samba<br>umap_1=%{x}<br>umap_2=%{y}<extra></extra>",
         "hovertext": [
          "brazil_samba_beth_carvalho_vou_festejar",
          "brazil_samba_cartola_as_rosas_não_falam",
          "brazil_samba_martinho_da_vila_canta_canta_minha_gente",
          "brazil_samba_paulinho_da_viola_foi_um_rio_que_passou_em_minha_vida",
          "brazil_samba_zeca_pagodinho_deixa_a_vida_me_levar"
         ],
         "legendgroup": "brazil, samba",
         "marker": {
          "color": "#636efa",
          "symbol": "x"
         },
         "mode": "markers",
         "name": "brazil, samba",
         "orientation": "v",
         "showlegend": true,
         "type": "scatter",
         "x": {
          "bdata": "IowaQImwvUAJsIJAtK85QAD1Y0A=",
          "dtype": "f4"
         },
         "xaxis": "x",
         "y": {
          "bdata": "J0lcwP6fzL9dpo3AWI8RwCqkD8A=",
          "dtype": "f4"
         },
         "yaxis": "y"
        },
        {
         "hovertemplate": "<b>%{hovertext}</b><br><br>country=india<br>style=bhajan<br>umap_1=%{x}<br>umap_2=%{y}<extra></extra>",
         "hovertext": [
          "india_bhajan_anup_jalota_aisi_laagi_lagan",
          "india_bhajan_hari_om_sharan_jai_jai_ram_krishna_hari",
          "india_bhajan_jagjit_singh_hey_govind_hey_gopal",
          "india_bhajan_lata_mangeshkar_shree_krishna_govind_hare_murari",
          "india_bhajan_narendra_chanchal_o_sheronwali"
         ],
         "legendgroup": "india, bhajan",
         "marker": {
          "color": "#EF553B",
          "symbol": "cross"
         },
         "mode": "markers",
         "name": "india, bhajan",
         "orientation": "v",
         "showlegend": true,
         "type": "scatter",
         "x": {
          "bdata": "8PjMQOc2wkD+LKZASqgnQLdemkA=",
          "dtype": "f4"
         },
         "xaxis": "x",
         "y": {
          "bdata": "DR58wF8GasB3iJG/fwlqwPzEHMA=",
          "dtype": "f4"
         },
         "yaxis": "y"
        },
        {
         "hovertemplate": "<b>%{hovertext}</b><br><br>country=india<br>style=bollywood<br>umap_1=%{x}<br>umap_2=%{y}<extra></extra>",
         "hovertext": [
          "india_bollywood_arijit_singh_tum_hi_ho",
          "india_bollywood_kumar_sanu_tujhe_dekha_to",
          "india_bollywood_shreya_ghoshal_teri_ore",
          "india_bollywood_sonu_nigam_kal_ho_naa_ho"
         ],
         "legendgroup": "india, bollywood",
         "marker": {
          "color": "#EF553B",
          "symbol": "circle"
         },
         "mode": "markers",
         "name": "india, bollywood",
         "orientation": "v",
         "showlegend": true,
         "type": "scatter",
         "x": {
          "bdata": "dnrMQD2gwUBEQohAcie1QA==",
          "dtype": "f4"
         },
         "xaxis": "x",
         "y": {
          "bdata": "hrxawP7uVMAVQ1LAK1E7wA==",
          "dtype": "f4"
         },
         "yaxis": "y"
        },
        {
         "hovertemplate": "<b>%{hovertext}</b><br><br>country=india<br>style=classical<br>umap_1=%{x}<br>umap_2=%{y}<extra></extra>",
         "hovertext": [
          "india_classical_amjad_ali_khan_raga_durga",
          "india_classical_bhimsen_joshi_raga_miyan_ki_todi",
          "india_classical_l._subramaniam_raga_hemavati",
          "india_classical_ms_subbulakshmi_bhaja_govindam",
          "india_classical_ravi_shankar_raga_jog"
         ],
         "legendgroup": "india, classical",
         "marker": {
          "color": "#EF553B",
          "symbol": "diamond"
         },
         "mode": "markers",
         "name": "india, classical",
         "orientation": "v",
         "showlegend": true,
         "type": "scatter",
         "x": {
          "bdata": "ZwqNQAmprkAlf6pA6dOiQMV3q0A=",
          "dtype": "f4"
         },
         "xaxis": "x",
         "y": {
          "bdata": "vVhdv8m1Ar+xLea+VkH9v54n3b8=",
          "dtype": "f4"
         },
         "yaxis": "y"
        },
        {
         "hovertemplate": "<b>%{hovertext}</b><br><br>country=india<br>style=folk<br>umap_1=%{x}<br>umap_2=%{y}<extra></extra>",
         "hovertext": [
          "india_folk_bombay_jayashri_kanne_kalaimane",
          "india_folk_gurdas_maan_apna_punjab",
          "india_folk_manganiyar_group_nimbooda",
          "india_folk_nooran_sisters_patakha_guddi",
          "india_folk_ranjit_bawa_jean"
         ],
         "legendgroup": "india, folk",
         "marker": {
          "color": "#EF553B",
          "symbol": "square"
         },
         "mode": "markers",
         "name": "india, folk",
         "orientation": "v",
         "showlegend": true,
         "type": "scatter",
         "x": {
          "bdata": "BtnBQOm8gEAZHHlAshl9QKZiSUA=",
          "dtype": "f4"
         },
         "xaxis": "x",
         "y": {
          "bdata": "wd5KwJ1SvL/3VArAkxMgwN+jesA=",
          "dtype": "f4"
         },
         "yaxis": "y"
        },
        {
         "hovertemplate": "<b>%{hovertext}</b><br><br>country=japan<br>style=city<br>umap_1=%{x}<br>umap_2=%{y}<extra></extra>",
         "hovertext": [
          "japan_city_pop_anri_remember_summer_days",
          "japan_city_pop_junko_ohashi_telephone_number",
          "japan_city_pop_mariya_takeuchi_plastic_love",
          "japan_city_pop_tatsuro_yamashita_sparkle",
          "japan_city_pop_tomoko_aran_i'm_in_love"
         ],
         "legendgroup": "japan, city",
         "marker": {
          "color": "#00cc96",
          "symbol": "x"
         },
         "mode": "markers",
         "name": "japan, city",
         "orientation": "v",
         "showlegend": true,
         "type": "scatter",
         "x": {
          "bdata": "GJBbQCWQjkBANE1A35s0QPeTQEA=",
          "dtype": "f4"
         },
         "xaxis": "x",
         "y": {
          "bdata": "b6NdwMkpJsD0RSzARyqGwPqcX8A=",
          "dtype": "f4"
         },
         "yaxis": "y"
        },
        {
         "hovertemplate": "<b>%{hovertext}</b><br><br>country=japan<br>style=enka<br>umap_1=%{x}<br>umap_2=%{y}<extra></extra>",
         "hovertext": [
          "japan_enka_fuyumi_sakamoto_yozakura_oshichi",
          "japan_enka_hibari_misora_kawa_no_nagare_no_yō_ni",
          "japan_enka_jero_umiyuki",
          "japan_enka_sayuri_ishikawa_amagi_goe"
         ],
         "legendgroup": "japan, enka",
         "marker": {
          "color": "#00cc96",
          "symbol": "cross"
         },
         "mode": "markers",
         "name": "japan, enka",
         "orientation": "v",
         "showlegend": true,
         "type": "scatter",
         "x": {
          "bdata": "Tz6AQFrzkUCLl2BAveaOQA==",
          "dtype": "f4"
         },
         "xaxis": "x",
         "y": {
          "bdata": "UwxNwLjnPMAWrnjAhR1zwA==",
          "dtype": "f4"
         },
         "yaxis": "y"
        },
        {
         "hovertemplate": "<b>%{hovertext}</b><br><br>country=japan<br>style=j-pop<br>umap_1=%{x}<br>umap_2=%{y}<extra></extra>",
         "hovertext": [
          "japan_j-pop_ayumi_hamasaki_voyage",
          "japan_j-pop_hikaru_utada_first_love",
          "japan_j-pop_king_and_prince_cinderella_girl",
          "japan_j-pop_namie_amuro_can_you_celebrate#",
          "japan_j-pop_nogizaka46_influencer"
         ],
         "legendgroup": "japan, j-pop",
         "marker": {
          "color": "#00cc96",
          "symbol": "circle"
         },
         "mode": "markers",
         "name": "japan, j-pop",
         "orientation": "v",
         "showlegend": true,
         "type": "scatter",
         "x": {
          "bdata": "kzvJQP7fxUDSGlBAmfK5QFcuNkA=",
          "dtype": "f4"
         },
         "xaxis": "x",
         "y": {
          "bdata": "YgRwwNj0E8DjOIfAhcpgv8qvkMA=",
          "dtype": "f4"
         },
         "yaxis": "y"
        },
        {
         "hovertemplate": "<b>%{hovertext}</b><br><br>country=japan<br>style=min'yō<br>umap_1=%{x}<br>umap_2=%{y}<extra></extra>",
         "hovertext": [
          "japan_min'yō_various_aizu_bandaisan",
          "japan_min'yō_various_kuroda_bushi",
          "japan_min'yō_various_soran_bushi",
          "japan_min'yō_various_tanko_bushi",
          "japan_min'yō_various_tsugaru_jongara_bushi"
         ],
         "legendgroup": "japan, min'yō",
         "marker": {
          "color": "#00cc96",
          "symbol": "diamond"
         },
         "mode": "markers",
         "name": "japan, min'yō",
         "orientation": "v",
         "showlegend": true,
         "type": "scatter",
         "x": {
          "bdata": "V94rQMRwh0Cu+oRA1Z2vQFFYF0A=",
          "dtype": "f4"
         },
         "xaxis": "x",
         "y": {
          "bdata": "hflkwCVoJL8KOmDASYcMwJg5OcA=",
          "dtype": "f4"
         },
         "yaxis": "y"
        },
        {
         "hovertemplate": "<b>%{hovertext}</b><br><br>country=middle<br>style=east<br>umap_1=%{x}<br>umap_2=%{y}<extra></extra>",
         "hovertext": [
          "middle_east_dabke_omar_souleyman_warni_warni",
          "middle_east_maqam_oum_kalthoum_enta_omri"
         ],
         "legendgroup": "middle, east",
         "marker": {
          "color": "#ab63fa",
          "symbol": "square"
         },
         "mode": "markers",
         "name": "middle, east",
         "orientation": "v",
         "showlegend": true,
         "type": "scatter",
         "x": {
          "bdata": "atklQKKBpkA=",
          "dtype": "f4"
         },
         "xaxis": "x",
         "y": {
          "bdata": "VYOEwItXMsA=",
          "dtype": "f4"
         },
         "yaxis": "y"
        },
        {
         "hovertemplate": "<b>%{hovertext}</b><br><br>country=usa<br>style=folk<br>umap_1=%{x}<br>umap_2=%{y}<extra></extra>",
         "hovertext": [
          "usa_folk_bob_dylan_blowin'_in_the_wind",
          "usa_folk_joan_baez_diamonds_and_rust",
          "usa_folk_joni_mitchell_both_sides_now",
          "usa_folk_simon_and_garfunkel_the_sound_of_silence",
          "usa_folk_woody_guthrie_this_land_is_your_land"
         ],
         "legendgroup": "usa, folk",
         "marker": {
          "color": "#FFA15A",
          "symbol": "square"
         },
         "mode": "markers",
         "name": "usa, folk",
         "orientation": "v",
         "showlegend": true,
         "type": "scatter",
         "x": {
          "bdata": "xEHHQBvwi0Ccg8ZAL4zBQLPklEA=",
          "dtype": "f4"
         },
         "xaxis": "x",
         "y": {
          "bdata": "WqDpv3g4BcBT7bm/sc4MwDlxgb4=",
          "dtype": "f4"
         },
         "yaxis": "y"
        },
        {
         "hovertemplate": "<b>%{hovertext}</b><br><br>country=usa<br>style=blues<br>umap_1=%{x}<br>umap_2=%{y}<extra></extra>",
         "hovertext": [
          "usa_blues_b.b._king_the_thrill_is_gone",
          "usa_blues_etta_james_i'd_rather_go_blind",
          "usa_blues_john_lee_hooker_boom_boom",
          "usa_blues_muddy_waters_mannish_boy",
          "usa_blues_robert_johnson_cross_road_blues"
         ],
         "legendgroup": "usa, blues",
         "marker": {
          "color": "#FFA15A",
          "symbol": "x"
         },
         "mode": "markers",
         "name": "usa, blues",
         "orientation": "v",
         "showlegend": true,
         "type": "scatter",
         "x": {
          "bdata": "NNSVQCpSq0AHY7JAjAu0QGQllEA=",
          "dtype": "f4"
         },
         "xaxis": "x",
         "y": {
          "bdata": "J7ZewF1ARsBLN2/Ac5JYwJsw878=",
          "dtype": "f4"
         },
         "yaxis": "y"
        },
        {
         "hovertemplate": "<b>%{hovertext}</b><br><br>country=usa<br>style=jazz<br>umap_1=%{x}<br>umap_2=%{y}<extra></extra>",
         "hovertext": [
          "usa_jazz_bill_evans_waltz_for_debby",
          "usa_jazz_duke_ellington_take_the_a_train",
          "usa_jazz_john_coltrane_my_favorite_things",
          "usa_jazz_miles_davis_so_what",
          "usa_jazz_thelonious_monk_round_midnight"
         ],
         "legendgroup": "usa, jazz",
         "marker": {
          "color": "#FFA15A",
          "symbol": "cross"
         },
         "mode": "markers",
         "name": "usa, jazz",
         "orientation": "v",
         "showlegend": true,
         "type": "scatter",
         "x": {
          "bdata": "fJuNQE2uYkCZZElATgqfQLfOkEA=",
          "dtype": "f4"
         },
         "xaxis": "x",
         "y": {
          "bdata": "lPr9viNMnr8ydda/XKBGwPpz0L4=",
          "dtype": "f4"
         },
         "yaxis": "y"
        },
        {
         "hovertemplate": "<b>%{hovertext}</b><br><br>country=usa<br>style=soul<br>umap_1=%{x}<br>umap_2=%{y}<extra></extra>",
         "hovertext": [
          "usa_soul_aretha_franklin_respect",
          "usa_soul_etta_james_at_last",
          "usa_soul_marvin_gaye_what's_going_on",
          "usa_soul_otis_redding_try_a_little_tenderness",
          "usa_soul_sam_cooke_a_change_is_gonna_come"
         ],
         "legendgroup": "usa, soul",
         "marker": {
          "color": "#FFA15A",
          "symbol": "circle"
         },
         "mode": "markers",
         "name": "usa, soul",
         "orientation": "v",
         "showlegend": true,
         "type": "scatter",
         "x": {
          "bdata": "KcOdQGZxhUDu3UNAunenQA/AekA=",
          "dtype": "f4"
         },
         "xaxis": "x",
         "y": {
          "bdata": "nQrLv0eO8b+YkAjAvXtfwNtUisA=",
          "dtype": "f4"
         },
         "yaxis": "y"
        },
        {
         "hovertemplate": "<b>%{hovertext}</b><br><br>country=west<br>style=africa<br>umap_1=%{x}<br>umap_2=%{y}<extra></extra>",
         "hovertext": [
          "west_africa_afrobeat_fela_kuti_water_no_get_enemy",
          "west_africa_highlife_e.t._mensah_all_for_you"
         ],
         "legendgroup": "west, africa",
         "marker": {
          "color": "#19d3f3",
          "symbol": "diamond"
         },
         "mode": "markers",
         "name": "west, africa",
         "orientation": "v",
         "showlegend": true,
         "type": "scatter",
         "x": {
          "bdata": "S300QIBIgEA=",
          "dtype": "f4"
         },
         "xaxis": "x",
         "y": {
          "bdata": "hTgjwA8Tib8=",
          "dtype": "f4"
         },
         "yaxis": "y"
        }
       ],
       "layout": {
        "legend": {
         "title": {
          "text": "country, style"
         },
         "tracegroupgap": 0
        },
        "template": {
         "data": {
          "bar": [
           {
            "error_x": {
             "color": "#2a3f5f"
            },
            "error_y": {
             "color": "#2a3f5f"
            },
            "marker": {
             "line": {
              "color": "#E5ECF6",
              "width": 0.5
             },
             "pattern": {
              "fillmode": "overlay",
              "size": 10,
              "solidity": 0.2
             }
            },
            "type": "bar"
           }
          ],
          "barpolar": [
           {
            "marker": {
             "line": {
              "color": "#E5ECF6",
              "width": 0.5
             },
             "pattern": {
              "fillmode": "overlay",
              "size": 10,
              "solidity": 0.2
             }
            },
            "type": "barpolar"
           }
          ],
          "carpet": [
           {
            "aaxis": {
             "endlinecolor": "#2a3f5f",
             "gridcolor": "white",
             "linecolor": "white",
             "minorgridcolor": "white",
             "startlinecolor": "#2a3f5f"
            },
            "baxis": {
             "endlinecolor": "#2a3f5f",
             "gridcolor": "white",
             "linecolor": "white",
             "minorgridcolor": "white",
             "startlinecolor": "#2a3f5f"
            },
            "type": "carpet"
           }
          ],
          "choropleth": [
           {
            "colorbar": {
             "outlinewidth": 0,
             "ticks": ""
            },
            "type": "choropleth"
           }
          ],
          "contour": [
           {
            "colorbar": {
             "outlinewidth": 0,
             "ticks": ""
            },
            "colorscale": [
             [
              0,
              "#0d0887"
             ],
             [
              0.1111111111111111,
              "#46039f"
             ],
             [
              0.2222222222222222,
              "#7201a8"
             ],
             [
              0.3333333333333333,
              "#9c179e"
             ],
             [
              0.4444444444444444,
              "#bd3786"
             ],
             [
              0.5555555555555556,
              "#d8576b"
             ],
             [
              0.6666666666666666,
              "#ed7953"
             ],
             [
              0.7777777777777778,
              "#fb9f3a"
             ],
             [
              0.8888888888888888,
              "#fdca26"
             ],
             [
              1,
              "#f0f921"
             ]
            ],
            "type": "contour"
           }
          ],
          "contourcarpet": [
           {
            "colorbar": {
             "outlinewidth": 0,
             "ticks": ""
            },
            "type": "contourcarpet"
           }
          ],
          "heatmap": [
           {
            "colorbar": {
             "outlinewidth": 0,
             "ticks": ""
            },
            "colorscale": [
             [
              0,
              "#0d0887"
             ],
             [
              0.1111111111111111,
              "#46039f"
             ],
             [
              0.2222222222222222,
              "#7201a8"
             ],
             [
              0.3333333333333333,
              "#9c179e"
             ],
             [
              0.4444444444444444,
              "#bd3786"
             ],
             [
              0.5555555555555556,
              "#d8576b"
             ],
             [
              0.6666666666666666,
              "#ed7953"
             ],
             [
              0.7777777777777778,
              "#fb9f3a"
             ],
             [
              0.8888888888888888,
              "#fdca26"
             ],
             [
              1,
              "#f0f921"
             ]
            ],
            "type": "heatmap"
           }
          ],
          "histogram": [
           {
            "marker": {
             "pattern": {
              "fillmode": "overlay",
              "size": 10,
              "solidity": 0.2
             }
            },
            "type": "histogram"
           }
          ],
          "histogram2d": [
           {
            "colorbar": {
             "outlinewidth": 0,
             "ticks": ""
            },
            "colorscale": [
             [
              0,
              "#0d0887"
             ],
             [
              0.1111111111111111,
              "#46039f"
             ],
             [
              0.2222222222222222,
              "#7201a8"
             ],
             [
              0.3333333333333333,
              "#9c179e"
             ],
             [
              0.4444444444444444,
              "#bd3786"
             ],
             [
              0.5555555555555556,
              "#d8576b"
             ],
             [
              0.6666666666666666,
              "#ed7953"
             ],
             [
              0.7777777777777778,
              "#fb9f3a"
             ],
             [
              0.8888888888888888,
              "#fdca26"
             ],
             [
              1,
              "#f0f921"
             ]
            ],
            "type": "histogram2d"
           }
          ],
          "histogram2dcontour": [
           {
            "colorbar": {
             "outlinewidth": 0,
             "ticks": ""
            },
            "colorscale": [
             [
              0,
              "#0d0887"
             ],
             [
              0.1111111111111111,
              "#46039f"
             ],
             [
              0.2222222222222222,
              "#7201a8"
             ],
             [
              0.3333333333333333,
              "#9c179e"
             ],
             [
              0.4444444444444444,
              "#bd3786"
             ],
             [
              0.5555555555555556,
              "#d8576b"
             ],
             [
              0.6666666666666666,
              "#ed7953"
             ],
             [
              0.7777777777777778,
              "#fb9f3a"
             ],
             [
              0.8888888888888888,
              "#fdca26"
             ],
             [
              1,
              "#f0f921"
             ]
            ],
            "type": "histogram2dcontour"
           }
          ],
          "mesh3d": [
           {
            "colorbar": {
             "outlinewidth": 0,
             "ticks": ""
            },
            "type": "mesh3d"
           }
          ],
          "parcoords": [
           {
            "line": {
             "colorbar": {
              "outlinewidth": 0,
              "ticks": ""
             }
            },
            "type": "parcoords"
           }
          ],
          "pie": [
           {
            "automargin": true,
            "type": "pie"
           }
          ],
          "scatter": [
           {
            "fillpattern": {
             "fillmode": "overlay",
             "size": 10,
             "solidity": 0.2
            },
            "type": "scatter"
           }
          ],
          "scatter3d": [
           {
            "line": {
             "colorbar": {
              "outlinewidth": 0,
              "ticks": ""
             }
            },
            "marker": {
             "colorbar": {
              "outlinewidth": 0,
              "ticks": ""
             }
            },
            "type": "scatter3d"
           }
          ],
          "scattercarpet": [
           {
            "marker": {
             "colorbar": {
              "outlinewidth": 0,
              "ticks": ""
             }
            },
            "type": "scattercarpet"
           }
          ],
          "scattergeo": [
           {
            "marker": {
             "colorbar": {
              "outlinewidth": 0,
              "ticks": ""
             }
            },
            "type": "scattergeo"
           }
          ],
          "scattergl": [
           {
            "marker": {
             "colorbar": {
              "outlinewidth": 0,
              "ticks": ""
             }
            },
            "type": "scattergl"
           }
          ],
          "scattermap": [
           {
            "marker": {
             "colorbar": {
              "outlinewidth": 0,
              "ticks": ""
             }
            },
            "type": "scattermap"
           }
          ],
          "scattermapbox": [
           {
            "marker": {
             "colorbar": {
              "outlinewidth": 0,
              "ticks": ""
             }
            },
            "type": "scattermapbox"
           }
          ],
          "scatterpolar": [
           {
            "marker": {
             "colorbar": {
              "outlinewidth": 0,
              "ticks": ""
             }
            },
            "type": "scatterpolar"
           }
          ],
          "scatterpolargl": [
           {
            "marker": {
             "colorbar": {
              "outlinewidth": 0,
              "ticks": ""
             }
            },
            "type": "scatterpolargl"
           }
          ],
          "scatterternary": [
           {
            "marker": {
             "colorbar": {
              "outlinewidth": 0,
              "ticks": ""
             }
            },
            "type": "scatterternary"
           }
          ],
          "surface": [
           {
            "colorbar": {
             "outlinewidth": 0,
             "ticks": ""
            },
            "colorscale": [
             [
              0,
              "#0d0887"
             ],
             [
              0.1111111111111111,
              "#46039f"
             ],
             [
              0.2222222222222222,
              "#7201a8"
             ],
             [
              0.3333333333333333,
              "#9c179e"
             ],
             [
              0.4444444444444444,
              "#bd3786"
             ],
             [
              0.5555555555555556,
              "#d8576b"
             ],
             [
              0.6666666666666666,
              "#ed7953"
             ],
             [
              0.7777777777777778,
              "#fb9f3a"
             ],
             [
              0.8888888888888888,
              "#fdca26"
             ],
             [
              1,
              "#f0f921"
             ]
            ],
            "type": "surface"
           }
          ],
          "table": [
           {
            "cells": {
             "fill": {
              "color": "#EBF0F8"
             },
             "line": {
              "color": "white"
             }
            },
            "header": {
             "fill": {
              "color": "#C8D4E3"
             },
             "line": {
              "color": "white"
             }
            },
            "type": "table"
           }
          ]
         },
         "layout": {
          "annotationdefaults": {
           "arrowcolor": "#2a3f5f",
           "arrowhead": 0,
           "arrowwidth": 1
          },
          "autotypenumbers": "strict",
          "coloraxis": {
           "colorbar": {
            "outlinewidth": 0,
            "ticks": ""
           }
          },
          "colorscale": {
           "diverging": [
            [
             0,
             "#8e0152"
            ],
            [
             0.1,
             "#c51b7d"
            ],
            [
             0.2,
             "#de77ae"
            ],
            [
             0.3,
             "#f1b6da"
            ],
            [
             0.4,
             "#fde0ef"
            ],
            [
             0.5,
             "#f7f7f7"
            ],
            [
             0.6,
             "#e6f5d0"
            ],
            [
             0.7,
             "#b8e186"
            ],
            [
             0.8,
             "#7fbc41"
            ],
            [
             0.9,
             "#4d9221"
            ],
            [
             1,
             "#276419"
            ]
           ],
           "sequential": [
            [
             0,
             "#0d0887"
            ],
            [
             0.1111111111111111,
             "#46039f"
            ],
            [
             0.2222222222222222,
             "#7201a8"
            ],
            [
             0.3333333333333333,
             "#9c179e"
            ],
            [
             0.4444444444444444,
             "#bd3786"
            ],
            [
             0.5555555555555556,
             "#d8576b"
            ],
            [
             0.6666666666666666,
             "#ed7953"
            ],
            [
             0.7777777777777778,
             "#fb9f3a"
            ],
            [
             0.8888888888888888,
             "#fdca26"
            ],
            [
             1,
             "#f0f921"
            ]
           ],
           "sequentialminus": [
            [
             0,
             "#0d0887"
            ],
            [
             0.1111111111111111,
             "#46039f"
            ],
            [
             0.2222222222222222,
             "#7201a8"
            ],
            [
             0.3333333333333333,
             "#9c179e"
            ],
            [
             0.4444444444444444,
             "#bd3786"
            ],
            [
             0.5555555555555556,
             "#d8576b"
            ],
            [
             0.6666666666666666,
             "#ed7953"
            ],
            [
             0.7777777777777778,
             "#fb9f3a"
            ],
            [
             0.8888888888888888,
             "#fdca26"
            ],
            [
             1,
             "#f0f921"
            ]
           ]
          },
          "colorway": [
           "#636efa",
           "#EF553B",
           "#00cc96",
           "#ab63fa",
           "#FFA15A",
           "#19d3f3",
           "#FF6692",
           "#B6E880",
           "#FF97FF",
           "#FECB52"
          ],
          "font": {
           "color": "#2a3f5f"
          },
          "geo": {
           "bgcolor": "white",
           "lakecolor": "white",
           "landcolor": "#E5ECF6",
           "showlakes": true,
           "showland": true,
           "subunitcolor": "white"
          },
          "hoverlabel": {
           "align": "left"
          },
          "hovermode": "closest",
          "mapbox": {
           "style": "light"
          },
          "paper_bgcolor": "white",
          "plot_bgcolor": "#E5ECF6",
          "polar": {
           "angularaxis": {
            "gridcolor": "white",
            "linecolor": "white",
            "ticks": ""
           },
           "bgcolor": "#E5ECF6",
           "radialaxis": {
            "gridcolor": "white",
            "linecolor": "white",
            "ticks": ""
           }
          },
          "scene": {
           "xaxis": {
            "backgroundcolor": "#E5ECF6",
            "gridcolor": "white",
            "gridwidth": 2,
            "linecolor": "white",
            "showbackground": true,
            "ticks": "",
            "zerolinecolor": "white"
           },
           "yaxis": {
            "backgroundcolor": "#E5ECF6",
            "gridcolor": "white",
            "gridwidth": 2,
            "linecolor": "white",
            "showbackground": true,
            "ticks": "",
            "zerolinecolor": "white"
           },
           "zaxis": {
            "backgroundcolor": "#E5ECF6",
            "gridcolor": "white",
            "gridwidth": 2,
            "linecolor": "white",
            "showbackground": true,
            "ticks": "",
            "zerolinecolor": "white"
           }
          },
          "shapedefaults": {
           "line": {
            "color": "#2a3f5f"
           }
          },
          "ternary": {
           "aaxis": {
            "gridcolor": "white",
            "linecolor": "white",
            "ticks": ""
           },
           "baxis": {
            "gridcolor": "white",
            "linecolor": "white",
            "ticks": ""
           },
           "bgcolor": "#E5ECF6",
           "caxis": {
            "gridcolor": "white",
            "linecolor": "white",
            "ticks": ""
           }
          },
          "title": {
           "x": 0.05
          },
          "xaxis": {
           "automargin": true,
           "gridcolor": "white",
           "linecolor": "white",
           "ticks": "",
           "title": {
            "standoff": 15
           },
           "zerolinecolor": "white",
           "zerolinewidth": 2
          },
          "yaxis": {
           "automargin": true,
           "gridcolor": "white",
           "linecolor": "white",
           "ticks": "",
           "title": {
            "standoff": 15
           },
           "zerolinecolor": "white",
           "zerolinewidth": 2
          }
         }
        },
        "title": {
         "text": "Timbre Space - UMAP Projection"
        },
        "xaxis": {
         "anchor": "y",
         "domain": [
          0,
          1
         ],
         "title": {
          "text": "umap_1"
         }
        },
        "yaxis": {
         "anchor": "x",
         "domain": [
          0,
          1
         ],
         "title": {
          "text": "umap_2"
         }
        }
       }
      }
     },
     "metadata": {},
     "output_type": "display_data"
    }
   ],
   "source": [
    "fig = px.scatter(df, x=\"umap_1\", y=\"umap_2\",\n",
    "                 color=\"country\", symbol=\"style\",\n",
    "                 hover_name=\"track_id\",\n",
    "                 title=\"Timbre Space - UMAP Projection\")\n",
    "fig.show()\n"
   ]
  },
  {
   "cell_type": "code",
   "execution_count": 10,
   "id": "a52a0d8a",
   "metadata": {},
   "outputs": [],
   "source": [
    "from sklearn.metrics import silhouette_score, calinski_harabasz_score, davies_bouldin_score\n",
    "\n",
    "def evaluate_embedding(X, labels):\n",
    "    sil = silhouette_score(X, labels)\n",
    "    cal = calinski_harabasz_score(X, labels)\n",
    "    dbi = davies_bouldin_score(X, labels)\n",
    "    return sil, cal, dbi\n",
    "\n",
    "results = {}\n",
    "\n",
    "# PCA\n",
    "results[\"PCA_country\"] = evaluate_embedding(df[[\"pca_1\", \"pca_2\"]], df[\"country\"])\n",
    "results[\"PCA_style\"] = evaluate_embedding(df[[\"pca_1\", \"pca_2\"]], df[\"style\"])\n",
    "\n",
    "# t-SNE\n",
    "results[\"tSNE_country\"] = evaluate_embedding(df[[\"tsne_1\", \"tsne_2\"]], df[\"country\"])\n",
    "results[\"tSNE_style\"] = evaluate_embedding(df[[\"tsne_1\", \"tsne_2\"]], df[\"style\"])\n",
    "\n",
    "# UMAP\n",
    "results[\"UMAP_country\"] = evaluate_embedding(df[[\"umap_1\", \"umap_2\"]], df[\"country\"])\n",
    "results[\"UMAP_style\"] = evaluate_embedding(df[[\"umap_1\", \"umap_2\"]], df[\"style\"])\n"
   ]
  },
  {
   "cell_type": "code",
   "execution_count": 11,
   "id": "ca040671",
   "metadata": {},
   "outputs": [
    {
     "data": {
      "text/html": [
       "<div>\n",
       "<style scoped>\n",
       "    .dataframe tbody tr th:only-of-type {\n",
       "        vertical-align: middle;\n",
       "    }\n",
       "\n",
       "    .dataframe tbody tr th {\n",
       "        vertical-align: top;\n",
       "    }\n",
       "\n",
       "    .dataframe thead th {\n",
       "        text-align: right;\n",
       "    }\n",
       "</style>\n",
       "<table border=\"1\" class=\"dataframe\">\n",
       "  <thead>\n",
       "    <tr style=\"text-align: right;\">\n",
       "      <th></th>\n",
       "      <th>Silhouette</th>\n",
       "      <th>Calinski-Harabasz</th>\n",
       "      <th>Davies-Bouldin</th>\n",
       "    </tr>\n",
       "  </thead>\n",
       "  <tbody>\n",
       "    <tr>\n",
       "      <th>PCA_country</th>\n",
       "      <td>-0.204</td>\n",
       "      <td>1.818</td>\n",
       "      <td>14.684</td>\n",
       "    </tr>\n",
       "    <tr>\n",
       "      <th>PCA_style</th>\n",
       "      <td>-0.293</td>\n",
       "      <td>3.073</td>\n",
       "      <td>11.965</td>\n",
       "    </tr>\n",
       "    <tr>\n",
       "      <th>tSNE_country</th>\n",
       "      <td>-0.221</td>\n",
       "      <td>1.598</td>\n",
       "      <td>4.958</td>\n",
       "    </tr>\n",
       "    <tr>\n",
       "      <th>tSNE_style</th>\n",
       "      <td>-0.315</td>\n",
       "      <td>1.394</td>\n",
       "      <td>8.320</td>\n",
       "    </tr>\n",
       "    <tr>\n",
       "      <th>UMAP_country</th>\n",
       "      <td>-0.197</td>\n",
       "      <td>1.866</td>\n",
       "      <td>6.484</td>\n",
       "    </tr>\n",
       "    <tr>\n",
       "      <th>UMAP_style</th>\n",
       "      <td>-0.351</td>\n",
       "      <td>2.625</td>\n",
       "      <td>7.417</td>\n",
       "    </tr>\n",
       "  </tbody>\n",
       "</table>\n",
       "</div>"
      ],
      "text/plain": [
       "              Silhouette  Calinski-Harabasz  Davies-Bouldin\n",
       "PCA_country       -0.204              1.818          14.684\n",
       "PCA_style         -0.293              3.073          11.965\n",
       "tSNE_country      -0.221              1.598           4.958\n",
       "tSNE_style        -0.315              1.394           8.320\n",
       "UMAP_country      -0.197              1.866           6.484\n",
       "UMAP_style        -0.351              2.625           7.417"
      ]
     },
     "execution_count": 11,
     "metadata": {},
     "output_type": "execute_result"
    }
   ],
   "source": [
    "summary = pd.DataFrame(results, index=[\"Silhouette\", \"Calinski-Harabasz\", \"Davies-Bouldin\"]).T\n",
    "summary = summary.round(3)\n",
    "summary\n"
   ]
  },
  {
   "cell_type": "code",
   "execution_count": 12,
   "id": "b1219327",
   "metadata": {},
   "outputs": [],
   "source": [
    "from sklearn.cluster import KMeans\n",
    "\n",
    "# Aplica KMeans com 6 clusters\n",
    "kmeans = KMeans(n_clusters=6, random_state=42)\n",
    "df[\"cluster_kmeans\"] = kmeans.fit_predict(X_scaled)\n"
   ]
  },
  {
   "cell_type": "code",
   "execution_count": 13,
   "id": "7b530945",
   "metadata": {},
   "outputs": [],
   "source": [
    "# Avaliação dos clusters em cada espaço projetado\n",
    "results[\"PCA_kmeans\"] = evaluate_embedding(df[[\"pca_1\", \"pca_2\"]], df[\"cluster_kmeans\"])\n",
    "results[\"tSNE_kmeans\"] = evaluate_embedding(df[[\"tsne_1\", \"tsne_2\"]], df[\"cluster_kmeans\"])\n",
    "results[\"UMAP_kmeans\"] = evaluate_embedding(df[[\"umap_1\", \"umap_2\"]], df[\"cluster_kmeans\"])\n"
   ]
  },
  {
   "cell_type": "code",
   "execution_count": 14,
   "id": "2188860d",
   "metadata": {},
   "outputs": [
    {
     "data": {
      "application/vnd.plotly.v1+json": {
       "config": {
        "plotlyServerURL": "https://plot.ly"
       },
       "data": [
        {
         "hovertemplate": "<b>%{hovertext}</b><br><br>color=1<br>pca_1=%{x}<br>pca_2=%{y}<extra></extra>",
         "hovertext": [
          "brazil_bossa_nova_elis_regina_águas_de_março",
          "brazil_funk_carioca_anitta_show_das_poderosas",
          "brazil_funk_carioca_mc_bin_laden_tá_tranquilo,_tá_favorável",
          "brazil_funk_carioca_mc_kevinho_olha_a_explosão",
          "brazil_samba_martinho_da_vila_canta_canta_minha_gente",
          "india_bollywood_shreya_ghoshal_teri_ore",
          "india_bollywood_sonu_nigam_kal_ho_naa_ho",
          "japan_city_pop_junko_ohashi_telephone_number",
          "japan_enka_fuyumi_sakamoto_yozakura_oshichi",
          "japan_enka_hibari_misora_kawa_no_nagare_no_yō_ni",
          "japan_enka_sayuri_ishikawa_amagi_goe",
          "japan_j-pop_ayumi_hamasaki_voyage",
          "japan_min'yō_various_soran_bushi",
          "usa_blues_b.b._king_the_thrill_is_gone",
          "usa_blues_john_lee_hooker_boom_boom",
          "usa_blues_muddy_waters_mannish_boy",
          "usa_soul_otis_redding_try_a_little_tenderness",
          "usa_soul_sam_cooke_a_change_is_gonna_come"
         ],
         "legendgroup": "1",
         "marker": {
          "color": "#636efa",
          "symbol": "circle"
         },
         "mode": "markers",
         "name": "1",
         "orientation": "v",
         "showlegend": true,
         "type": "scatter",
         "x": {
          "bdata": "TiabqZxe/j9qf9itXbsTQHGSkpAe+hJAHihJ97sJFUB8x2OYwzUWQAB4MDrJDvw/yl45LbYr+T//DvHJGOrpP83f8xSrpwVAlS0FpjV73D8Id+B00DYHQAytJRBXfvk/LMlzVN5cAUBYdOZeCbv8P5oFJyMKYdE/OkQENQ9m7D8jqCAZDKT+P6K55aATBgdA",
          "dtype": "f8"
         },
         "xaxis": "x",
         "y": {
          "bdata": "7xQYqcPv7z9plbtB6bvtP+EFz4pR6uU/QrV7Tb0SGUD02x3iL0b8P49F7LoNRO0/Sei7VtmXAkDzF7Gw94LnP3ZpFdZB58U/pMRE37tXyj8738HZYA/pP+3YXWekBBVAmd7nFpkf37+oyGFm4YvHv8NtlupYCgFAU1U6Mmgt/j/i/KmIUCQJQKuimmwQbMM/",
          "dtype": "f8"
         },
         "yaxis": "y"
        },
        {
         "hovertemplate": "<b>%{hovertext}</b><br><br>color=3<br>pca_1=%{x}<br>pca_2=%{y}<extra></extra>",
         "hovertext": [
          "brazil_bossa_nova_joão_gilberto_chega_de_saudade",
          "brazil_bossa_nova_nara_leão_insensatez",
          "brazil_samba_cartola_as_rosas_não_falam",
          "india_bhajan_anup_jalota_aisi_laagi_lagan",
          "india_bhajan_hari_om_sharan_jai_jai_ram_krishna_hari",
          "india_bollywood_arijit_singh_tum_hi_ho",
          "india_bollywood_kumar_sanu_tujhe_dekha_to",
          "india_classical_ravi_shankar_raga_jog",
          "india_folk_bombay_jayashri_kanne_kalaimane",
          "japan_j-pop_hikaru_utada_first_love",
          "japan_min'yō_various_tanko_bushi",
          "usa_folk_bob_dylan_blowin'_in_the_wind",
          "usa_folk_joni_mitchell_both_sides_now",
          "usa_folk_simon_and_garfunkel_the_sound_of_silence"
         ],
         "legendgroup": "3",
         "marker": {
          "color": "#EF553B",
          "symbol": "circle"
         },
         "mode": "markers",
         "name": "3",
         "orientation": "v",
         "showlegend": true,
         "type": "scatter",
         "x": {
          "bdata": "U10lojyf1b9mvRspXzzsv/WBb1fX4de/3Y3p+nVF/j9k1N0Ole3bP8btLBP3muW/ok2G0RQI1j/cSjM84zLjvxVFTvKp8cg//8DESlod8z+aZOsu3WgKwGCeR73pjvK/oMD/WbxCAMDc7HF9HqXhPw==",
          "dtype": "f8"
         },
         "xaxis": "x",
         "y": {
          "bdata": "gs34K7DY6T9HZPG2OA7uP4QzSq/HW+u/w3JDxpvuEUCh5K2Qef0CQJmdDwVQvRRAp7furwoJGUBe+uuR+mJnP0wrfKGO6A1ARxLeREnYAECgG646/rsRQNOnYzbdgLE/CrdDwyeJrT8PX85c80TBvw==",
          "dtype": "f8"
         },
         "yaxis": "y"
        },
        {
         "hovertemplate": "<b>%{hovertext}</b><br><br>color=4<br>pca_1=%{x}<br>pca_2=%{y}<extra></extra>",
         "hovertext": [
          "brazil_bossa_nova_tom_jobim_wave",
          "brazil_samba_zeca_pagodinho_deixa_a_vida_me_levar",
          "india_bhajan_narendra_chanchal_o_sheronwali",
          "india_classical_amjad_ali_khan_raga_durga",
          "india_classical_ms_subbulakshmi_bhaja_govindam",
          "india_folk_gurdas_maan_apna_punjab",
          "india_folk_manganiyar_group_nimbooda",
          "middle_east_maqam_oum_kalthoum_enta_omri",
          "usa_blues_etta_james_i'd_rather_go_blind",
          "usa_blues_robert_johnson_cross_road_blues",
          "usa_folk_joan_baez_diamonds_and_rust",
          "usa_folk_woody_guthrie_this_land_is_your_land",
          "usa_jazz_miles_davis_so_what"
         ],
         "legendgroup": "4",
         "marker": {
          "color": "#00cc96",
          "symbol": "circle"
         },
         "mode": "markers",
         "name": "4",
         "orientation": "v",
         "showlegend": true,
         "type": "scatter",
         "x": {
          "bdata": "oC8OU0c82L8kE8Bf5XWzv6usmkb4I9w/NQy3dXHbCcAzXnX/79cBwC1N8dJ1ZgvAE3ylSzTW4b/kpHexd2Lyv+lyTyrXFMa/sBK+tHpe978hw1RQ2xzuv0YCuDWIfw7ADZ/1O0RnxL8=",
          "dtype": "f8"
         },
         "xaxis": "x",
         "y": {
          "bdata": "J0MKq8aU4T9tnV1lQwvhvyDDUKNdYf0/oj8jS1027j/1ne7/04j5P0NQG0S9eeK/XNmkDu4o9b9oUZ+/0BHvPyRE5koiR/8/yERSE2X78T+3ZVSqNybSv2WAmzrzTwdAO8vsOjnK4z8=",
          "dtype": "f8"
         },
         "yaxis": "y"
        },
        {
         "hovertemplate": "<b>%{hovertext}</b><br><br>color=5<br>pca_1=%{x}<br>pca_2=%{y}<extra></extra>",
         "hovertext": [
          "brazil_bossa_nova_vinicius_de_moraes_garota_de_ipanema",
          "brazil_funk_carioca_ludmilla_24_horas_por_dia",
          "brazil_funk_carioca_mc_carol_não_foi_cabral",
          "brazil_samba_beth_carvalho_vou_festejar",
          "brazil_samba_paulinho_da_viola_foi_um_rio_que_passou_em_minha_vida",
          "india_bhajan_lata_mangeshkar_shree_krishna_govind_hare_murari",
          "india_folk_nooran_sisters_patakha_guddi",
          "india_folk_ranjit_bawa_jean",
          "japan_city_pop_anri_remember_summer_days",
          "japan_city_pop_mariya_takeuchi_plastic_love",
          "japan_city_pop_tatsuro_yamashita_sparkle",
          "japan_city_pop_tomoko_aran_i'm_in_love",
          "japan_enka_jero_umiyuki",
          "japan_j-pop_king_and_prince_cinderella_girl",
          "japan_j-pop_nogizaka46_influencer",
          "japan_min'yō_various_aizu_bandaisan",
          "japan_min'yō_various_tsugaru_jongara_bushi",
          "middle_east_dabke_omar_souleyman_warni_warni",
          "usa_soul_marvin_gaye_what's_going_on",
          "west_africa_afrobeat_fela_kuti_water_no_get_enemy"
         ],
         "legendgroup": "5",
         "marker": {
          "color": "#ab63fa",
          "symbol": "circle"
         },
         "mode": "markers",
         "name": "5",
         "orientation": "v",
         "showlegend": true,
         "type": "scatter",
         "x": {
          "bdata": "YxQE2Du2CEDGCbeKHp8TQOxxqNn7sQhAn45jzRKx/j/IDFxLQv/BvzeSuHT83gNAQUfpcgjB5D/NVkgODxYFQLyUp3PLrAJAu4yDyI/A8D8clVlgQqr8P3Fwud3GbBtAllRwJf3t8j8h0NXc1mQEQMBTbIOnwAZAnVgOErp4A0C8eR2KVs/BP0Fx+EUt9ABAEubaVrDX4b9ShfcRjiLmPw==",
          "dtype": "f8"
         },
         "xaxis": "x",
         "y": {
          "bdata": "KPLFz2AIAcDDlY0XAUkBwDK+lSjeWA3AQ7NcYoWpB8BonJrQlckMwHiY/UklO+u/YVaPsfWi7r/xkLXSMGHzv9bD/LNv//e/crkzhPXVD8CehaaFL4oIwD8dBaLFQA3Acwhmo1wB+L9woh6jHprwv96B+CJzzhTAkl8jdbA7/r8mLoAhifASwO9DORPZEAfA82xdB+NNCcB6XEZfY58LwA==",
          "dtype": "f8"
         },
         "yaxis": "y"
        },
        {
         "hovertemplate": "<b>%{hovertext}</b><br><br>color=2<br>pca_1=%{x}<br>pca_2=%{y}<extra></extra>",
         "hovertext": [
          "brazil_chorinho_abel_ferreira_chorando_baixinho",
          "brazil_chorinho_jacob_do_bandolim_noites_cariocas",
          "brazil_chorinho_pixinguinha_carinhoso",
          "brazil_chorinho_waldir_azevedo_brasileirinho",
          "india_bhajan_jagjit_singh_hey_govind_hey_gopal",
          "japan_j-pop_namie_amuro_can_you_celebrate#",
          "japan_min'yō_various_kuroda_bushi",
          "usa_jazz_bill_evans_waltz_for_debby",
          "usa_jazz_duke_ellington_take_the_a_train",
          "usa_jazz_john_coltrane_my_favorite_things",
          "usa_jazz_thelonious_monk_round_midnight",
          "usa_soul_aretha_franklin_respect",
          "usa_soul_etta_james_at_last",
          "west_africa_highlife_e.t._mensah_all_for_you"
         ],
         "legendgroup": "2",
         "marker": {
          "color": "#FFA15A",
          "symbol": "circle"
         },
         "mode": "markers",
         "name": "2",
         "orientation": "v",
         "showlegend": true,
         "type": "scatter",
         "x": {
          "bdata": "dq+bdsrkB8DgRCJy8YMDwLbDMN4A5xTAYcx+Fq64A8Dh8vILA28FwLIs6x12Og/A4iGa5wYwE8A4r41OPIkTwDkMfHn6UBLAQPEvNs/aCMB6yiDUwv8QwEyw02j62OW/mNOV8TC787/6XWH4CP8IwA==",
          "dtype": "f8"
         },
         "xaxis": "x",
         "y": {
          "bdata": "6Dm7BHNJ+L8xzYGRx3cEwEUATGPM4u8/uEmVPC8C9b8qgVH2D0fnv/svRK9dZ9k/amb9tbwd+z/krdpRb14EQNuB8kG/qBLAzVHCcXIUE8DXRXLTodz7P8HIltcGGKW/ExKYLHe4479DyBTNhILrvw==",
          "dtype": "f8"
         },
         "yaxis": "y"
        },
        {
         "hovertemplate": "<b>%{hovertext}</b><br><br>color=0<br>pca_1=%{x}<br>pca_2=%{y}<extra></extra>",
         "hovertext": [
          "india_classical_bhimsen_joshi_raga_miyan_ki_todi",
          "india_classical_l._subramaniam_raga_hemavati"
         ],
         "legendgroup": "0",
         "marker": {
          "color": "#19d3f3",
          "symbol": "circle"
         },
         "mode": "markers",
         "name": "0",
         "orientation": "v",
         "showlegend": true,
         "type": "scatter",
         "x": {
          "bdata": "S8DvBAIeHsBDMzONnbckwA==",
          "dtype": "f8"
         },
         "xaxis": "x",
         "y": {
          "bdata": "lI9iNaF8+78ws+1ehrn+vw==",
          "dtype": "f8"
         },
         "yaxis": "y"
        }
       ],
       "layout": {
        "legend": {
         "title": {
          "text": "color"
         },
         "tracegroupgap": 0
        },
        "template": {
         "data": {
          "bar": [
           {
            "error_x": {
             "color": "#2a3f5f"
            },
            "error_y": {
             "color": "#2a3f5f"
            },
            "marker": {
             "line": {
              "color": "#E5ECF6",
              "width": 0.5
             },
             "pattern": {
              "fillmode": "overlay",
              "size": 10,
              "solidity": 0.2
             }
            },
            "type": "bar"
           }
          ],
          "barpolar": [
           {
            "marker": {
             "line": {
              "color": "#E5ECF6",
              "width": 0.5
             },
             "pattern": {
              "fillmode": "overlay",
              "size": 10,
              "solidity": 0.2
             }
            },
            "type": "barpolar"
           }
          ],
          "carpet": [
           {
            "aaxis": {
             "endlinecolor": "#2a3f5f",
             "gridcolor": "white",
             "linecolor": "white",
             "minorgridcolor": "white",
             "startlinecolor": "#2a3f5f"
            },
            "baxis": {
             "endlinecolor": "#2a3f5f",
             "gridcolor": "white",
             "linecolor": "white",
             "minorgridcolor": "white",
             "startlinecolor": "#2a3f5f"
            },
            "type": "carpet"
           }
          ],
          "choropleth": [
           {
            "colorbar": {
             "outlinewidth": 0,
             "ticks": ""
            },
            "type": "choropleth"
           }
          ],
          "contour": [
           {
            "colorbar": {
             "outlinewidth": 0,
             "ticks": ""
            },
            "colorscale": [
             [
              0,
              "#0d0887"
             ],
             [
              0.1111111111111111,
              "#46039f"
             ],
             [
              0.2222222222222222,
              "#7201a8"
             ],
             [
              0.3333333333333333,
              "#9c179e"
             ],
             [
              0.4444444444444444,
              "#bd3786"
             ],
             [
              0.5555555555555556,
              "#d8576b"
             ],
             [
              0.6666666666666666,
              "#ed7953"
             ],
             [
              0.7777777777777778,
              "#fb9f3a"
             ],
             [
              0.8888888888888888,
              "#fdca26"
             ],
             [
              1,
              "#f0f921"
             ]
            ],
            "type": "contour"
           }
          ],
          "contourcarpet": [
           {
            "colorbar": {
             "outlinewidth": 0,
             "ticks": ""
            },
            "type": "contourcarpet"
           }
          ],
          "heatmap": [
           {
            "colorbar": {
             "outlinewidth": 0,
             "ticks": ""
            },
            "colorscale": [
             [
              0,
              "#0d0887"
             ],
             [
              0.1111111111111111,
              "#46039f"
             ],
             [
              0.2222222222222222,
              "#7201a8"
             ],
             [
              0.3333333333333333,
              "#9c179e"
             ],
             [
              0.4444444444444444,
              "#bd3786"
             ],
             [
              0.5555555555555556,
              "#d8576b"
             ],
             [
              0.6666666666666666,
              "#ed7953"
             ],
             [
              0.7777777777777778,
              "#fb9f3a"
             ],
             [
              0.8888888888888888,
              "#fdca26"
             ],
             [
              1,
              "#f0f921"
             ]
            ],
            "type": "heatmap"
           }
          ],
          "histogram": [
           {
            "marker": {
             "pattern": {
              "fillmode": "overlay",
              "size": 10,
              "solidity": 0.2
             }
            },
            "type": "histogram"
           }
          ],
          "histogram2d": [
           {
            "colorbar": {
             "outlinewidth": 0,
             "ticks": ""
            },
            "colorscale": [
             [
              0,
              "#0d0887"
             ],
             [
              0.1111111111111111,
              "#46039f"
             ],
             [
              0.2222222222222222,
              "#7201a8"
             ],
             [
              0.3333333333333333,
              "#9c179e"
             ],
             [
              0.4444444444444444,
              "#bd3786"
             ],
             [
              0.5555555555555556,
              "#d8576b"
             ],
             [
              0.6666666666666666,
              "#ed7953"
             ],
             [
              0.7777777777777778,
              "#fb9f3a"
             ],
             [
              0.8888888888888888,
              "#fdca26"
             ],
             [
              1,
              "#f0f921"
             ]
            ],
            "type": "histogram2d"
           }
          ],
          "histogram2dcontour": [
           {
            "colorbar": {
             "outlinewidth": 0,
             "ticks": ""
            },
            "colorscale": [
             [
              0,
              "#0d0887"
             ],
             [
              0.1111111111111111,
              "#46039f"
             ],
             [
              0.2222222222222222,
              "#7201a8"
             ],
             [
              0.3333333333333333,
              "#9c179e"
             ],
             [
              0.4444444444444444,
              "#bd3786"
             ],
             [
              0.5555555555555556,
              "#d8576b"
             ],
             [
              0.6666666666666666,
              "#ed7953"
             ],
             [
              0.7777777777777778,
              "#fb9f3a"
             ],
             [
              0.8888888888888888,
              "#fdca26"
             ],
             [
              1,
              "#f0f921"
             ]
            ],
            "type": "histogram2dcontour"
           }
          ],
          "mesh3d": [
           {
            "colorbar": {
             "outlinewidth": 0,
             "ticks": ""
            },
            "type": "mesh3d"
           }
          ],
          "parcoords": [
           {
            "line": {
             "colorbar": {
              "outlinewidth": 0,
              "ticks": ""
             }
            },
            "type": "parcoords"
           }
          ],
          "pie": [
           {
            "automargin": true,
            "type": "pie"
           }
          ],
          "scatter": [
           {
            "fillpattern": {
             "fillmode": "overlay",
             "size": 10,
             "solidity": 0.2
            },
            "type": "scatter"
           }
          ],
          "scatter3d": [
           {
            "line": {
             "colorbar": {
              "outlinewidth": 0,
              "ticks": ""
             }
            },
            "marker": {
             "colorbar": {
              "outlinewidth": 0,
              "ticks": ""
             }
            },
            "type": "scatter3d"
           }
          ],
          "scattercarpet": [
           {
            "marker": {
             "colorbar": {
              "outlinewidth": 0,
              "ticks": ""
             }
            },
            "type": "scattercarpet"
           }
          ],
          "scattergeo": [
           {
            "marker": {
             "colorbar": {
              "outlinewidth": 0,
              "ticks": ""
             }
            },
            "type": "scattergeo"
           }
          ],
          "scattergl": [
           {
            "marker": {
             "colorbar": {
              "outlinewidth": 0,
              "ticks": ""
             }
            },
            "type": "scattergl"
           }
          ],
          "scattermap": [
           {
            "marker": {
             "colorbar": {
              "outlinewidth": 0,
              "ticks": ""
             }
            },
            "type": "scattermap"
           }
          ],
          "scattermapbox": [
           {
            "marker": {
             "colorbar": {
              "outlinewidth": 0,
              "ticks": ""
             }
            },
            "type": "scattermapbox"
           }
          ],
          "scatterpolar": [
           {
            "marker": {
             "colorbar": {
              "outlinewidth": 0,
              "ticks": ""
             }
            },
            "type": "scatterpolar"
           }
          ],
          "scatterpolargl": [
           {
            "marker": {
             "colorbar": {
              "outlinewidth": 0,
              "ticks": ""
             }
            },
            "type": "scatterpolargl"
           }
          ],
          "scatterternary": [
           {
            "marker": {
             "colorbar": {
              "outlinewidth": 0,
              "ticks": ""
             }
            },
            "type": "scatterternary"
           }
          ],
          "surface": [
           {
            "colorbar": {
             "outlinewidth": 0,
             "ticks": ""
            },
            "colorscale": [
             [
              0,
              "#0d0887"
             ],
             [
              0.1111111111111111,
              "#46039f"
             ],
             [
              0.2222222222222222,
              "#7201a8"
             ],
             [
              0.3333333333333333,
              "#9c179e"
             ],
             [
              0.4444444444444444,
              "#bd3786"
             ],
             [
              0.5555555555555556,
              "#d8576b"
             ],
             [
              0.6666666666666666,
              "#ed7953"
             ],
             [
              0.7777777777777778,
              "#fb9f3a"
             ],
             [
              0.8888888888888888,
              "#fdca26"
             ],
             [
              1,
              "#f0f921"
             ]
            ],
            "type": "surface"
           }
          ],
          "table": [
           {
            "cells": {
             "fill": {
              "color": "#EBF0F8"
             },
             "line": {
              "color": "white"
             }
            },
            "header": {
             "fill": {
              "color": "#C8D4E3"
             },
             "line": {
              "color": "white"
             }
            },
            "type": "table"
           }
          ]
         },
         "layout": {
          "annotationdefaults": {
           "arrowcolor": "#2a3f5f",
           "arrowhead": 0,
           "arrowwidth": 1
          },
          "autotypenumbers": "strict",
          "coloraxis": {
           "colorbar": {
            "outlinewidth": 0,
            "ticks": ""
           }
          },
          "colorscale": {
           "diverging": [
            [
             0,
             "#8e0152"
            ],
            [
             0.1,
             "#c51b7d"
            ],
            [
             0.2,
             "#de77ae"
            ],
            [
             0.3,
             "#f1b6da"
            ],
            [
             0.4,
             "#fde0ef"
            ],
            [
             0.5,
             "#f7f7f7"
            ],
            [
             0.6,
             "#e6f5d0"
            ],
            [
             0.7,
             "#b8e186"
            ],
            [
             0.8,
             "#7fbc41"
            ],
            [
             0.9,
             "#4d9221"
            ],
            [
             1,
             "#276419"
            ]
           ],
           "sequential": [
            [
             0,
             "#0d0887"
            ],
            [
             0.1111111111111111,
             "#46039f"
            ],
            [
             0.2222222222222222,
             "#7201a8"
            ],
            [
             0.3333333333333333,
             "#9c179e"
            ],
            [
             0.4444444444444444,
             "#bd3786"
            ],
            [
             0.5555555555555556,
             "#d8576b"
            ],
            [
             0.6666666666666666,
             "#ed7953"
            ],
            [
             0.7777777777777778,
             "#fb9f3a"
            ],
            [
             0.8888888888888888,
             "#fdca26"
            ],
            [
             1,
             "#f0f921"
            ]
           ],
           "sequentialminus": [
            [
             0,
             "#0d0887"
            ],
            [
             0.1111111111111111,
             "#46039f"
            ],
            [
             0.2222222222222222,
             "#7201a8"
            ],
            [
             0.3333333333333333,
             "#9c179e"
            ],
            [
             0.4444444444444444,
             "#bd3786"
            ],
            [
             0.5555555555555556,
             "#d8576b"
            ],
            [
             0.6666666666666666,
             "#ed7953"
            ],
            [
             0.7777777777777778,
             "#fb9f3a"
            ],
            [
             0.8888888888888888,
             "#fdca26"
            ],
            [
             1,
             "#f0f921"
            ]
           ]
          },
          "colorway": [
           "#636efa",
           "#EF553B",
           "#00cc96",
           "#ab63fa",
           "#FFA15A",
           "#19d3f3",
           "#FF6692",
           "#B6E880",
           "#FF97FF",
           "#FECB52"
          ],
          "font": {
           "color": "#2a3f5f"
          },
          "geo": {
           "bgcolor": "white",
           "lakecolor": "white",
           "landcolor": "#E5ECF6",
           "showlakes": true,
           "showland": true,
           "subunitcolor": "white"
          },
          "hoverlabel": {
           "align": "left"
          },
          "hovermode": "closest",
          "mapbox": {
           "style": "light"
          },
          "paper_bgcolor": "white",
          "plot_bgcolor": "#E5ECF6",
          "polar": {
           "angularaxis": {
            "gridcolor": "white",
            "linecolor": "white",
            "ticks": ""
           },
           "bgcolor": "#E5ECF6",
           "radialaxis": {
            "gridcolor": "white",
            "linecolor": "white",
            "ticks": ""
           }
          },
          "scene": {
           "xaxis": {
            "backgroundcolor": "#E5ECF6",
            "gridcolor": "white",
            "gridwidth": 2,
            "linecolor": "white",
            "showbackground": true,
            "ticks": "",
            "zerolinecolor": "white"
           },
           "yaxis": {
            "backgroundcolor": "#E5ECF6",
            "gridcolor": "white",
            "gridwidth": 2,
            "linecolor": "white",
            "showbackground": true,
            "ticks": "",
            "zerolinecolor": "white"
           },
           "zaxis": {
            "backgroundcolor": "#E5ECF6",
            "gridcolor": "white",
            "gridwidth": 2,
            "linecolor": "white",
            "showbackground": true,
            "ticks": "",
            "zerolinecolor": "white"
           }
          },
          "shapedefaults": {
           "line": {
            "color": "#2a3f5f"
           }
          },
          "ternary": {
           "aaxis": {
            "gridcolor": "white",
            "linecolor": "white",
            "ticks": ""
           },
           "baxis": {
            "gridcolor": "white",
            "linecolor": "white",
            "ticks": ""
           },
           "bgcolor": "#E5ECF6",
           "caxis": {
            "gridcolor": "white",
            "linecolor": "white",
            "ticks": ""
           }
          },
          "title": {
           "x": 0.05
          },
          "xaxis": {
           "automargin": true,
           "gridcolor": "white",
           "linecolor": "white",
           "ticks": "",
           "title": {
            "standoff": 15
           },
           "zerolinecolor": "white",
           "zerolinewidth": 2
          },
          "yaxis": {
           "automargin": true,
           "gridcolor": "white",
           "linecolor": "white",
           "ticks": "",
           "title": {
            "standoff": 15
           },
           "zerolinecolor": "white",
           "zerolinewidth": 2
          }
         }
        },
        "title": {
         "text": "KMeans Clusters - PCA Projection"
        },
        "xaxis": {
         "anchor": "y",
         "domain": [
          0,
          1
         ],
         "title": {
          "text": "pca_1"
         }
        },
        "yaxis": {
         "anchor": "x",
         "domain": [
          0,
          1
         ],
         "title": {
          "text": "pca_2"
         }
        }
       }
      }
     },
     "metadata": {},
     "output_type": "display_data"
    }
   ],
   "source": [
    "# Visualização dos clusters - PCA\n",
    "fig = px.scatter(df, x=\"pca_1\", y=\"pca_2\",\n",
    "                 color=df[\"cluster_kmeans\"].astype(str),\n",
    "                 hover_name=\"track_id\",\n",
    "                 title=\"KMeans Clusters - PCA Projection\")\n",
    "fig.show()\n"
   ]
  },
  {
   "cell_type": "code",
   "execution_count": 15,
   "id": "99a98908",
   "metadata": {},
   "outputs": [
    {
     "data": {
      "application/vnd.plotly.v1+json": {
       "config": {
        "plotlyServerURL": "https://plot.ly"
       },
       "data": [
        {
         "hovertemplate": "<b>%{hovertext}</b><br><br>color=1<br>tsne_1=%{x}<br>tsne_2=%{y}<extra></extra>",
         "hovertext": [
          "brazil_bossa_nova_elis_regina_águas_de_março",
          "brazil_funk_carioca_anitta_show_das_poderosas",
          "brazil_funk_carioca_mc_bin_laden_tá_tranquilo,_tá_favorável",
          "brazil_funk_carioca_mc_kevinho_olha_a_explosão",
          "brazil_samba_martinho_da_vila_canta_canta_minha_gente",
          "india_bollywood_shreya_ghoshal_teri_ore",
          "india_bollywood_sonu_nigam_kal_ho_naa_ho",
          "japan_city_pop_junko_ohashi_telephone_number",
          "japan_enka_fuyumi_sakamoto_yozakura_oshichi",
          "japan_enka_hibari_misora_kawa_no_nagare_no_yō_ni",
          "japan_enka_sayuri_ishikawa_amagi_goe",
          "japan_j-pop_ayumi_hamasaki_voyage",
          "japan_min'yō_various_soran_bushi",
          "usa_blues_b.b._king_the_thrill_is_gone",
          "usa_blues_john_lee_hooker_boom_boom",
          "usa_blues_muddy_waters_mannish_boy",
          "usa_soul_otis_redding_try_a_little_tenderness",
          "usa_soul_sam_cooke_a_change_is_gonna_come"
         ],
         "legendgroup": "1",
         "marker": {
          "color": "#636efa",
          "symbol": "circle"
         },
         "mode": "markers",
         "name": "1",
         "orientation": "v",
         "showlegend": true,
         "type": "scatter",
         "x": {
          "bdata": "NB/LQL2/QUBkuy7BZ2a5QU9e+r8Pb4nAduAsQTManj/w0/jAe+G4v9WXt8ArjGFBY5lfwZVSKcDKe8ZAYQl3QGXdH8BDtYfA",
          "dtype": "f4"
         },
         "xaxis": "x",
         "y": {
          "bdata": "b7G4QZILsUHwNVlB4t+SQKmXokEFpQZBNbYawbH2zMCnakE/DDfUQGBIHUCtKCVA1NuYQYxt7kEqrfxAIAKQQIk6pz47cY9B",
          "dtype": "f4"
         },
         "yaxis": "y"
        },
        {
         "hovertemplate": "<b>%{hovertext}</b><br><br>color=3<br>tsne_1=%{x}<br>tsne_2=%{y}<extra></extra>",
         "hovertext": [
          "brazil_bossa_nova_joão_gilberto_chega_de_saudade",
          "brazil_bossa_nova_nara_leão_insensatez",
          "brazil_samba_cartola_as_rosas_não_falam",
          "india_bhajan_anup_jalota_aisi_laagi_lagan",
          "india_bhajan_hari_om_sharan_jai_jai_ram_krishna_hari",
          "india_bollywood_arijit_singh_tum_hi_ho",
          "india_bollywood_kumar_sanu_tujhe_dekha_to",
          "india_classical_ravi_shankar_raga_jog",
          "india_folk_bombay_jayashri_kanne_kalaimane",
          "japan_j-pop_hikaru_utada_first_love",
          "japan_min'yō_various_tanko_bushi",
          "usa_folk_bob_dylan_blowin'_in_the_wind",
          "usa_folk_joni_mitchell_both_sides_now",
          "usa_folk_simon_and_garfunkel_the_sound_of_silence"
         ],
         "legendgroup": "3",
         "marker": {
          "color": "#EF553B",
          "symbol": "circle"
         },
         "mode": "markers",
         "name": "3",
         "orientation": "v",
         "showlegend": true,
         "type": "scatter",
         "x": {
          "bdata": "5KpnQc9ef0G9Z49BLLqkQXiMhkH7WphB3u2VQfiickGGsGpB7igWQb0NlEHmW19B0cqJQRDsNkE=",
          "dtype": "f4"
         },
         "xaxis": "x",
         "y": {
          "bdata": "HvupQW5T8kF9prNBc13IP6Q2lD9GnT/AaC+kwJP9bkH+lu/AI07dQRUhrsHr5sNBMMvUQYo7v0E=",
          "dtype": "f4"
         },
         "yaxis": "y"
        },
        {
         "hovertemplate": "<b>%{hovertext}</b><br><br>color=4<br>tsne_1=%{x}<br>tsne_2=%{y}<extra></extra>",
         "hovertext": [
          "brazil_bossa_nova_tom_jobim_wave",
          "brazil_samba_zeca_pagodinho_deixa_a_vida_me_levar",
          "india_bhajan_narendra_chanchal_o_sheronwali",
          "india_classical_amjad_ali_khan_raga_durga",
          "india_classical_ms_subbulakshmi_bhaja_govindam",
          "india_folk_gurdas_maan_apna_punjab",
          "india_folk_manganiyar_group_nimbooda",
          "middle_east_maqam_oum_kalthoum_enta_omri",
          "usa_blues_etta_james_i'd_rather_go_blind",
          "usa_blues_robert_johnson_cross_road_blues",
          "usa_folk_joan_baez_diamonds_and_rust",
          "usa_folk_woody_guthrie_this_land_is_your_land",
          "usa_jazz_miles_davis_so_what"
         ],
         "legendgroup": "4",
         "marker": {
          "color": "#00cc96",
          "symbol": "circle"
         },
         "mode": "markers",
         "name": "4",
         "orientation": "v",
         "showlegend": true,
         "type": "scatter",
         "x": {
          "bdata": "ZpATQehWzMC9inpABA8/QaNhcUFDBi1BLNeNwbLUE0A2NNQ/0fotQXqLVcCcDwlAH1GCwA==",
          "dtype": "f4"
         },
         "xaxis": "x",
         "y": {
          "bdata": "TGs9wR9GEcFcM5zArysmwoKusMFb7K7BDVWsQTIKLkFUDu9A6Y1ywUUVMcELCg3CivUCQg==",
          "dtype": "f4"
         },
         "yaxis": "y"
        },
        {
         "hovertemplate": "<b>%{hovertext}</b><br><br>color=5<br>tsne_1=%{x}<br>tsne_2=%{y}<extra></extra>",
         "hovertext": [
          "brazil_bossa_nova_vinicius_de_moraes_garota_de_ipanema",
          "brazil_funk_carioca_ludmilla_24_horas_por_dia",
          "brazil_funk_carioca_mc_carol_não_foi_cabral",
          "brazil_samba_beth_carvalho_vou_festejar",
          "brazil_samba_paulinho_da_viola_foi_um_rio_que_passou_em_minha_vida",
          "india_bhajan_lata_mangeshkar_shree_krishna_govind_hare_murari",
          "india_folk_nooran_sisters_patakha_guddi",
          "india_folk_ranjit_bawa_jean",
          "japan_city_pop_anri_remember_summer_days",
          "japan_city_pop_mariya_takeuchi_plastic_love",
          "japan_city_pop_tatsuro_yamashita_sparkle",
          "japan_city_pop_tomoko_aran_i'm_in_love",
          "japan_enka_jero_umiyuki",
          "japan_j-pop_king_and_prince_cinderella_girl",
          "japan_j-pop_nogizaka46_influencer",
          "japan_min'yō_various_aizu_bandaisan",
          "japan_min'yō_various_tsugaru_jongara_bushi",
          "middle_east_dabke_omar_souleyman_warni_warni",
          "usa_soul_marvin_gaye_what's_going_on",
          "west_africa_afrobeat_fela_kuti_water_no_get_enemy"
         ],
         "legendgroup": "5",
         "marker": {
          "color": "#ab63fa",
          "symbol": "circle"
         },
         "mode": "markers",
         "name": "5",
         "orientation": "v",
         "showlegend": true,
         "type": "scatter",
         "x": {
          "bdata": "Ire0wT9T2sFwTfDB15bkwVx+scEgY8LBF0ylwIbAs8EwNrnBZDWxwcwbl8GaquHBMwk8wYptaMG/6oTBGkQCwl+KF8IM6PLBDdqkwVtSy8E=",
          "dtype": "f4"
         },
         "xaxis": "x",
         "y": {
          "bdata": "epCswGrl7j+1MMRAKo/2QIxDaMEcYB5BcGVXwSwmy0DLeFBA/o4Gwavm8EDAVtu/JZT/QEr3JUGc/Z9APexWQJy7E0GfqzRB8JlOwSuUb8E=",
          "dtype": "f4"
         },
         "yaxis": "y"
        },
        {
         "hovertemplate": "<b>%{hovertext}</b><br><br>color=2<br>tsne_1=%{x}<br>tsne_2=%{y}<extra></extra>",
         "hovertext": [
          "brazil_chorinho_abel_ferreira_chorando_baixinho",
          "brazil_chorinho_jacob_do_bandolim_noites_cariocas",
          "brazil_chorinho_pixinguinha_carinhoso",
          "brazil_chorinho_waldir_azevedo_brasileirinho",
          "india_bhajan_jagjit_singh_hey_govind_hey_gopal",
          "japan_j-pop_namie_amuro_can_you_celebrate#",
          "japan_min'yō_various_kuroda_bushi",
          "usa_jazz_bill_evans_waltz_for_debby",
          "usa_jazz_duke_ellington_take_the_a_train",
          "usa_jazz_john_coltrane_my_favorite_things",
          "usa_jazz_thelonious_monk_round_midnight",
          "usa_soul_aretha_franklin_respect",
          "usa_soul_etta_james_at_last",
          "west_africa_highlife_e.t._mensah_all_for_you"
         ],
         "legendgroup": "2",
         "marker": {
          "color": "#FFA15A",
          "symbol": "circle"
         },
         "mode": "markers",
         "name": "2",
         "orientation": "v",
         "showlegend": true,
         "type": "scatter",
         "x": {
          "bdata": "nuatQK4r20HwoNRAf3yDP1Dk7EGbt8BBYB0JQUufIUE0G3XBZ1GRwSr020BHzuw/1n9ev/cHAEE=",
          "dtype": "f4"
         },
         "xaxis": "x",
         "y": {
          "bdata": "vI+cwV6gDkIuVBHCW82ZwWNLEELHC79BhbD9wT8+IcK/HaPBHyOMwdVZCMJr62PBIe07we4YqsE=",
          "dtype": "f4"
         },
         "yaxis": "y"
        },
        {
         "hovertemplate": "<b>%{hovertext}</b><br><br>color=0<br>tsne_1=%{x}<br>tsne_2=%{y}<extra></extra>",
         "hovertext": [
          "india_classical_bhimsen_joshi_raga_miyan_ki_todi",
          "india_classical_l._subramaniam_raga_hemavati"
         ],
         "legendgroup": "0",
         "marker": {
          "color": "#19d3f3",
          "symbol": "circle"
         },
         "mode": "markers",
         "name": "0",
         "orientation": "v",
         "showlegend": true,
         "type": "scatter",
         "x": {
          "bdata": "hjHmQVLw+EE=",
          "dtype": "f4"
         },
         "xaxis": "x",
         "y": {
          "bdata": "7sC1QdeLskE=",
          "dtype": "f4"
         },
         "yaxis": "y"
        }
       ],
       "layout": {
        "legend": {
         "title": {
          "text": "color"
         },
         "tracegroupgap": 0
        },
        "template": {
         "data": {
          "bar": [
           {
            "error_x": {
             "color": "#2a3f5f"
            },
            "error_y": {
             "color": "#2a3f5f"
            },
            "marker": {
             "line": {
              "color": "#E5ECF6",
              "width": 0.5
             },
             "pattern": {
              "fillmode": "overlay",
              "size": 10,
              "solidity": 0.2
             }
            },
            "type": "bar"
           }
          ],
          "barpolar": [
           {
            "marker": {
             "line": {
              "color": "#E5ECF6",
              "width": 0.5
             },
             "pattern": {
              "fillmode": "overlay",
              "size": 10,
              "solidity": 0.2
             }
            },
            "type": "barpolar"
           }
          ],
          "carpet": [
           {
            "aaxis": {
             "endlinecolor": "#2a3f5f",
             "gridcolor": "white",
             "linecolor": "white",
             "minorgridcolor": "white",
             "startlinecolor": "#2a3f5f"
            },
            "baxis": {
             "endlinecolor": "#2a3f5f",
             "gridcolor": "white",
             "linecolor": "white",
             "minorgridcolor": "white",
             "startlinecolor": "#2a3f5f"
            },
            "type": "carpet"
           }
          ],
          "choropleth": [
           {
            "colorbar": {
             "outlinewidth": 0,
             "ticks": ""
            },
            "type": "choropleth"
           }
          ],
          "contour": [
           {
            "colorbar": {
             "outlinewidth": 0,
             "ticks": ""
            },
            "colorscale": [
             [
              0,
              "#0d0887"
             ],
             [
              0.1111111111111111,
              "#46039f"
             ],
             [
              0.2222222222222222,
              "#7201a8"
             ],
             [
              0.3333333333333333,
              "#9c179e"
             ],
             [
              0.4444444444444444,
              "#bd3786"
             ],
             [
              0.5555555555555556,
              "#d8576b"
             ],
             [
              0.6666666666666666,
              "#ed7953"
             ],
             [
              0.7777777777777778,
              "#fb9f3a"
             ],
             [
              0.8888888888888888,
              "#fdca26"
             ],
             [
              1,
              "#f0f921"
             ]
            ],
            "type": "contour"
           }
          ],
          "contourcarpet": [
           {
            "colorbar": {
             "outlinewidth": 0,
             "ticks": ""
            },
            "type": "contourcarpet"
           }
          ],
          "heatmap": [
           {
            "colorbar": {
             "outlinewidth": 0,
             "ticks": ""
            },
            "colorscale": [
             [
              0,
              "#0d0887"
             ],
             [
              0.1111111111111111,
              "#46039f"
             ],
             [
              0.2222222222222222,
              "#7201a8"
             ],
             [
              0.3333333333333333,
              "#9c179e"
             ],
             [
              0.4444444444444444,
              "#bd3786"
             ],
             [
              0.5555555555555556,
              "#d8576b"
             ],
             [
              0.6666666666666666,
              "#ed7953"
             ],
             [
              0.7777777777777778,
              "#fb9f3a"
             ],
             [
              0.8888888888888888,
              "#fdca26"
             ],
             [
              1,
              "#f0f921"
             ]
            ],
            "type": "heatmap"
           }
          ],
          "histogram": [
           {
            "marker": {
             "pattern": {
              "fillmode": "overlay",
              "size": 10,
              "solidity": 0.2
             }
            },
            "type": "histogram"
           }
          ],
          "histogram2d": [
           {
            "colorbar": {
             "outlinewidth": 0,
             "ticks": ""
            },
            "colorscale": [
             [
              0,
              "#0d0887"
             ],
             [
              0.1111111111111111,
              "#46039f"
             ],
             [
              0.2222222222222222,
              "#7201a8"
             ],
             [
              0.3333333333333333,
              "#9c179e"
             ],
             [
              0.4444444444444444,
              "#bd3786"
             ],
             [
              0.5555555555555556,
              "#d8576b"
             ],
             [
              0.6666666666666666,
              "#ed7953"
             ],
             [
              0.7777777777777778,
              "#fb9f3a"
             ],
             [
              0.8888888888888888,
              "#fdca26"
             ],
             [
              1,
              "#f0f921"
             ]
            ],
            "type": "histogram2d"
           }
          ],
          "histogram2dcontour": [
           {
            "colorbar": {
             "outlinewidth": 0,
             "ticks": ""
            },
            "colorscale": [
             [
              0,
              "#0d0887"
             ],
             [
              0.1111111111111111,
              "#46039f"
             ],
             [
              0.2222222222222222,
              "#7201a8"
             ],
             [
              0.3333333333333333,
              "#9c179e"
             ],
             [
              0.4444444444444444,
              "#bd3786"
             ],
             [
              0.5555555555555556,
              "#d8576b"
             ],
             [
              0.6666666666666666,
              "#ed7953"
             ],
             [
              0.7777777777777778,
              "#fb9f3a"
             ],
             [
              0.8888888888888888,
              "#fdca26"
             ],
             [
              1,
              "#f0f921"
             ]
            ],
            "type": "histogram2dcontour"
           }
          ],
          "mesh3d": [
           {
            "colorbar": {
             "outlinewidth": 0,
             "ticks": ""
            },
            "type": "mesh3d"
           }
          ],
          "parcoords": [
           {
            "line": {
             "colorbar": {
              "outlinewidth": 0,
              "ticks": ""
             }
            },
            "type": "parcoords"
           }
          ],
          "pie": [
           {
            "automargin": true,
            "type": "pie"
           }
          ],
          "scatter": [
           {
            "fillpattern": {
             "fillmode": "overlay",
             "size": 10,
             "solidity": 0.2
            },
            "type": "scatter"
           }
          ],
          "scatter3d": [
           {
            "line": {
             "colorbar": {
              "outlinewidth": 0,
              "ticks": ""
             }
            },
            "marker": {
             "colorbar": {
              "outlinewidth": 0,
              "ticks": ""
             }
            },
            "type": "scatter3d"
           }
          ],
          "scattercarpet": [
           {
            "marker": {
             "colorbar": {
              "outlinewidth": 0,
              "ticks": ""
             }
            },
            "type": "scattercarpet"
           }
          ],
          "scattergeo": [
           {
            "marker": {
             "colorbar": {
              "outlinewidth": 0,
              "ticks": ""
             }
            },
            "type": "scattergeo"
           }
          ],
          "scattergl": [
           {
            "marker": {
             "colorbar": {
              "outlinewidth": 0,
              "ticks": ""
             }
            },
            "type": "scattergl"
           }
          ],
          "scattermap": [
           {
            "marker": {
             "colorbar": {
              "outlinewidth": 0,
              "ticks": ""
             }
            },
            "type": "scattermap"
           }
          ],
          "scattermapbox": [
           {
            "marker": {
             "colorbar": {
              "outlinewidth": 0,
              "ticks": ""
             }
            },
            "type": "scattermapbox"
           }
          ],
          "scatterpolar": [
           {
            "marker": {
             "colorbar": {
              "outlinewidth": 0,
              "ticks": ""
             }
            },
            "type": "scatterpolar"
           }
          ],
          "scatterpolargl": [
           {
            "marker": {
             "colorbar": {
              "outlinewidth": 0,
              "ticks": ""
             }
            },
            "type": "scatterpolargl"
           }
          ],
          "scatterternary": [
           {
            "marker": {
             "colorbar": {
              "outlinewidth": 0,
              "ticks": ""
             }
            },
            "type": "scatterternary"
           }
          ],
          "surface": [
           {
            "colorbar": {
             "outlinewidth": 0,
             "ticks": ""
            },
            "colorscale": [
             [
              0,
              "#0d0887"
             ],
             [
              0.1111111111111111,
              "#46039f"
             ],
             [
              0.2222222222222222,
              "#7201a8"
             ],
             [
              0.3333333333333333,
              "#9c179e"
             ],
             [
              0.4444444444444444,
              "#bd3786"
             ],
             [
              0.5555555555555556,
              "#d8576b"
             ],
             [
              0.6666666666666666,
              "#ed7953"
             ],
             [
              0.7777777777777778,
              "#fb9f3a"
             ],
             [
              0.8888888888888888,
              "#fdca26"
             ],
             [
              1,
              "#f0f921"
             ]
            ],
            "type": "surface"
           }
          ],
          "table": [
           {
            "cells": {
             "fill": {
              "color": "#EBF0F8"
             },
             "line": {
              "color": "white"
             }
            },
            "header": {
             "fill": {
              "color": "#C8D4E3"
             },
             "line": {
              "color": "white"
             }
            },
            "type": "table"
           }
          ]
         },
         "layout": {
          "annotationdefaults": {
           "arrowcolor": "#2a3f5f",
           "arrowhead": 0,
           "arrowwidth": 1
          },
          "autotypenumbers": "strict",
          "coloraxis": {
           "colorbar": {
            "outlinewidth": 0,
            "ticks": ""
           }
          },
          "colorscale": {
           "diverging": [
            [
             0,
             "#8e0152"
            ],
            [
             0.1,
             "#c51b7d"
            ],
            [
             0.2,
             "#de77ae"
            ],
            [
             0.3,
             "#f1b6da"
            ],
            [
             0.4,
             "#fde0ef"
            ],
            [
             0.5,
             "#f7f7f7"
            ],
            [
             0.6,
             "#e6f5d0"
            ],
            [
             0.7,
             "#b8e186"
            ],
            [
             0.8,
             "#7fbc41"
            ],
            [
             0.9,
             "#4d9221"
            ],
            [
             1,
             "#276419"
            ]
           ],
           "sequential": [
            [
             0,
             "#0d0887"
            ],
            [
             0.1111111111111111,
             "#46039f"
            ],
            [
             0.2222222222222222,
             "#7201a8"
            ],
            [
             0.3333333333333333,
             "#9c179e"
            ],
            [
             0.4444444444444444,
             "#bd3786"
            ],
            [
             0.5555555555555556,
             "#d8576b"
            ],
            [
             0.6666666666666666,
             "#ed7953"
            ],
            [
             0.7777777777777778,
             "#fb9f3a"
            ],
            [
             0.8888888888888888,
             "#fdca26"
            ],
            [
             1,
             "#f0f921"
            ]
           ],
           "sequentialminus": [
            [
             0,
             "#0d0887"
            ],
            [
             0.1111111111111111,
             "#46039f"
            ],
            [
             0.2222222222222222,
             "#7201a8"
            ],
            [
             0.3333333333333333,
             "#9c179e"
            ],
            [
             0.4444444444444444,
             "#bd3786"
            ],
            [
             0.5555555555555556,
             "#d8576b"
            ],
            [
             0.6666666666666666,
             "#ed7953"
            ],
            [
             0.7777777777777778,
             "#fb9f3a"
            ],
            [
             0.8888888888888888,
             "#fdca26"
            ],
            [
             1,
             "#f0f921"
            ]
           ]
          },
          "colorway": [
           "#636efa",
           "#EF553B",
           "#00cc96",
           "#ab63fa",
           "#FFA15A",
           "#19d3f3",
           "#FF6692",
           "#B6E880",
           "#FF97FF",
           "#FECB52"
          ],
          "font": {
           "color": "#2a3f5f"
          },
          "geo": {
           "bgcolor": "white",
           "lakecolor": "white",
           "landcolor": "#E5ECF6",
           "showlakes": true,
           "showland": true,
           "subunitcolor": "white"
          },
          "hoverlabel": {
           "align": "left"
          },
          "hovermode": "closest",
          "mapbox": {
           "style": "light"
          },
          "paper_bgcolor": "white",
          "plot_bgcolor": "#E5ECF6",
          "polar": {
           "angularaxis": {
            "gridcolor": "white",
            "linecolor": "white",
            "ticks": ""
           },
           "bgcolor": "#E5ECF6",
           "radialaxis": {
            "gridcolor": "white",
            "linecolor": "white",
            "ticks": ""
           }
          },
          "scene": {
           "xaxis": {
            "backgroundcolor": "#E5ECF6",
            "gridcolor": "white",
            "gridwidth": 2,
            "linecolor": "white",
            "showbackground": true,
            "ticks": "",
            "zerolinecolor": "white"
           },
           "yaxis": {
            "backgroundcolor": "#E5ECF6",
            "gridcolor": "white",
            "gridwidth": 2,
            "linecolor": "white",
            "showbackground": true,
            "ticks": "",
            "zerolinecolor": "white"
           },
           "zaxis": {
            "backgroundcolor": "#E5ECF6",
            "gridcolor": "white",
            "gridwidth": 2,
            "linecolor": "white",
            "showbackground": true,
            "ticks": "",
            "zerolinecolor": "white"
           }
          },
          "shapedefaults": {
           "line": {
            "color": "#2a3f5f"
           }
          },
          "ternary": {
           "aaxis": {
            "gridcolor": "white",
            "linecolor": "white",
            "ticks": ""
           },
           "baxis": {
            "gridcolor": "white",
            "linecolor": "white",
            "ticks": ""
           },
           "bgcolor": "#E5ECF6",
           "caxis": {
            "gridcolor": "white",
            "linecolor": "white",
            "ticks": ""
           }
          },
          "title": {
           "x": 0.05
          },
          "xaxis": {
           "automargin": true,
           "gridcolor": "white",
           "linecolor": "white",
           "ticks": "",
           "title": {
            "standoff": 15
           },
           "zerolinecolor": "white",
           "zerolinewidth": 2
          },
          "yaxis": {
           "automargin": true,
           "gridcolor": "white",
           "linecolor": "white",
           "ticks": "",
           "title": {
            "standoff": 15
           },
           "zerolinecolor": "white",
           "zerolinewidth": 2
          }
         }
        },
        "title": {
         "text": "KMeans Clusters - t-SNE Projection"
        },
        "xaxis": {
         "anchor": "y",
         "domain": [
          0,
          1
         ],
         "title": {
          "text": "tsne_1"
         }
        },
        "yaxis": {
         "anchor": "x",
         "domain": [
          0,
          1
         ],
         "title": {
          "text": "tsne_2"
         }
        }
       }
      }
     },
     "metadata": {},
     "output_type": "display_data"
    }
   ],
   "source": [
    "# Visualização dos clusters - t-SNE\n",
    "fig = px.scatter(df, x=\"tsne_1\", y=\"tsne_2\",\n",
    "                 color=df[\"cluster_kmeans\"].astype(str),\n",
    "                 hover_name=\"track_id\",\n",
    "                 title=\"KMeans Clusters - t-SNE Projection\")\n",
    "fig.show()\n"
   ]
  },
  {
   "cell_type": "code",
   "execution_count": 16,
   "id": "8b3b2979",
   "metadata": {},
   "outputs": [
    {
     "data": {
      "application/vnd.plotly.v1+json": {
       "config": {
        "plotlyServerURL": "https://plot.ly"
       },
       "data": [
        {
         "hovertemplate": "<b>%{hovertext}</b><br><br>color=1<br>umap_1=%{x}<br>umap_2=%{y}<extra></extra>",
         "hovertext": [
          "brazil_bossa_nova_elis_regina_águas_de_março",
          "brazil_funk_carioca_anitta_show_das_poderosas",
          "brazil_funk_carioca_mc_bin_laden_tá_tranquilo,_tá_favorável",
          "brazil_funk_carioca_mc_kevinho_olha_a_explosão",
          "brazil_samba_martinho_da_vila_canta_canta_minha_gente",
          "india_bollywood_shreya_ghoshal_teri_ore",
          "india_bollywood_sonu_nigam_kal_ho_naa_ho",
          "japan_city_pop_junko_ohashi_telephone_number",
          "japan_enka_fuyumi_sakamoto_yozakura_oshichi",
          "japan_enka_hibari_misora_kawa_no_nagare_no_yō_ni",
          "japan_enka_sayuri_ishikawa_amagi_goe",
          "japan_j-pop_ayumi_hamasaki_voyage",
          "japan_min'yō_various_soran_bushi",
          "usa_blues_b.b._king_the_thrill_is_gone",
          "usa_blues_john_lee_hooker_boom_boom",
          "usa_blues_muddy_waters_mannish_boy",
          "usa_soul_otis_redding_try_a_little_tenderness",
          "usa_soul_sam_cooke_a_change_is_gonna_come"
         ],
         "legendgroup": "1",
         "marker": {
          "color": "#636efa",
          "symbol": "circle"
         },
         "mode": "markers",
         "name": "1",
         "orientation": "v",
         "showlegend": true,
         "type": "scatter",
         "x": {
          "bdata": "jeCaQL91gEDKxmlAT7XCQAmwgkBEQohAcie1QCWQjkBPPoBAWvORQL3mjkCTO8lArvqEQDTUlUAHY7JAjAu0QLp3p0APwHpA",
          "dtype": "f4"
         },
         "xaxis": "x",
         "y": {
          "bdata": "6jpUwB25d8BMh4XAiBaGwF2mjcAVQ1LAK1E7wMkpJsBTDE3AuOc8wIUdc8BiBHDACjpgwCe2XsBLN2/Ac5JYwL17X8DbVIrA",
          "dtype": "f4"
         },
         "yaxis": "y"
        },
        {
         "hovertemplate": "<b>%{hovertext}</b><br><br>color=3<br>umap_1=%{x}<br>umap_2=%{y}<extra></extra>",
         "hovertext": [
          "brazil_bossa_nova_joão_gilberto_chega_de_saudade",
          "brazil_bossa_nova_nara_leão_insensatez",
          "brazil_samba_cartola_as_rosas_não_falam",
          "india_bhajan_anup_jalota_aisi_laagi_lagan",
          "india_bhajan_hari_om_sharan_jai_jai_ram_krishna_hari",
          "india_bollywood_arijit_singh_tum_hi_ho",
          "india_bollywood_kumar_sanu_tujhe_dekha_to",
          "india_classical_ravi_shankar_raga_jog",
          "india_folk_bombay_jayashri_kanne_kalaimane",
          "japan_j-pop_hikaru_utada_first_love",
          "japan_min'yō_various_tanko_bushi",
          "usa_folk_bob_dylan_blowin'_in_the_wind",
          "usa_folk_joni_mitchell_both_sides_now",
          "usa_folk_simon_and_garfunkel_the_sound_of_silence"
         ],
         "legendgroup": "3",
         "marker": {
          "color": "#EF553B",
          "symbol": "circle"
         },
         "mode": "markers",
         "name": "3",
         "orientation": "v",
         "showlegend": true,
         "type": "scatter",
         "x": {
          "bdata": "7By5QNmQzUCJsL1A8PjMQOc2wkB2esxAPaDBQMV3q0AG2cFA/t/FQNWdr0DEQcdAnIPGQC+MwUA=",
          "dtype": "f4"
         },
         "xaxis": "x",
         "y": {
          "bdata": "Afbtv2RU5b/+n8y/DR58wF8GasCGvFrA/u5UwJ4n3b/B3krA2PQTwEmHDMBaoOm/U+25v7HODMA=",
          "dtype": "f4"
         },
         "yaxis": "y"
        },
        {
         "hovertemplate": "<b>%{hovertext}</b><br><br>color=4<br>umap_1=%{x}<br>umap_2=%{y}<extra></extra>",
         "hovertext": [
          "brazil_bossa_nova_tom_jobim_wave",
          "brazil_samba_zeca_pagodinho_deixa_a_vida_me_levar",
          "india_bhajan_narendra_chanchal_o_sheronwali",
          "india_classical_amjad_ali_khan_raga_durga",
          "india_classical_ms_subbulakshmi_bhaja_govindam",
          "india_folk_gurdas_maan_apna_punjab",
          "india_folk_manganiyar_group_nimbooda",
          "middle_east_maqam_oum_kalthoum_enta_omri",
          "usa_blues_etta_james_i'd_rather_go_blind",
          "usa_blues_robert_johnson_cross_road_blues",
          "usa_folk_joan_baez_diamonds_and_rust",
          "usa_folk_woody_guthrie_this_land_is_your_land",
          "usa_jazz_miles_davis_so_what"
         ],
         "legendgroup": "4",
         "marker": {
          "color": "#00cc96",
          "symbol": "circle"
         },
         "mode": "markers",
         "name": "4",
         "orientation": "v",
         "showlegend": true,
         "type": "scatter",
         "x": {
          "bdata": "DzWfQAD1Y0C3XppAZwqNQOnTokDpvIBAGRx5QKKBpkAqUqtAZCWUQBvwi0Cz5JRATgqfQA==",
          "dtype": "f4"
         },
         "xaxis": "x",
         "y": {
          "bdata": "jVIRwCqkD8D8xBzAvVhdv1ZB/b+dUry/91QKwItXMsBdQEbAmzDzv3g4BcA5cYG+XKBGwA==",
          "dtype": "f4"
         },
         "yaxis": "y"
        },
        {
         "hovertemplate": "<b>%{hovertext}</b><br><br>color=5<br>umap_1=%{x}<br>umap_2=%{y}<extra></extra>",
         "hovertext": [
          "brazil_bossa_nova_vinicius_de_moraes_garota_de_ipanema",
          "brazil_funk_carioca_ludmilla_24_horas_por_dia",
          "brazil_funk_carioca_mc_carol_não_foi_cabral",
          "brazil_samba_beth_carvalho_vou_festejar",
          "brazil_samba_paulinho_da_viola_foi_um_rio_que_passou_em_minha_vida",
          "india_bhajan_lata_mangeshkar_shree_krishna_govind_hare_murari",
          "india_folk_nooran_sisters_patakha_guddi",
          "india_folk_ranjit_bawa_jean",
          "japan_city_pop_anri_remember_summer_days",
          "japan_city_pop_mariya_takeuchi_plastic_love",
          "japan_city_pop_tatsuro_yamashita_sparkle",
          "japan_city_pop_tomoko_aran_i'm_in_love",
          "japan_enka_jero_umiyuki",
          "japan_j-pop_king_and_prince_cinderella_girl",
          "japan_j-pop_nogizaka46_influencer",
          "japan_min'yō_various_aizu_bandaisan",
          "japan_min'yō_various_tsugaru_jongara_bushi",
          "middle_east_dabke_omar_souleyman_warni_warni",
          "usa_soul_marvin_gaye_what's_going_on",
          "west_africa_afrobeat_fela_kuti_water_no_get_enemy"
         ],
         "legendgroup": "5",
         "marker": {
          "color": "#ab63fa",
          "symbol": "circle"
         },
         "mode": "markers",
         "name": "5",
         "orientation": "v",
         "showlegend": true,
         "type": "scatter",
         "x": {
          "bdata": "wYxRQCH1OUBuACxAIowaQLSvOUBKqCdAshl9QKZiSUAYkFtAQDRNQN+bNED3k0BAi5dgQNIaUEBXLjZAV94rQFFYF0Bq2SVA7t1DQEt9NEA=",
          "dtype": "f4"
         },
         "xaxis": "x",
         "y": {
          "bdata": "UJBFwJHSccCSHHnAJ0lcwFiPEcB/CWrAkxMgwN+jesBvo13A9EUswEcqhsD6nF/AFq54wOM4h8DKr5DAhflkwJg5OcBVg4TAmJAIwIU4I8A=",
          "dtype": "f4"
         },
         "yaxis": "y"
        },
        {
         "hovertemplate": "<b>%{hovertext}</b><br><br>color=2<br>umap_1=%{x}<br>umap_2=%{y}<extra></extra>",
         "hovertext": [
          "brazil_chorinho_abel_ferreira_chorando_baixinho",
          "brazil_chorinho_jacob_do_bandolim_noites_cariocas",
          "brazil_chorinho_pixinguinha_carinhoso",
          "brazil_chorinho_waldir_azevedo_brasileirinho",
          "india_bhajan_jagjit_singh_hey_govind_hey_gopal",
          "japan_j-pop_namie_amuro_can_you_celebrate#",
          "japan_min'yō_various_kuroda_bushi",
          "usa_jazz_bill_evans_waltz_for_debby",
          "usa_jazz_duke_ellington_take_the_a_train",
          "usa_jazz_john_coltrane_my_favorite_things",
          "usa_jazz_thelonious_monk_round_midnight",
          "usa_soul_aretha_franklin_respect",
          "usa_soul_etta_james_at_last",
          "west_africa_highlife_e.t._mensah_all_for_you"
         ],
         "legendgroup": "2",
         "marker": {
          "color": "#FFA15A",
          "symbol": "circle"
         },
         "mode": "markers",
         "name": "2",
         "orientation": "v",
         "showlegend": true,
         "type": "scatter",
         "x": {
          "bdata": "BByKQD9dp0A1RZVAi9GWQP4spkCZ8rlAxHCHQHybjUBNrmJAmWRJQLfOkEApw51AZnGFQIBIgEA=",
          "dtype": "f4"
         },
         "xaxis": "x",
         "y": {
          "bdata": "0yqZv8g3ir/93pu+Nbuwv3eIkb+FymC/JWgkv5T6/b4jTJ6/MnXWv/pz0L6dCsu/R47xvw8Tib8=",
          "dtype": "f4"
         },
         "yaxis": "y"
        },
        {
         "hovertemplate": "<b>%{hovertext}</b><br><br>color=0<br>umap_1=%{x}<br>umap_2=%{y}<extra></extra>",
         "hovertext": [
          "india_classical_bhimsen_joshi_raga_miyan_ki_todi",
          "india_classical_l._subramaniam_raga_hemavati"
         ],
         "legendgroup": "0",
         "marker": {
          "color": "#19d3f3",
          "symbol": "circle"
         },
         "mode": "markers",
         "name": "0",
         "orientation": "v",
         "showlegend": true,
         "type": "scatter",
         "x": {
          "bdata": "CamuQCV/qkA=",
          "dtype": "f4"
         },
         "xaxis": "x",
         "y": {
          "bdata": "ybUCv7Et5r4=",
          "dtype": "f4"
         },
         "yaxis": "y"
        }
       ],
       "layout": {
        "legend": {
         "title": {
          "text": "color"
         },
         "tracegroupgap": 0
        },
        "template": {
         "data": {
          "bar": [
           {
            "error_x": {
             "color": "#2a3f5f"
            },
            "error_y": {
             "color": "#2a3f5f"
            },
            "marker": {
             "line": {
              "color": "#E5ECF6",
              "width": 0.5
             },
             "pattern": {
              "fillmode": "overlay",
              "size": 10,
              "solidity": 0.2
             }
            },
            "type": "bar"
           }
          ],
          "barpolar": [
           {
            "marker": {
             "line": {
              "color": "#E5ECF6",
              "width": 0.5
             },
             "pattern": {
              "fillmode": "overlay",
              "size": 10,
              "solidity": 0.2
             }
            },
            "type": "barpolar"
           }
          ],
          "carpet": [
           {
            "aaxis": {
             "endlinecolor": "#2a3f5f",
             "gridcolor": "white",
             "linecolor": "white",
             "minorgridcolor": "white",
             "startlinecolor": "#2a3f5f"
            },
            "baxis": {
             "endlinecolor": "#2a3f5f",
             "gridcolor": "white",
             "linecolor": "white",
             "minorgridcolor": "white",
             "startlinecolor": "#2a3f5f"
            },
            "type": "carpet"
           }
          ],
          "choropleth": [
           {
            "colorbar": {
             "outlinewidth": 0,
             "ticks": ""
            },
            "type": "choropleth"
           }
          ],
          "contour": [
           {
            "colorbar": {
             "outlinewidth": 0,
             "ticks": ""
            },
            "colorscale": [
             [
              0,
              "#0d0887"
             ],
             [
              0.1111111111111111,
              "#46039f"
             ],
             [
              0.2222222222222222,
              "#7201a8"
             ],
             [
              0.3333333333333333,
              "#9c179e"
             ],
             [
              0.4444444444444444,
              "#bd3786"
             ],
             [
              0.5555555555555556,
              "#d8576b"
             ],
             [
              0.6666666666666666,
              "#ed7953"
             ],
             [
              0.7777777777777778,
              "#fb9f3a"
             ],
             [
              0.8888888888888888,
              "#fdca26"
             ],
             [
              1,
              "#f0f921"
             ]
            ],
            "type": "contour"
           }
          ],
          "contourcarpet": [
           {
            "colorbar": {
             "outlinewidth": 0,
             "ticks": ""
            },
            "type": "contourcarpet"
           }
          ],
          "heatmap": [
           {
            "colorbar": {
             "outlinewidth": 0,
             "ticks": ""
            },
            "colorscale": [
             [
              0,
              "#0d0887"
             ],
             [
              0.1111111111111111,
              "#46039f"
             ],
             [
              0.2222222222222222,
              "#7201a8"
             ],
             [
              0.3333333333333333,
              "#9c179e"
             ],
             [
              0.4444444444444444,
              "#bd3786"
             ],
             [
              0.5555555555555556,
              "#d8576b"
             ],
             [
              0.6666666666666666,
              "#ed7953"
             ],
             [
              0.7777777777777778,
              "#fb9f3a"
             ],
             [
              0.8888888888888888,
              "#fdca26"
             ],
             [
              1,
              "#f0f921"
             ]
            ],
            "type": "heatmap"
           }
          ],
          "histogram": [
           {
            "marker": {
             "pattern": {
              "fillmode": "overlay",
              "size": 10,
              "solidity": 0.2
             }
            },
            "type": "histogram"
           }
          ],
          "histogram2d": [
           {
            "colorbar": {
             "outlinewidth": 0,
             "ticks": ""
            },
            "colorscale": [
             [
              0,
              "#0d0887"
             ],
             [
              0.1111111111111111,
              "#46039f"
             ],
             [
              0.2222222222222222,
              "#7201a8"
             ],
             [
              0.3333333333333333,
              "#9c179e"
             ],
             [
              0.4444444444444444,
              "#bd3786"
             ],
             [
              0.5555555555555556,
              "#d8576b"
             ],
             [
              0.6666666666666666,
              "#ed7953"
             ],
             [
              0.7777777777777778,
              "#fb9f3a"
             ],
             [
              0.8888888888888888,
              "#fdca26"
             ],
             [
              1,
              "#f0f921"
             ]
            ],
            "type": "histogram2d"
           }
          ],
          "histogram2dcontour": [
           {
            "colorbar": {
             "outlinewidth": 0,
             "ticks": ""
            },
            "colorscale": [
             [
              0,
              "#0d0887"
             ],
             [
              0.1111111111111111,
              "#46039f"
             ],
             [
              0.2222222222222222,
              "#7201a8"
             ],
             [
              0.3333333333333333,
              "#9c179e"
             ],
             [
              0.4444444444444444,
              "#bd3786"
             ],
             [
              0.5555555555555556,
              "#d8576b"
             ],
             [
              0.6666666666666666,
              "#ed7953"
             ],
             [
              0.7777777777777778,
              "#fb9f3a"
             ],
             [
              0.8888888888888888,
              "#fdca26"
             ],
             [
              1,
              "#f0f921"
             ]
            ],
            "type": "histogram2dcontour"
           }
          ],
          "mesh3d": [
           {
            "colorbar": {
             "outlinewidth": 0,
             "ticks": ""
            },
            "type": "mesh3d"
           }
          ],
          "parcoords": [
           {
            "line": {
             "colorbar": {
              "outlinewidth": 0,
              "ticks": ""
             }
            },
            "type": "parcoords"
           }
          ],
          "pie": [
           {
            "automargin": true,
            "type": "pie"
           }
          ],
          "scatter": [
           {
            "fillpattern": {
             "fillmode": "overlay",
             "size": 10,
             "solidity": 0.2
            },
            "type": "scatter"
           }
          ],
          "scatter3d": [
           {
            "line": {
             "colorbar": {
              "outlinewidth": 0,
              "ticks": ""
             }
            },
            "marker": {
             "colorbar": {
              "outlinewidth": 0,
              "ticks": ""
             }
            },
            "type": "scatter3d"
           }
          ],
          "scattercarpet": [
           {
            "marker": {
             "colorbar": {
              "outlinewidth": 0,
              "ticks": ""
             }
            },
            "type": "scattercarpet"
           }
          ],
          "scattergeo": [
           {
            "marker": {
             "colorbar": {
              "outlinewidth": 0,
              "ticks": ""
             }
            },
            "type": "scattergeo"
           }
          ],
          "scattergl": [
           {
            "marker": {
             "colorbar": {
              "outlinewidth": 0,
              "ticks": ""
             }
            },
            "type": "scattergl"
           }
          ],
          "scattermap": [
           {
            "marker": {
             "colorbar": {
              "outlinewidth": 0,
              "ticks": ""
             }
            },
            "type": "scattermap"
           }
          ],
          "scattermapbox": [
           {
            "marker": {
             "colorbar": {
              "outlinewidth": 0,
              "ticks": ""
             }
            },
            "type": "scattermapbox"
           }
          ],
          "scatterpolar": [
           {
            "marker": {
             "colorbar": {
              "outlinewidth": 0,
              "ticks": ""
             }
            },
            "type": "scatterpolar"
           }
          ],
          "scatterpolargl": [
           {
            "marker": {
             "colorbar": {
              "outlinewidth": 0,
              "ticks": ""
             }
            },
            "type": "scatterpolargl"
           }
          ],
          "scatterternary": [
           {
            "marker": {
             "colorbar": {
              "outlinewidth": 0,
              "ticks": ""
             }
            },
            "type": "scatterternary"
           }
          ],
          "surface": [
           {
            "colorbar": {
             "outlinewidth": 0,
             "ticks": ""
            },
            "colorscale": [
             [
              0,
              "#0d0887"
             ],
             [
              0.1111111111111111,
              "#46039f"
             ],
             [
              0.2222222222222222,
              "#7201a8"
             ],
             [
              0.3333333333333333,
              "#9c179e"
             ],
             [
              0.4444444444444444,
              "#bd3786"
             ],
             [
              0.5555555555555556,
              "#d8576b"
             ],
             [
              0.6666666666666666,
              "#ed7953"
             ],
             [
              0.7777777777777778,
              "#fb9f3a"
             ],
             [
              0.8888888888888888,
              "#fdca26"
             ],
             [
              1,
              "#f0f921"
             ]
            ],
            "type": "surface"
           }
          ],
          "table": [
           {
            "cells": {
             "fill": {
              "color": "#EBF0F8"
             },
             "line": {
              "color": "white"
             }
            },
            "header": {
             "fill": {
              "color": "#C8D4E3"
             },
             "line": {
              "color": "white"
             }
            },
            "type": "table"
           }
          ]
         },
         "layout": {
          "annotationdefaults": {
           "arrowcolor": "#2a3f5f",
           "arrowhead": 0,
           "arrowwidth": 1
          },
          "autotypenumbers": "strict",
          "coloraxis": {
           "colorbar": {
            "outlinewidth": 0,
            "ticks": ""
           }
          },
          "colorscale": {
           "diverging": [
            [
             0,
             "#8e0152"
            ],
            [
             0.1,
             "#c51b7d"
            ],
            [
             0.2,
             "#de77ae"
            ],
            [
             0.3,
             "#f1b6da"
            ],
            [
             0.4,
             "#fde0ef"
            ],
            [
             0.5,
             "#f7f7f7"
            ],
            [
             0.6,
             "#e6f5d0"
            ],
            [
             0.7,
             "#b8e186"
            ],
            [
             0.8,
             "#7fbc41"
            ],
            [
             0.9,
             "#4d9221"
            ],
            [
             1,
             "#276419"
            ]
           ],
           "sequential": [
            [
             0,
             "#0d0887"
            ],
            [
             0.1111111111111111,
             "#46039f"
            ],
            [
             0.2222222222222222,
             "#7201a8"
            ],
            [
             0.3333333333333333,
             "#9c179e"
            ],
            [
             0.4444444444444444,
             "#bd3786"
            ],
            [
             0.5555555555555556,
             "#d8576b"
            ],
            [
             0.6666666666666666,
             "#ed7953"
            ],
            [
             0.7777777777777778,
             "#fb9f3a"
            ],
            [
             0.8888888888888888,
             "#fdca26"
            ],
            [
             1,
             "#f0f921"
            ]
           ],
           "sequentialminus": [
            [
             0,
             "#0d0887"
            ],
            [
             0.1111111111111111,
             "#46039f"
            ],
            [
             0.2222222222222222,
             "#7201a8"
            ],
            [
             0.3333333333333333,
             "#9c179e"
            ],
            [
             0.4444444444444444,
             "#bd3786"
            ],
            [
             0.5555555555555556,
             "#d8576b"
            ],
            [
             0.6666666666666666,
             "#ed7953"
            ],
            [
             0.7777777777777778,
             "#fb9f3a"
            ],
            [
             0.8888888888888888,
             "#fdca26"
            ],
            [
             1,
             "#f0f921"
            ]
           ]
          },
          "colorway": [
           "#636efa",
           "#EF553B",
           "#00cc96",
           "#ab63fa",
           "#FFA15A",
           "#19d3f3",
           "#FF6692",
           "#B6E880",
           "#FF97FF",
           "#FECB52"
          ],
          "font": {
           "color": "#2a3f5f"
          },
          "geo": {
           "bgcolor": "white",
           "lakecolor": "white",
           "landcolor": "#E5ECF6",
           "showlakes": true,
           "showland": true,
           "subunitcolor": "white"
          },
          "hoverlabel": {
           "align": "left"
          },
          "hovermode": "closest",
          "mapbox": {
           "style": "light"
          },
          "paper_bgcolor": "white",
          "plot_bgcolor": "#E5ECF6",
          "polar": {
           "angularaxis": {
            "gridcolor": "white",
            "linecolor": "white",
            "ticks": ""
           },
           "bgcolor": "#E5ECF6",
           "radialaxis": {
            "gridcolor": "white",
            "linecolor": "white",
            "ticks": ""
           }
          },
          "scene": {
           "xaxis": {
            "backgroundcolor": "#E5ECF6",
            "gridcolor": "white",
            "gridwidth": 2,
            "linecolor": "white",
            "showbackground": true,
            "ticks": "",
            "zerolinecolor": "white"
           },
           "yaxis": {
            "backgroundcolor": "#E5ECF6",
            "gridcolor": "white",
            "gridwidth": 2,
            "linecolor": "white",
            "showbackground": true,
            "ticks": "",
            "zerolinecolor": "white"
           },
           "zaxis": {
            "backgroundcolor": "#E5ECF6",
            "gridcolor": "white",
            "gridwidth": 2,
            "linecolor": "white",
            "showbackground": true,
            "ticks": "",
            "zerolinecolor": "white"
           }
          },
          "shapedefaults": {
           "line": {
            "color": "#2a3f5f"
           }
          },
          "ternary": {
           "aaxis": {
            "gridcolor": "white",
            "linecolor": "white",
            "ticks": ""
           },
           "baxis": {
            "gridcolor": "white",
            "linecolor": "white",
            "ticks": ""
           },
           "bgcolor": "#E5ECF6",
           "caxis": {
            "gridcolor": "white",
            "linecolor": "white",
            "ticks": ""
           }
          },
          "title": {
           "x": 0.05
          },
          "xaxis": {
           "automargin": true,
           "gridcolor": "white",
           "linecolor": "white",
           "ticks": "",
           "title": {
            "standoff": 15
           },
           "zerolinecolor": "white",
           "zerolinewidth": 2
          },
          "yaxis": {
           "automargin": true,
           "gridcolor": "white",
           "linecolor": "white",
           "ticks": "",
           "title": {
            "standoff": 15
           },
           "zerolinecolor": "white",
           "zerolinewidth": 2
          }
         }
        },
        "title": {
         "text": "KMeans Clusters - UMAP Projection"
        },
        "xaxis": {
         "anchor": "y",
         "domain": [
          0,
          1
         ],
         "title": {
          "text": "umap_1"
         }
        },
        "yaxis": {
         "anchor": "x",
         "domain": [
          0,
          1
         ],
         "title": {
          "text": "umap_2"
         }
        }
       }
      }
     },
     "metadata": {},
     "output_type": "display_data"
    }
   ],
   "source": [
    "# Visualização dos clusters - UMAP\n",
    "fig = px.scatter(df, x=\"umap_1\", y=\"umap_2\",\n",
    "                 color=df[\"cluster_kmeans\"].astype(str),\n",
    "                 hover_name=\"track_id\",\n",
    "                 title=\"KMeans Clusters - UMAP Projection\")\n",
    "fig.show()\n"
   ]
  },
  {
   "cell_type": "code",
   "execution_count": 17,
   "id": "1c0119c8",
   "metadata": {},
   "outputs": [
    {
     "data": {
      "text/html": [
       "<div>\n",
       "<style scoped>\n",
       "    .dataframe tbody tr th:only-of-type {\n",
       "        vertical-align: middle;\n",
       "    }\n",
       "\n",
       "    .dataframe tbody tr th {\n",
       "        vertical-align: top;\n",
       "    }\n",
       "\n",
       "    .dataframe thead th {\n",
       "        text-align: right;\n",
       "    }\n",
       "</style>\n",
       "<table border=\"1\" class=\"dataframe\">\n",
       "  <thead>\n",
       "    <tr style=\"text-align: right;\">\n",
       "      <th></th>\n",
       "      <th>Silhouette</th>\n",
       "      <th>Calinski-Harabasz</th>\n",
       "      <th>Davies-Bouldin</th>\n",
       "    </tr>\n",
       "  </thead>\n",
       "  <tbody>\n",
       "    <tr>\n",
       "      <th>PCA_country</th>\n",
       "      <td>-0.204</td>\n",
       "      <td>1.818</td>\n",
       "      <td>14.684</td>\n",
       "    </tr>\n",
       "    <tr>\n",
       "      <th>PCA_style</th>\n",
       "      <td>-0.293</td>\n",
       "      <td>3.073</td>\n",
       "      <td>11.965</td>\n",
       "    </tr>\n",
       "    <tr>\n",
       "      <th>tSNE_country</th>\n",
       "      <td>-0.221</td>\n",
       "      <td>1.598</td>\n",
       "      <td>4.958</td>\n",
       "    </tr>\n",
       "    <tr>\n",
       "      <th>tSNE_style</th>\n",
       "      <td>-0.315</td>\n",
       "      <td>1.394</td>\n",
       "      <td>8.320</td>\n",
       "    </tr>\n",
       "    <tr>\n",
       "      <th>UMAP_country</th>\n",
       "      <td>-0.197</td>\n",
       "      <td>1.866</td>\n",
       "      <td>6.484</td>\n",
       "    </tr>\n",
       "    <tr>\n",
       "      <th>UMAP_style</th>\n",
       "      <td>-0.351</td>\n",
       "      <td>2.625</td>\n",
       "      <td>7.417</td>\n",
       "    </tr>\n",
       "    <tr>\n",
       "      <th>PCA_kmeans</th>\n",
       "      <td>0.143</td>\n",
       "      <td>29.046</td>\n",
       "      <td>1.568</td>\n",
       "    </tr>\n",
       "    <tr>\n",
       "      <th>tSNE_kmeans</th>\n",
       "      <td>0.089</td>\n",
       "      <td>13.234</td>\n",
       "      <td>3.276</td>\n",
       "    </tr>\n",
       "    <tr>\n",
       "      <th>UMAP_kmeans</th>\n",
       "      <td>0.186</td>\n",
       "      <td>40.467</td>\n",
       "      <td>1.162</td>\n",
       "    </tr>\n",
       "  </tbody>\n",
       "</table>\n",
       "</div>"
      ],
      "text/plain": [
       "              Silhouette  Calinski-Harabasz  Davies-Bouldin\n",
       "PCA_country       -0.204              1.818          14.684\n",
       "PCA_style         -0.293              3.073          11.965\n",
       "tSNE_country      -0.221              1.598           4.958\n",
       "tSNE_style        -0.315              1.394           8.320\n",
       "UMAP_country      -0.197              1.866           6.484\n",
       "UMAP_style        -0.351              2.625           7.417\n",
       "PCA_kmeans         0.143             29.046           1.568\n",
       "tSNE_kmeans        0.089             13.234           3.276\n",
       "UMAP_kmeans        0.186             40.467           1.162"
      ]
     },
     "execution_count": 17,
     "metadata": {},
     "output_type": "execute_result"
    }
   ],
   "source": [
    "# Atualiza sumário com os resultados dos clusters\n",
    "summary = pd.DataFrame(results, index=[\"Silhouette\", \"Calinski-Harabasz\", \"Davies-Bouldin\"]).T\n",
    "summary = summary.round(3)\n",
    "summary\n"
   ]
  },
  {
   "cell_type": "code",
   "execution_count": 20,
   "id": "e4c5d1dd",
   "metadata": {},
   "outputs": [],
   "source": [
    "import hdbscan\n"
   ]
  },
  {
   "cell_type": "code",
   "execution_count": 21,
   "id": "e7865b48",
   "metadata": {},
   "outputs": [
    {
     "name": "stderr",
     "output_type": "stream",
     "text": [
      "C:\\Users\\psene\\AppData\\Local\\Packages\\PythonSoftwareFoundation.Python.3.12_qbz5n2kfra8p0\\LocalCache\\local-packages\\Python312\\site-packages\\sklearn\\utils\\deprecation.py:151: FutureWarning:\n",
      "\n",
      "'force_all_finite' was renamed to 'ensure_all_finite' in 1.6 and will be removed in 1.8.\n",
      "\n",
      "C:\\Users\\psene\\AppData\\Local\\Packages\\PythonSoftwareFoundation.Python.3.12_qbz5n2kfra8p0\\LocalCache\\local-packages\\Python312\\site-packages\\sklearn\\utils\\deprecation.py:151: FutureWarning:\n",
      "\n",
      "'force_all_finite' was renamed to 'ensure_all_finite' in 1.6 and will be removed in 1.8.\n",
      "\n"
     ]
    }
   ],
   "source": [
    "# Aplica HDBSCAN no espaço UMAP (mais promissor até agora)\n",
    "clusterer = hdbscan.HDBSCAN(min_cluster_size=4)\n",
    "df[\"cluster_hdbscan\"] = clusterer.fit_predict(df[[\"umap_1\", \"umap_2\"]])\n"
   ]
  },
  {
   "cell_type": "code",
   "execution_count": 22,
   "id": "3b76d502",
   "metadata": {},
   "outputs": [
    {
     "data": {
      "application/vnd.plotly.v1+json": {
       "config": {
        "plotlyServerURL": "https://plot.ly"
       },
       "data": [
        {
         "hovertemplate": "<b>%{hovertext}</b><br><br>color=3<br>umap_1=%{x}<br>umap_2=%{y}<extra></extra>",
         "hovertext": [
          "brazil_bossa_nova_elis_regina_águas_de_março",
          "india_bhajan_hari_om_sharan_jai_jai_ram_krishna_hari",
          "india_bollywood_arijit_singh_tum_hi_ho",
          "india_bollywood_kumar_sanu_tujhe_dekha_to",
          "india_bollywood_shreya_ghoshal_teri_ore",
          "japan_enka_hibari_misora_kawa_no_nagare_no_yō_ni",
          "japan_min'yō_various_soran_bushi",
          "usa_blues_etta_james_i'd_rather_go_blind",
          "usa_blues_muddy_waters_mannish_boy",
          "usa_jazz_miles_davis_so_what",
          "usa_soul_otis_redding_try_a_little_tenderness"
         ],
         "legendgroup": "3",
         "marker": {
          "color": "#636efa",
          "symbol": "circle"
         },
         "mode": "markers",
         "name": "3",
         "orientation": "v",
         "showlegend": true,
         "type": "scatter",
         "x": {
          "bdata": "jeCaQOc2wkB2esxAPaDBQERCiEBa85FArvqEQCpSq0CMC7RATgqfQLp3p0A=",
          "dtype": "f4"
         },
         "xaxis": "x",
         "y": {
          "bdata": "6jpUwF8GasCGvFrA/u5UwBVDUsC45zzACjpgwF1ARsBzkljAXKBGwL17X8A=",
          "dtype": "f4"
         },
         "yaxis": "y"
        },
        {
         "hovertemplate": "<b>%{hovertext}</b><br><br>color=1<br>umap_1=%{x}<br>umap_2=%{y}<extra></extra>",
         "hovertext": [
          "brazil_bossa_nova_joão_gilberto_chega_de_saudade",
          "brazil_bossa_nova_tom_jobim_wave",
          "india_classical_ms_subbulakshmi_bhaja_govindam",
          "india_classical_ravi_shankar_raga_jog",
          "india_folk_manganiyar_group_nimbooda",
          "japan_min'yō_various_tanko_bushi",
          "usa_blues_robert_johnson_cross_road_blues",
          "usa_folk_bob_dylan_blowin'_in_the_wind",
          "usa_soul_aretha_franklin_respect",
          "usa_soul_etta_james_at_last"
         ],
         "legendgroup": "1",
         "marker": {
          "color": "#EF553B",
          "symbol": "circle"
         },
         "mode": "markers",
         "name": "1",
         "orientation": "v",
         "showlegend": true,
         "type": "scatter",
         "x": {
          "bdata": "7By5QA81n0Dp06JAxXerQBkceUDVna9AZCWUQMRBx0Apw51AZnGFQA==",
          "dtype": "f4"
         },
         "xaxis": "x",
         "y": {
          "bdata": "Afbtv41SEcBWQf2/nifdv/dUCsBJhwzAmzDzv1qg6b+dCsu/R47xvw==",
          "dtype": "f4"
         },
         "yaxis": "y"
        },
        {
         "hovertemplate": "<b>%{hovertext}</b><br><br>color=-1<br>umap_1=%{x}<br>umap_2=%{y}<extra></extra>",
         "hovertext": [
          "brazil_bossa_nova_nara_leão_insensatez",
          "brazil_bossa_nova_vinicius_de_moraes_garota_de_ipanema",
          "brazil_chorinho_jacob_do_bandolim_noites_cariocas",
          "brazil_chorinho_pixinguinha_carinhoso",
          "brazil_chorinho_waldir_azevedo_brasileirinho",
          "brazil_funk_carioca_mc_kevinho_olha_a_explosão",
          "brazil_samba_beth_carvalho_vou_festejar",
          "brazil_samba_cartola_as_rosas_não_falam",
          "brazil_samba_martinho_da_vila_canta_canta_minha_gente",
          "brazil_samba_paulinho_da_viola_foi_um_rio_que_passou_em_minha_vida",
          "brazil_samba_zeca_pagodinho_deixa_a_vida_me_levar",
          "india_bhajan_anup_jalota_aisi_laagi_lagan",
          "india_bhajan_jagjit_singh_hey_govind_hey_gopal",
          "india_bhajan_narendra_chanchal_o_sheronwali",
          "india_bollywood_sonu_nigam_kal_ho_naa_ho",
          "india_classical_bhimsen_joshi_raga_miyan_ki_todi",
          "india_classical_l._subramaniam_raga_hemavati",
          "india_folk_bombay_jayashri_kanne_kalaimane",
          "india_folk_nooran_sisters_patakha_guddi",
          "japan_city_pop_anri_remember_summer_days",
          "japan_city_pop_junko_ohashi_telephone_number",
          "japan_city_pop_mariya_takeuchi_plastic_love",
          "japan_enka_fuyumi_sakamoto_yozakura_oshichi",
          "japan_enka_sayuri_ishikawa_amagi_goe",
          "japan_j-pop_ayumi_hamasaki_voyage",
          "japan_j-pop_hikaru_utada_first_love",
          "japan_j-pop_namie_amuro_can_you_celebrate#",
          "japan_j-pop_nogizaka46_influencer",
          "japan_min'yō_various_tsugaru_jongara_bushi",
          "middle_east_dabke_omar_souleyman_warni_warni",
          "middle_east_maqam_oum_kalthoum_enta_omri",
          "usa_blues_b.b._king_the_thrill_is_gone",
          "usa_blues_john_lee_hooker_boom_boom",
          "usa_folk_joan_baez_diamonds_and_rust",
          "usa_folk_joni_mitchell_both_sides_now",
          "usa_folk_simon_and_garfunkel_the_sound_of_silence",
          "usa_folk_woody_guthrie_this_land_is_your_land",
          "usa_jazz_duke_ellington_take_the_a_train",
          "usa_jazz_john_coltrane_my_favorite_things",
          "usa_soul_marvin_gaye_what's_going_on",
          "usa_soul_sam_cooke_a_change_is_gonna_come",
          "west_africa_afrobeat_fela_kuti_water_no_get_enemy"
         ],
         "legendgroup": "-1",
         "marker": {
          "color": "#00cc96",
          "symbol": "circle"
         },
         "mode": "markers",
         "name": "-1",
         "orientation": "v",
         "showlegend": true,
         "type": "scatter",
         "x": {
          "bdata": "2ZDNQMGMUUA/XadANUWVQIvRlkBPtcJAIowaQImwvUAJsIJAtK85QAD1Y0Dw+MxA/iymQLdemkByJ7VACamuQCV/qkAG2cFAshl9QBiQW0AlkI5AQDRNQE8+gEC95o5AkzvJQP7fxUCZ8rlAVy42QFFYF0Bq2SVAooGmQDTUlUAHY7JAG/CLQJyDxkAvjMFAs+SUQE2uYkCZZElA7t1DQA/AekBLfTRA",
          "dtype": "f4"
         },
         "xaxis": "x",
         "y": {
          "bdata": "ZFTlv1CQRcDIN4q//d6bvjW7sL+IFobAJ0lcwP6fzL9dpo3AWI8RwCqkD8ANHnzAd4iRv/zEHMArUTvAybUCv7Et5r7B3krAkxMgwG+jXcDJKSbA9EUswFMMTcCFHXPAYgRwwNj0E8CFymC/yq+QwJg5OcBVg4TAi1cywCe2XsBLN2/AeDgFwFPtub+xzgzAOXGBviNMnr8ydda/mJAIwNtUisCFOCPA",
          "dtype": "f4"
         },
         "yaxis": "y"
        },
        {
         "hovertemplate": "<b>%{hovertext}</b><br><br>color=0<br>umap_1=%{x}<br>umap_2=%{y}<extra></extra>",
         "hovertext": [
          "brazil_chorinho_abel_ferreira_chorando_baixinho",
          "india_classical_amjad_ali_khan_raga_durga",
          "india_folk_gurdas_maan_apna_punjab",
          "japan_min'yō_various_kuroda_bushi",
          "usa_jazz_bill_evans_waltz_for_debby",
          "usa_jazz_thelonious_monk_round_midnight",
          "west_africa_highlife_e.t._mensah_all_for_you"
         ],
         "legendgroup": "0",
         "marker": {
          "color": "#ab63fa",
          "symbol": "circle"
         },
         "mode": "markers",
         "name": "0",
         "orientation": "v",
         "showlegend": true,
         "type": "scatter",
         "x": {
          "bdata": "BByKQGcKjUDpvIBAxHCHQHybjUC3zpBAgEiAQA==",
          "dtype": "f4"
         },
         "xaxis": "x",
         "y": {
          "bdata": "0yqZv71YXb+dUry/JWgkv5T6/b76c9C+DxOJvw==",
          "dtype": "f4"
         },
         "yaxis": "y"
        },
        {
         "hovertemplate": "<b>%{hovertext}</b><br><br>color=2<br>umap_1=%{x}<br>umap_2=%{y}<extra></extra>",
         "hovertext": [
          "brazil_funk_carioca_anitta_show_das_poderosas",
          "brazil_funk_carioca_ludmilla_24_horas_por_dia",
          "brazil_funk_carioca_mc_bin_laden_tá_tranquilo,_tá_favorável",
          "brazil_funk_carioca_mc_carol_não_foi_cabral",
          "india_bhajan_lata_mangeshkar_shree_krishna_govind_hare_murari",
          "india_folk_ranjit_bawa_jean",
          "japan_city_pop_tatsuro_yamashita_sparkle",
          "japan_city_pop_tomoko_aran_i'm_in_love",
          "japan_enka_jero_umiyuki",
          "japan_j-pop_king_and_prince_cinderella_girl",
          "japan_min'yō_various_aizu_bandaisan"
         ],
         "legendgroup": "2",
         "marker": {
          "color": "#FFA15A",
          "symbol": "circle"
         },
         "mode": "markers",
         "name": "2",
         "orientation": "v",
         "showlegend": true,
         "type": "scatter",
         "x": {
          "bdata": "v3WAQCH1OUDKxmlAbgAsQEqoJ0CmYklA35s0QPeTQECLl2BA0hpQQFfeK0A=",
          "dtype": "f4"
         },
         "xaxis": "x",
         "y": {
          "bdata": "Hbl3wJHSccBMh4XAkhx5wH8JasDfo3rARyqGwPqcX8AWrnjA4ziHwIX5ZMA=",
          "dtype": "f4"
         },
         "yaxis": "y"
        }
       ],
       "layout": {
        "legend": {
         "title": {
          "text": "color"
         },
         "tracegroupgap": 0
        },
        "template": {
         "data": {
          "bar": [
           {
            "error_x": {
             "color": "#2a3f5f"
            },
            "error_y": {
             "color": "#2a3f5f"
            },
            "marker": {
             "line": {
              "color": "#E5ECF6",
              "width": 0.5
             },
             "pattern": {
              "fillmode": "overlay",
              "size": 10,
              "solidity": 0.2
             }
            },
            "type": "bar"
           }
          ],
          "barpolar": [
           {
            "marker": {
             "line": {
              "color": "#E5ECF6",
              "width": 0.5
             },
             "pattern": {
              "fillmode": "overlay",
              "size": 10,
              "solidity": 0.2
             }
            },
            "type": "barpolar"
           }
          ],
          "carpet": [
           {
            "aaxis": {
             "endlinecolor": "#2a3f5f",
             "gridcolor": "white",
             "linecolor": "white",
             "minorgridcolor": "white",
             "startlinecolor": "#2a3f5f"
            },
            "baxis": {
             "endlinecolor": "#2a3f5f",
             "gridcolor": "white",
             "linecolor": "white",
             "minorgridcolor": "white",
             "startlinecolor": "#2a3f5f"
            },
            "type": "carpet"
           }
          ],
          "choropleth": [
           {
            "colorbar": {
             "outlinewidth": 0,
             "ticks": ""
            },
            "type": "choropleth"
           }
          ],
          "contour": [
           {
            "colorbar": {
             "outlinewidth": 0,
             "ticks": ""
            },
            "colorscale": [
             [
              0,
              "#0d0887"
             ],
             [
              0.1111111111111111,
              "#46039f"
             ],
             [
              0.2222222222222222,
              "#7201a8"
             ],
             [
              0.3333333333333333,
              "#9c179e"
             ],
             [
              0.4444444444444444,
              "#bd3786"
             ],
             [
              0.5555555555555556,
              "#d8576b"
             ],
             [
              0.6666666666666666,
              "#ed7953"
             ],
             [
              0.7777777777777778,
              "#fb9f3a"
             ],
             [
              0.8888888888888888,
              "#fdca26"
             ],
             [
              1,
              "#f0f921"
             ]
            ],
            "type": "contour"
           }
          ],
          "contourcarpet": [
           {
            "colorbar": {
             "outlinewidth": 0,
             "ticks": ""
            },
            "type": "contourcarpet"
           }
          ],
          "heatmap": [
           {
            "colorbar": {
             "outlinewidth": 0,
             "ticks": ""
            },
            "colorscale": [
             [
              0,
              "#0d0887"
             ],
             [
              0.1111111111111111,
              "#46039f"
             ],
             [
              0.2222222222222222,
              "#7201a8"
             ],
             [
              0.3333333333333333,
              "#9c179e"
             ],
             [
              0.4444444444444444,
              "#bd3786"
             ],
             [
              0.5555555555555556,
              "#d8576b"
             ],
             [
              0.6666666666666666,
              "#ed7953"
             ],
             [
              0.7777777777777778,
              "#fb9f3a"
             ],
             [
              0.8888888888888888,
              "#fdca26"
             ],
             [
              1,
              "#f0f921"
             ]
            ],
            "type": "heatmap"
           }
          ],
          "histogram": [
           {
            "marker": {
             "pattern": {
              "fillmode": "overlay",
              "size": 10,
              "solidity": 0.2
             }
            },
            "type": "histogram"
           }
          ],
          "histogram2d": [
           {
            "colorbar": {
             "outlinewidth": 0,
             "ticks": ""
            },
            "colorscale": [
             [
              0,
              "#0d0887"
             ],
             [
              0.1111111111111111,
              "#46039f"
             ],
             [
              0.2222222222222222,
              "#7201a8"
             ],
             [
              0.3333333333333333,
              "#9c179e"
             ],
             [
              0.4444444444444444,
              "#bd3786"
             ],
             [
              0.5555555555555556,
              "#d8576b"
             ],
             [
              0.6666666666666666,
              "#ed7953"
             ],
             [
              0.7777777777777778,
              "#fb9f3a"
             ],
             [
              0.8888888888888888,
              "#fdca26"
             ],
             [
              1,
              "#f0f921"
             ]
            ],
            "type": "histogram2d"
           }
          ],
          "histogram2dcontour": [
           {
            "colorbar": {
             "outlinewidth": 0,
             "ticks": ""
            },
            "colorscale": [
             [
              0,
              "#0d0887"
             ],
             [
              0.1111111111111111,
              "#46039f"
             ],
             [
              0.2222222222222222,
              "#7201a8"
             ],
             [
              0.3333333333333333,
              "#9c179e"
             ],
             [
              0.4444444444444444,
              "#bd3786"
             ],
             [
              0.5555555555555556,
              "#d8576b"
             ],
             [
              0.6666666666666666,
              "#ed7953"
             ],
             [
              0.7777777777777778,
              "#fb9f3a"
             ],
             [
              0.8888888888888888,
              "#fdca26"
             ],
             [
              1,
              "#f0f921"
             ]
            ],
            "type": "histogram2dcontour"
           }
          ],
          "mesh3d": [
           {
            "colorbar": {
             "outlinewidth": 0,
             "ticks": ""
            },
            "type": "mesh3d"
           }
          ],
          "parcoords": [
           {
            "line": {
             "colorbar": {
              "outlinewidth": 0,
              "ticks": ""
             }
            },
            "type": "parcoords"
           }
          ],
          "pie": [
           {
            "automargin": true,
            "type": "pie"
           }
          ],
          "scatter": [
           {
            "fillpattern": {
             "fillmode": "overlay",
             "size": 10,
             "solidity": 0.2
            },
            "type": "scatter"
           }
          ],
          "scatter3d": [
           {
            "line": {
             "colorbar": {
              "outlinewidth": 0,
              "ticks": ""
             }
            },
            "marker": {
             "colorbar": {
              "outlinewidth": 0,
              "ticks": ""
             }
            },
            "type": "scatter3d"
           }
          ],
          "scattercarpet": [
           {
            "marker": {
             "colorbar": {
              "outlinewidth": 0,
              "ticks": ""
             }
            },
            "type": "scattercarpet"
           }
          ],
          "scattergeo": [
           {
            "marker": {
             "colorbar": {
              "outlinewidth": 0,
              "ticks": ""
             }
            },
            "type": "scattergeo"
           }
          ],
          "scattergl": [
           {
            "marker": {
             "colorbar": {
              "outlinewidth": 0,
              "ticks": ""
             }
            },
            "type": "scattergl"
           }
          ],
          "scattermap": [
           {
            "marker": {
             "colorbar": {
              "outlinewidth": 0,
              "ticks": ""
             }
            },
            "type": "scattermap"
           }
          ],
          "scattermapbox": [
           {
            "marker": {
             "colorbar": {
              "outlinewidth": 0,
              "ticks": ""
             }
            },
            "type": "scattermapbox"
           }
          ],
          "scatterpolar": [
           {
            "marker": {
             "colorbar": {
              "outlinewidth": 0,
              "ticks": ""
             }
            },
            "type": "scatterpolar"
           }
          ],
          "scatterpolargl": [
           {
            "marker": {
             "colorbar": {
              "outlinewidth": 0,
              "ticks": ""
             }
            },
            "type": "scatterpolargl"
           }
          ],
          "scatterternary": [
           {
            "marker": {
             "colorbar": {
              "outlinewidth": 0,
              "ticks": ""
             }
            },
            "type": "scatterternary"
           }
          ],
          "surface": [
           {
            "colorbar": {
             "outlinewidth": 0,
             "ticks": ""
            },
            "colorscale": [
             [
              0,
              "#0d0887"
             ],
             [
              0.1111111111111111,
              "#46039f"
             ],
             [
              0.2222222222222222,
              "#7201a8"
             ],
             [
              0.3333333333333333,
              "#9c179e"
             ],
             [
              0.4444444444444444,
              "#bd3786"
             ],
             [
              0.5555555555555556,
              "#d8576b"
             ],
             [
              0.6666666666666666,
              "#ed7953"
             ],
             [
              0.7777777777777778,
              "#fb9f3a"
             ],
             [
              0.8888888888888888,
              "#fdca26"
             ],
             [
              1,
              "#f0f921"
             ]
            ],
            "type": "surface"
           }
          ],
          "table": [
           {
            "cells": {
             "fill": {
              "color": "#EBF0F8"
             },
             "line": {
              "color": "white"
             }
            },
            "header": {
             "fill": {
              "color": "#C8D4E3"
             },
             "line": {
              "color": "white"
             }
            },
            "type": "table"
           }
          ]
         },
         "layout": {
          "annotationdefaults": {
           "arrowcolor": "#2a3f5f",
           "arrowhead": 0,
           "arrowwidth": 1
          },
          "autotypenumbers": "strict",
          "coloraxis": {
           "colorbar": {
            "outlinewidth": 0,
            "ticks": ""
           }
          },
          "colorscale": {
           "diverging": [
            [
             0,
             "#8e0152"
            ],
            [
             0.1,
             "#c51b7d"
            ],
            [
             0.2,
             "#de77ae"
            ],
            [
             0.3,
             "#f1b6da"
            ],
            [
             0.4,
             "#fde0ef"
            ],
            [
             0.5,
             "#f7f7f7"
            ],
            [
             0.6,
             "#e6f5d0"
            ],
            [
             0.7,
             "#b8e186"
            ],
            [
             0.8,
             "#7fbc41"
            ],
            [
             0.9,
             "#4d9221"
            ],
            [
             1,
             "#276419"
            ]
           ],
           "sequential": [
            [
             0,
             "#0d0887"
            ],
            [
             0.1111111111111111,
             "#46039f"
            ],
            [
             0.2222222222222222,
             "#7201a8"
            ],
            [
             0.3333333333333333,
             "#9c179e"
            ],
            [
             0.4444444444444444,
             "#bd3786"
            ],
            [
             0.5555555555555556,
             "#d8576b"
            ],
            [
             0.6666666666666666,
             "#ed7953"
            ],
            [
             0.7777777777777778,
             "#fb9f3a"
            ],
            [
             0.8888888888888888,
             "#fdca26"
            ],
            [
             1,
             "#f0f921"
            ]
           ],
           "sequentialminus": [
            [
             0,
             "#0d0887"
            ],
            [
             0.1111111111111111,
             "#46039f"
            ],
            [
             0.2222222222222222,
             "#7201a8"
            ],
            [
             0.3333333333333333,
             "#9c179e"
            ],
            [
             0.4444444444444444,
             "#bd3786"
            ],
            [
             0.5555555555555556,
             "#d8576b"
            ],
            [
             0.6666666666666666,
             "#ed7953"
            ],
            [
             0.7777777777777778,
             "#fb9f3a"
            ],
            [
             0.8888888888888888,
             "#fdca26"
            ],
            [
             1,
             "#f0f921"
            ]
           ]
          },
          "colorway": [
           "#636efa",
           "#EF553B",
           "#00cc96",
           "#ab63fa",
           "#FFA15A",
           "#19d3f3",
           "#FF6692",
           "#B6E880",
           "#FF97FF",
           "#FECB52"
          ],
          "font": {
           "color": "#2a3f5f"
          },
          "geo": {
           "bgcolor": "white",
           "lakecolor": "white",
           "landcolor": "#E5ECF6",
           "showlakes": true,
           "showland": true,
           "subunitcolor": "white"
          },
          "hoverlabel": {
           "align": "left"
          },
          "hovermode": "closest",
          "mapbox": {
           "style": "light"
          },
          "paper_bgcolor": "white",
          "plot_bgcolor": "#E5ECF6",
          "polar": {
           "angularaxis": {
            "gridcolor": "white",
            "linecolor": "white",
            "ticks": ""
           },
           "bgcolor": "#E5ECF6",
           "radialaxis": {
            "gridcolor": "white",
            "linecolor": "white",
            "ticks": ""
           }
          },
          "scene": {
           "xaxis": {
            "backgroundcolor": "#E5ECF6",
            "gridcolor": "white",
            "gridwidth": 2,
            "linecolor": "white",
            "showbackground": true,
            "ticks": "",
            "zerolinecolor": "white"
           },
           "yaxis": {
            "backgroundcolor": "#E5ECF6",
            "gridcolor": "white",
            "gridwidth": 2,
            "linecolor": "white",
            "showbackground": true,
            "ticks": "",
            "zerolinecolor": "white"
           },
           "zaxis": {
            "backgroundcolor": "#E5ECF6",
            "gridcolor": "white",
            "gridwidth": 2,
            "linecolor": "white",
            "showbackground": true,
            "ticks": "",
            "zerolinecolor": "white"
           }
          },
          "shapedefaults": {
           "line": {
            "color": "#2a3f5f"
           }
          },
          "ternary": {
           "aaxis": {
            "gridcolor": "white",
            "linecolor": "white",
            "ticks": ""
           },
           "baxis": {
            "gridcolor": "white",
            "linecolor": "white",
            "ticks": ""
           },
           "bgcolor": "#E5ECF6",
           "caxis": {
            "gridcolor": "white",
            "linecolor": "white",
            "ticks": ""
           }
          },
          "title": {
           "x": 0.05
          },
          "xaxis": {
           "automargin": true,
           "gridcolor": "white",
           "linecolor": "white",
           "ticks": "",
           "title": {
            "standoff": 15
           },
           "zerolinecolor": "white",
           "zerolinewidth": 2
          },
          "yaxis": {
           "automargin": true,
           "gridcolor": "white",
           "linecolor": "white",
           "ticks": "",
           "title": {
            "standoff": 15
           },
           "zerolinecolor": "white",
           "zerolinewidth": 2
          }
         }
        },
        "title": {
         "text": "HDBSCAN Clusters - UMAP Projection"
        },
        "xaxis": {
         "anchor": "y",
         "domain": [
          0,
          1
         ],
         "title": {
          "text": "umap_1"
         }
        },
        "yaxis": {
         "anchor": "x",
         "domain": [
          0,
          1
         ],
         "title": {
          "text": "umap_2"
         }
        }
       }
      }
     },
     "metadata": {},
     "output_type": "display_data"
    }
   ],
   "source": [
    "# Visualiza clusters encontrados\n",
    "fig = px.scatter(df, x=\"umap_1\", y=\"umap_2\",\n",
    "                 color=df[\"cluster_hdbscan\"].astype(str),\n",
    "                 hover_name=\"track_id\",\n",
    "                 title=\"HDBSCAN Clusters - UMAP Projection\")\n",
    "fig.show()\n"
   ]
  },
  {
   "cell_type": "code",
   "execution_count": 23,
   "id": "256ef4fb",
   "metadata": {},
   "outputs": [],
   "source": [
    "# Avalia os agrupamentos (ignorando outliers rotulados como -1)\n",
    "mask = df[\"cluster_hdbscan\"] != -1\n",
    "results[\"UMAP_hdbscan\"] = evaluate_embedding(df[[\"umap_1\", \"umap_2\"]][mask], df[\"cluster_hdbscan\"][mask])\n"
   ]
  },
  {
   "cell_type": "code",
   "execution_count": 24,
   "id": "0acf81d2",
   "metadata": {},
   "outputs": [
    {
     "data": {
      "text/html": [
       "<div>\n",
       "<style scoped>\n",
       "    .dataframe tbody tr th:only-of-type {\n",
       "        vertical-align: middle;\n",
       "    }\n",
       "\n",
       "    .dataframe tbody tr th {\n",
       "        vertical-align: top;\n",
       "    }\n",
       "\n",
       "    .dataframe thead th {\n",
       "        text-align: right;\n",
       "    }\n",
       "</style>\n",
       "<table border=\"1\" class=\"dataframe\">\n",
       "  <thead>\n",
       "    <tr style=\"text-align: right;\">\n",
       "      <th></th>\n",
       "      <th>Silhouette</th>\n",
       "      <th>Calinski-Harabasz</th>\n",
       "      <th>Davies-Bouldin</th>\n",
       "    </tr>\n",
       "  </thead>\n",
       "  <tbody>\n",
       "    <tr>\n",
       "      <th>PCA_country</th>\n",
       "      <td>-0.204</td>\n",
       "      <td>1.818</td>\n",
       "      <td>14.684</td>\n",
       "    </tr>\n",
       "    <tr>\n",
       "      <th>PCA_style</th>\n",
       "      <td>-0.293</td>\n",
       "      <td>3.073</td>\n",
       "      <td>11.965</td>\n",
       "    </tr>\n",
       "    <tr>\n",
       "      <th>tSNE_country</th>\n",
       "      <td>-0.221</td>\n",
       "      <td>1.598</td>\n",
       "      <td>4.958</td>\n",
       "    </tr>\n",
       "    <tr>\n",
       "      <th>tSNE_style</th>\n",
       "      <td>-0.315</td>\n",
       "      <td>1.394</td>\n",
       "      <td>8.320</td>\n",
       "    </tr>\n",
       "    <tr>\n",
       "      <th>UMAP_country</th>\n",
       "      <td>-0.197</td>\n",
       "      <td>1.866</td>\n",
       "      <td>6.484</td>\n",
       "    </tr>\n",
       "    <tr>\n",
       "      <th>UMAP_style</th>\n",
       "      <td>-0.351</td>\n",
       "      <td>2.625</td>\n",
       "      <td>7.417</td>\n",
       "    </tr>\n",
       "    <tr>\n",
       "      <th>PCA_kmeans</th>\n",
       "      <td>0.143</td>\n",
       "      <td>29.046</td>\n",
       "      <td>1.568</td>\n",
       "    </tr>\n",
       "    <tr>\n",
       "      <th>tSNE_kmeans</th>\n",
       "      <td>0.089</td>\n",
       "      <td>13.234</td>\n",
       "      <td>3.276</td>\n",
       "    </tr>\n",
       "    <tr>\n",
       "      <th>UMAP_kmeans</th>\n",
       "      <td>0.186</td>\n",
       "      <td>40.467</td>\n",
       "      <td>1.162</td>\n",
       "    </tr>\n",
       "    <tr>\n",
       "      <th>UMAP_hdbscan</th>\n",
       "      <td>0.485</td>\n",
       "      <td>61.826</td>\n",
       "      <td>0.767</td>\n",
       "    </tr>\n",
       "  </tbody>\n",
       "</table>\n",
       "</div>"
      ],
      "text/plain": [
       "              Silhouette  Calinski-Harabasz  Davies-Bouldin\n",
       "PCA_country       -0.204              1.818          14.684\n",
       "PCA_style         -0.293              3.073          11.965\n",
       "tSNE_country      -0.221              1.598           4.958\n",
       "tSNE_style        -0.315              1.394           8.320\n",
       "UMAP_country      -0.197              1.866           6.484\n",
       "UMAP_style        -0.351              2.625           7.417\n",
       "PCA_kmeans         0.143             29.046           1.568\n",
       "tSNE_kmeans        0.089             13.234           3.276\n",
       "UMAP_kmeans        0.186             40.467           1.162\n",
       "UMAP_hdbscan       0.485             61.826           0.767"
      ]
     },
     "execution_count": 24,
     "metadata": {},
     "output_type": "execute_result"
    }
   ],
   "source": [
    "# Atualiza o sumário\n",
    "summary = pd.DataFrame(results, index=[\"Silhouette\", \"Calinski-Harabasz\", \"Davies-Bouldin\"]).T\n",
    "summary = summary.round(3)\n",
    "summary\n"
   ]
  },
  {
   "cell_type": "code",
   "execution_count": null,
   "id": "8416f728",
   "metadata": {},
   "outputs": [],
   "source": []
  }
 ],
 "metadata": {
  "kernelspec": {
   "display_name": "Python 3",
   "language": "python",
   "name": "python3"
  },
  "language_info": {
   "codemirror_mode": {
    "name": "ipython",
    "version": 3
   },
   "file_extension": ".py",
   "mimetype": "text/x-python",
   "name": "python",
   "nbconvert_exporter": "python",
   "pygments_lexer": "ipython3",
   "version": "3.12.10"
  }
 },
 "nbformat": 4,
 "nbformat_minor": 5
}
